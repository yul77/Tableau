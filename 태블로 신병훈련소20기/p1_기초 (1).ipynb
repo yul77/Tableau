{
 "cells": [
  {
   "cell_type": "code",
   "execution_count": null,
   "id": "35f5fc12",
   "metadata": {},
   "outputs": [],
   "source": [
    "##  파이썬 기초"
   ]
  },
  {
   "cell_type": "markdown",
   "id": "ffe55ce6",
   "metadata": {},
   "source": [
    "# 파이썬 기초"
   ]
  },
  {
   "cell_type": "markdown",
   "id": "d921907b",
   "metadata": {},
   "source": [
    "# 우리 밥 어떻게 하지"
   ]
  },
  {
   "cell_type": "markdown",
   "id": "8defd4ac",
   "metadata": {},
   "source": [
    "## 파이썬 기초\n",
    "1. 문법\n",
    " - 문법이 쉽습니다\n",
    "2. 언어\n",
    " - 언어도 쉽습니다 \n",
    "3. 실습\n",
    " - 실습은 재미있습니다"
   ]
  },
  {
   "cell_type": "markdown",
   "id": "a6c30b97",
   "metadata": {},
   "source": [
    "#### 파이썬 이란\n",
    "- 1990년 암스테르담의 귀도 반 로섬(Guido Van Rossum)이 개발한 인터프리터 언어\n",
    "- 컴퓨터 프로그래밍 교육을 위해 많이 사용하지만, 기업의 실무를 위해서도 많이 사용하는 언어. 구글에서 만든 소프트웨어의 50%이상이 파이썬으로 작성\n",
    "\n",
    "#### 파이썬의 특징\n",
    "- 파이썬은 인간다운 언어이다\n",
    "- 파이썬은 문법이 쉬워 빠르게 배울 수 있다\n",
    "- 파이썬은 무료이지만 강력하다\n",
    "- 파이썬은 간결하다\n",
    "- 파이썬은 프로그래밍을 즐기게 해준다\n",
    "- 파이썬은 개발 속도가 빠르다\n",
    "\n",
    "#### 파이썬으로 할 수 있는 일\n",
    "- 시스템 유틸리티 제작\n",
    "- GUI 프로그래밍\n",
    "- C/C++와의 결합\n",
    "- 웹 프로그래밍\n",
    "- 수치 연산 프로그래밍\n",
    "- 데이터베이스 프로그래밍\n",
    "- 데이터 분석, 사물 인터넷\n",
    "\n",
    "#### 참조\n",
    "- 표현식 : 어떠한 값을 만들어 내는 간단한 코드. 273, 10 + 20 + 30, \"Python Programming\"\n",
    "- 문장 : 표현식이 하나 이상 모이면 문장. print(\"Hello\")\n",
    "- 프로그램 : 문장이 모여서 프로그램\n",
    "- 식별자 : 프로그램밍 언어에서 이름을 붙일 때 사용하는 단어. 주로 변수 또는 함수 이름 등으로 사용\n",
    "- 주석 : 프로그램을 설명하기 위해 사용. # 기호로 주석 처리\n",
    "- 연산자 : 스스로 값이 되는 것이 아니고 값과 값 사이에 무언가 기능을 적용할 때 사용\n",
    "- 자료 : 리터럴이라고 하는데 숫자이든 문자이든 어떠한 값 자체를 의미. 1, 10, \"Hello\"\n",
    "- 키워드 : 파이썬이 만들어질 때 이미 사용하겠다고 예약해 놓는 것. False, None, True, ...\n",
    "- 프로그램밍 언어에서 사용자가 이름을 정할 때 키워드는 사용할 수 없음"
   ]
  },
  {
   "cell_type": "code",
   "execution_count": null,
   "id": "66e5dd02",
   "metadata": {},
   "outputs": [],
   "source": []
  },
  {
   "cell_type": "code",
   "execution_count": 13,
   "id": "749e4bcd",
   "metadata": {},
   "outputs": [
    {
     "name": "stdout",
     "output_type": "stream",
     "text": [
      "Python 3.9.13\n"
     ]
    }
   ],
   "source": [
    "!python -V"
   ]
  },
  {
   "cell_type": "code",
   "execution_count": 15,
   "id": "889207f8",
   "metadata": {},
   "outputs": [
    {
     "name": "stdout",
     "output_type": "stream",
     "text": [
      "273\n"
     ]
    },
    {
     "data": {
      "text/plain": [
       "60"
      ]
     },
     "execution_count": 15,
     "metadata": {},
     "output_type": "execute_result"
    }
   ],
   "source": [
    "# 표현식\n",
    "print(273)\n",
    "10+20+30"
   ]
  },
  {
   "cell_type": "code",
   "execution_count": null,
   "id": "9317d768",
   "metadata": {},
   "outputs": [],
   "source": []
  },
  {
   "cell_type": "code",
   "execution_count": 16,
   "id": "83ad2e7e",
   "metadata": {},
   "outputs": [
    {
     "name": "stdout",
     "output_type": "stream",
     "text": [
      "Hello Python\n",
      "52 Hello Python 8\n"
     ]
    }
   ],
   "source": [
    "# 표현식이 하나 이상씩 모이면 문장\n",
    "print(\"Hello Python\")\n",
    "print(52, 'Hello Python',5+3)"
   ]
  },
  {
   "cell_type": "code",
   "execution_count": null,
   "id": "189b5d23",
   "metadata": {},
   "outputs": [],
   "source": []
  },
  {
   "cell_type": "code",
   "execution_count": 17,
   "id": "98d8c39e",
   "metadata": {},
   "outputs": [
    {
     "name": "stdout",
     "output_type": "stream",
     "text": [
      "2\n"
     ]
    }
   ],
   "source": [
    "# 문장이 모여서 프로그램\n",
    "a = 1;b = 1;c=a+b\n",
    "print(c)"
   ]
  },
  {
   "cell_type": "code",
   "execution_count": 4,
   "id": "2381b9fb",
   "metadata": {},
   "outputs": [
    {
     "name": "stdout",
     "output_type": "stream",
     "text": [
      "['False', 'None', 'True', '__peg_parser__', 'and', 'as', 'assert', 'async', 'await', 'break', 'class', 'continue', 'def', 'del', 'elif', 'else', 'except', 'finally', 'for', 'from', 'global', 'if', 'import', 'in', 'is', 'lambda', 'nonlocal', 'not', 'or', 'pass', 'raise', 'return', 'try', 'while', 'with', 'yield'] \n",
      "\n",
      "36\n"
     ]
    }
   ],
   "source": [
    "# Python Keyword\n",
    "import keyword #imprt:가져오겠다(설치 안해도 되는 기본 변수,함수들 불러들이는 용도)\n",
    "print(keyword.kwlist,'\\n')\n",
    "print(len(keyword.kwlist))\n",
    "#키워드가 아니라 키워드리스트를 불러들이는 것. 키워드는 식별자로 사용x"
   ]
  },
  {
   "cell_type": "code",
   "execution_count": null,
   "id": "0e5136d4",
   "metadata": {},
   "outputs": [],
   "source": []
  },
  {
   "cell_type": "markdown",
   "id": "a91e7225",
   "metadata": {},
   "source": [
    "식별자 기본 규칙 : 식별자는 코드 내의 변수, 함수 혹은 속성을 식별하는 문자열\n",
    " - 키워드(용어)를 사용하면 안된다.\n",
    " - 특수문자는 언더바(_) 만 사용한다. \n",
    " - 숫자로 시작하면 안된다.\n",
    " - 공백을 포함할 수 없다."
   ]
  },
  {
   "cell_type": "markdown",
   "id": "7bbfe4d0",
   "metadata": {},
   "source": [
    "https://bibi6666667.tistory.com/277 <br>파이썬은 snake_case와 CamelCase를 모두 사용\n",
    "    \n",
    "    - itemlist item_list ItemList\n",
    "    - loginstatus login_status LoginStatus\n",
    "    - 캐멀 케이스(대문자로 시작) 클래스 -myHost (낙타같이 생김)\n",
    "    - 스네이크 케이스(소문자로 시작) 뒤에 ()가 있다 - 함수\n",
    "    - 스네이크 케이스(소문자로 시작) 뒤에 ()가 없다 - 변수 (뱀 꼬리같이 생김)\n",
    "    - 파스칼 케이스(대문자로 시작)- MyHost"
   ]
  },
  {
   "cell_type": "code",
   "execution_count": null,
   "id": "11d71115",
   "metadata": {},
   "outputs": [],
   "source": [
    "패키지>모듈>=클래스>함수(매써드:함수의 기능을 하게 하는것)>내장함수(설치x),\n",
    "외장함수(import필요, 도트(.)사용)\n"
   ]
  },
  {
   "cell_type": "markdown",
   "id": "df18b0e3",
   "metadata": {},
   "source": [
    "2진수,8진수,16진수의 모든것(<br>\n",
    "https://itbeginner2020.tistory.com/17<br>\n",
    "<br>\n",
    "2진수, 8진수, 16진수의 데이터 표현 방법\n",
    "- 우리가 프로그래밍을 하면서 변수에 어떤 값을 저장할 때 10진수는 일상적 표현을 그대로 대입한다.\n",
    "예를들어 15를 저장하고 싶다면 int a= 15; 와 같이 15라는 숫자를 그대로 대입하면 된다.\n",
    "하지만 2진수, 8진수, 16진수는 표현법이 따로 정해져있다.\n",
    "\n",
    "\n",
    "- 2진수는 대입하고자 하는 값 앞에 0b를 붙인다. (숫자0과 영문자b)\n",
    "\n",
    "- 8진수는 대입하고자 하는 값 앞에 0 을 붙인다. (숫자0 영문자o)\n",
    "\n",
    "- 16진수는 대입하고자 하는 값 앞에 0x 를 붙인다. (숫자0과 영문자x)\n",
    "<br>\n",
    "아래의 예시를 보자. 변수 a,b,c,d 는 모두 10진수 122 이라는 값을 저장하는 코드이다.\n",
    "<br>\n",
    "122는\n",
    "\n",
    "- 2진수로 1111010\n",
    "- 8진수로 172\n",
    "- 16진수로 7A 이다."
   ]
  },
  {
   "cell_type": "code",
   "execution_count": 58,
   "id": "5e686f8b",
   "metadata": {},
   "outputs": [
    {
     "name": "stdout",
     "output_type": "stream",
     "text": [
      "122\n",
      "122\n",
      "122\n"
     ]
    }
   ],
   "source": [
    "a=0o172 #8진수 0o로 시작\n",
    "b=0x7a #16진수 0x로 시작\n",
    "c=0b1111010 #2진수 0b로 시작\n",
    "(print(a))\n",
    "(print(b))\n",
    "(print(c))"
   ]
  },
  {
   "cell_type": "code",
   "execution_count": 64,
   "id": "48f1bb9d",
   "metadata": {},
   "outputs": [
    {
     "name": "stdout",
     "output_type": "stream",
     "text": [
      "123\n",
      "-123\n",
      "0\n",
      "1.23\n",
      "127\n",
      "2748\n",
      "42\n"
     ]
    }
   ],
   "source": [
    "#파이썬 자료형- 숫자형(정수,실수,8진수,16진수)\n",
    "a=123\n",
    "b=-123\n",
    "c=0\n",
    "d=1.23\n",
    "e=0o177 #8진수 0o으로 시작\n",
    "f=0xabc #16진수 0x로 시작\n",
    "g=0b101010 #2진수 0b로 시작\n",
    "\n",
    "print(a)\n",
    "print(b)\n",
    "print(c)\n",
    "print(d)\n",
    "print(e)\n",
    "print(f)\n",
    "print(g)"
   ]
  },
  {
   "cell_type": "code",
   "execution_count": 66,
   "id": "5de499f2",
   "metadata": {},
   "outputs": [
    {
     "name": "stdout",
     "output_type": "stream",
     "text": [
      "32\n",
      "8\n",
      "2\n"
     ]
    }
   ],
   "source": [
    "#2진수를 10진수로 표현\n",
    "g1=0b100000\n",
    "g2=0b1000\n",
    "g3=0b10\n",
    "print(g1)\n",
    "print(g2)\n",
    "print(g3)"
   ]
  },
  {
   "cell_type": "code",
   "execution_count": null,
   "id": "48a30268",
   "metadata": {},
   "outputs": [],
   "source": []
  },
  {
   "cell_type": "code",
   "execution_count": null,
   "id": "a63d5998",
   "metadata": {},
   "outputs": [],
   "source": []
  },
  {
   "cell_type": "code",
   "execution_count": null,
   "id": "f224c2ac",
   "metadata": {},
   "outputs": [],
   "source": []
  },
  {
   "cell_type": "code",
   "execution_count": 27,
   "id": "5c45c28c",
   "metadata": {},
   "outputs": [
    {
     "name": "stdout",
     "output_type": "stream",
     "text": [
      "3이 있습니다.\n"
     ]
    }
   ],
   "source": [
    "print(\"3이 있습니다.\")"
   ]
  },
  {
   "cell_type": "code",
   "execution_count": 29,
   "id": "f8c10130",
   "metadata": {},
   "outputs": [
    {
     "name": "stdout",
     "output_type": "stream",
     "text": [
      "3이 있습니다\n"
     ]
    }
   ],
   "source": [
    "if 3 in [1,2,3,4,]: print('3이 있습니다')"
   ]
  },
  {
   "cell_type": "code",
   "execution_count": 31,
   "id": "c4662198",
   "metadata": {},
   "outputs": [
    {
     "name": "stdout",
     "output_type": "stream",
     "text": [
      "8\n"
     ]
    }
   ],
   "source": [
    "#사칙연산\n",
    "a = 10\n",
    "b = 2\n",
    "c = a+b\n",
    "d = a*b\n",
    "e = a/b\n",
    "f = a%b #나머지\n",
    "g = a//b #몫\n",
    "h = 2**3 #제곱\n",
    "print(h)"
   ]
  },
  {
   "cell_type": "code",
   "execution_count": 33,
   "id": "9336b8d1",
   "metadata": {},
   "outputs": [
    {
     "name": "stdout",
     "output_type": "stream",
     "text": [
      "0.15\n",
      "0\n",
      "8\n"
     ]
    }
   ],
   "source": [
    "a=3\n",
    "b=20\n",
    "c = a+b\n",
    "d = a*b\n",
    "e = a/b\n",
    "f = a%b \n",
    "g = a//b \n",
    "h = 2**3\n",
    "print(e)\n",
    "print(g)\n",
    "print(h)"
   ]
  },
  {
   "cell_type": "code",
   "execution_count": 34,
   "id": "39862324",
   "metadata": {},
   "outputs": [
    {
     "ename": "NameError",
     "evalue": "name 'sting' is not defined",
     "output_type": "error",
     "traceback": [
      "\u001b[1;31m---------------------------------------------------------------------------\u001b[0m",
      "\u001b[1;31mNameError\u001b[0m                                 Traceback (most recent call last)",
      "\u001b[1;32m~\\AppData\\Local\\Temp\\ipykernel_11828\\2685277401.py\u001b[0m in \u001b[0;36m<module>\u001b[1;34m\u001b[0m\n\u001b[0;32m      2\u001b[0m \u001b[0mstring\u001b[0m \u001b[1;33m=\u001b[0m\u001b[1;34m\"문자열\"\u001b[0m\u001b[1;33m\u001b[0m\u001b[1;33m\u001b[0m\u001b[0m\n\u001b[0;32m      3\u001b[0m \u001b[0mnumber\u001b[0m \u001b[1;33m=\u001b[0m \u001b[1;36m273\u001b[0m\u001b[1;33m\u001b[0m\u001b[1;33m\u001b[0m\u001b[0m\n\u001b[1;32m----> 4\u001b[1;33m \u001b[0msting\u001b[0m\u001b[1;33m+\u001b[0m\u001b[0mnumber\u001b[0m\u001b[1;33m\u001b[0m\u001b[1;33m\u001b[0m\u001b[0m\n\u001b[0m",
      "\u001b[1;31mNameError\u001b[0m: name 'sting' is not defined"
     ]
    }
   ],
   "source": [
    "#다른 타입간 연산은 안됨\n",
    "string =\"문자열\"\n",
    "number = 273\n",
    "sting+number"
   ]
  },
  {
   "cell_type": "code",
   "execution_count": 35,
   "id": "44584bf7",
   "metadata": {},
   "outputs": [
    {
     "name": "stdout",
     "output_type": "stream",
     "text": [
      "<class 'str'>\n"
     ]
    },
    {
     "data": {
      "text/plain": [
       "int"
      ]
     },
     "execution_count": 35,
     "metadata": {},
     "output_type": "execute_result"
    }
   ],
   "source": [
    "print(type(string))\n",
    "type(number)"
   ]
  },
  {
   "cell_type": "code",
   "execution_count": 40,
   "id": "587c39a6",
   "metadata": {},
   "outputs": [
    {
     "name": "stdout",
     "output_type": "stream",
     "text": [
      "100\n"
     ]
    },
    {
     "data": {
      "text/plain": [
       "int"
      ]
     },
     "execution_count": 40,
     "metadata": {},
     "output_type": "execute_result"
    }
   ],
   "source": [
    "a= 10 \n",
    "a= \"문자\"\n",
    "a= 100\n",
    "print(a)\n",
    "type(a)"
   ]
  },
  {
   "cell_type": "markdown",
   "id": "9416994d",
   "metadata": {},
   "source": [
    "## 파이썬 기초"
   ]
  },
  {
   "cell_type": "code",
   "execution_count": 48,
   "id": "60d6f381",
   "metadata": {},
   "outputs": [
    {
     "data": {
      "text/plain": [
       "200"
      ]
     },
     "execution_count": 48,
     "metadata": {},
     "output_type": "execute_result"
    }
   ],
   "source": [
    "#복합대입연산자\n",
    "num = 10\n",
    "num += 10 #num(10)+10=20\n",
    "num *= 10 #num(20)*10=200\n",
    "num#그러므로 num은 200"
   ]
  },
  {
   "cell_type": "code",
   "execution_count": 43,
   "id": "45c0a3d6",
   "metadata": {},
   "outputs": [
    {
     "name": "stdout",
     "output_type": "stream",
     "text": [
      "1.0\n",
      "<class 'float'>\n"
     ]
    }
   ],
   "source": [
    "num = 100\n",
    "num *= 10\n",
    "num -= 990\n",
    "num /= 10\n",
    "print(num)\n",
    "print(type(num))"
   ]
  },
  {
   "cell_type": "code",
   "execution_count": 25,
   "id": "417d4b2d",
   "metadata": {},
   "outputs": [
    {
     "data": {
      "text/plain": [
       "'오늘먹은돈까스는맛없었다.'"
      ]
     },
     "execution_count": 25,
     "metadata": {},
     "output_type": "execute_result"
    }
   ],
   "source": [
    "#문자연산\n",
    "a = \"오늘\"\n",
    "b = \"먹은\"\n",
    "c = \"돈까스는\"\n",
    "d = \"맛없었다.\"\n",
    "a+b+c+d"
   ]
  },
  {
   "cell_type": "code",
   "execution_count": 47,
   "id": "7d683626",
   "metadata": {},
   "outputs": [
    {
     "data": {
      "text/plain": [
       "'파이썬3.8'"
      ]
     },
     "execution_count": 47,
     "metadata": {},
     "output_type": "execute_result"
    }
   ],
   "source": [
    "a = \"파이썬\"\n",
    "b = '3.8' #'따옴표가 들어가면 문자로 인식한다. 문자와 숫자로는 연산불가\n",
    "a+b"
   ]
  },
  {
   "cell_type": "code",
   "execution_count": 49,
   "id": "0f982d15",
   "metadata": {},
   "outputs": [
    {
     "name": "stdout",
     "output_type": "stream",
     "text": [
      "인사말을 입력하세요:안녕하세요\n"
     ]
    },
    {
     "data": {
      "text/plain": [
       "'안녕하세요'"
      ]
     },
     "execution_count": 49,
     "metadata": {},
     "output_type": "execute_result"
    }
   ],
   "source": [
    "#사용자 입력\n",
    "input('인사말을 입력하세요:')"
   ]
  },
  {
   "cell_type": "code",
   "execution_count": 195,
   "id": "1f76d03b",
   "metadata": {},
   "outputs": [
    {
     "name": "stdout",
     "output_type": "stream",
     "text": [
      "숫자를 입력하세요: 2\n",
      "2\n"
     ]
    },
    {
     "data": {
      "text/plain": [
       "str"
      ]
     },
     "execution_count": 195,
     "metadata": {},
     "output_type": "execute_result"
    }
   ],
   "source": [
    "num=input('숫자를 입력하세요: ')\n",
    "print(num)\n",
    "type(num)"
   ]
  },
  {
   "cell_type": "code",
   "execution_count": null,
   "id": "92c488b2",
   "metadata": {},
   "outputs": [],
   "source": []
  },
  {
   "cell_type": "code",
   "execution_count": null,
   "id": "2d5e3961",
   "metadata": {},
   "outputs": [],
   "source": [
    "num = input('숫자를 입력하세요: ')\n",
    "print(num)\n",
    "type(num)"
   ]
  },
  {
   "cell_type": "code",
   "execution_count": null,
   "id": "a841a342",
   "metadata": {},
   "outputs": [],
   "source": [
    "num1=input('숫자를 입력하세요')\n",
    "num2=input('숫자를 입력하세요')\n",
    "print(num1+num2)\n",
    "# NUM과 = 사이에 띄어쓰기하면 오류남. 검전똥그라미 생기면 그 뒤로 다 막힘. 그럴때 KEMEL들어가서 INTERRUPT 누르면 풀림"
   ]
  },
  {
   "cell_type": "code",
   "execution_count": 67,
   "id": "7e26e3d5",
   "metadata": {},
   "outputs": [
    {
     "name": "stdout",
     "output_type": "stream",
     "text": [
      "숫자를 입력하세요10\n",
      "숫자를 입력하세요10\n",
      "20\n"
     ]
    }
   ],
   "source": [
    "#input()함수를 사용하면 숫자도 문자로 전환되어 숫자연산을 위한 젼환 필요\n",
    "num1=input('숫자를 입력하세요')\n",
    "num1_n=int(num1)\n",
    "num2=input('숫자를 입력하세요')\n",
    "num2_n=int(num2)\n",
    "print(num1_n+num2_n)"
   ]
  },
  {
   "cell_type": "code",
   "execution_count": null,
   "id": "31aa8322",
   "metadata": {},
   "outputs": [],
   "source": []
  },
  {
   "cell_type": "code",
   "execution_count": null,
   "id": "7cd4f752",
   "metadata": {},
   "outputs": [],
   "source": []
  },
  {
   "cell_type": "code",
   "execution_count": null,
   "id": "5a56408d",
   "metadata": {},
   "outputs": [],
   "source": []
  },
  {
   "cell_type": "code",
   "execution_count": 55,
   "id": "124494b7",
   "metadata": {},
   "outputs": [],
   "source": [
    "# Q. 3과 3.3을 입력하고 숫자 연산을 수행하여 6.3울 츌력하세요"
   ]
  },
  {
   "cell_type": "code",
   "execution_count": 57,
   "id": "f3678712",
   "metadata": {},
   "outputs": [
    {
     "name": "stdout",
     "output_type": "stream",
     "text": [
      "숫자를 입력하세요3\n",
      "숫자를 입력하세요3.3\n",
      "6.3\n"
     ]
    }
   ],
   "source": [
    "# A\n",
    "num1=input('숫자를 입력하세요')\n",
    "num1_n=int(num1)\n",
    "num2=input('숫자를 입력하세요')\n",
    "num2_n=float(num2)\n",
    "print(num1_n+num2_n)\n",
    "#print(num1+num2)"
   ]
  },
  {
   "cell_type": "code",
   "execution_count": 59,
   "id": "13c6dcf4",
   "metadata": {},
   "outputs": [],
   "source": [
    "# Q. a=52와 b=52.273일때 a+b는 5252.273으로 출력되도록 a와 b를 문자열 \n",
    "# 자료평으로 변환하세요."
   ]
  },
  {
   "cell_type": "code",
   "execution_count": 60,
   "id": "6c4cd0da",
   "metadata": {},
   "outputs": [
    {
     "name": "stdout",
     "output_type": "stream",
     "text": [
      "5252.273\n"
     ]
    }
   ],
   "source": [
    "#A\n",
    "a=52\n",
    "b=52.273\n",
    "print(str(a)+str(b))"
   ]
  },
  {
   "cell_type": "code",
   "execution_count": 27,
   "id": "d75d42ac",
   "metadata": {},
   "outputs": [
    {
     "name": "stdout",
     "output_type": "stream",
     "text": [
      "python's value is great\n"
     ]
    }
   ],
   "source": [
    "#문자열 : \"\",'',\"\"\"\"\"\",''''''\n",
    "p1=\"python's value is great\"\n",
    "#p2='python's value is great'\n",
    "print(p1)"
   ]
  },
  {
   "cell_type": "code",
   "execution_count": 68,
   "id": "046fd1ed",
   "metadata": {},
   "outputs": [
    {
     "data": {
      "text/plain": [
       "'\"python is valuable\" he says'"
      ]
     },
     "execution_count": 68,
     "metadata": {},
     "output_type": "execute_result"
    }
   ],
   "source": [
    "s1='\"python is valuable\" he says'\n",
    "s1"
   ]
  },
  {
   "cell_type": "code",
   "execution_count": 70,
   "id": "b546d8b8",
   "metadata": {},
   "outputs": [
    {
     "data": {
      "text/plain": [
       "\"python's valuable is great \""
      ]
     },
     "execution_count": 70,
     "metadata": {},
     "output_type": "execute_result"
    }
   ],
   "source": [
    "s2='python\\'s valuable is great '\n",
    "s2\n",
    "# \\을 따옴표 앞에 붙이면 문자로 인식한다"
   ]
  },
  {
   "cell_type": "code",
   "execution_count": null,
   "id": "64aee0a9",
   "metadata": {},
   "outputs": [],
   "source": [
    "s2='python\\'s valuable is great '\n",
    "s2"
   ]
  },
  {
   "cell_type": "code",
   "execution_count": 79,
   "id": "8ad9347b",
   "metadata": {},
   "outputs": [
    {
     "name": "stdout",
     "output_type": "stream",
     "text": [
      "Once you study data analysis\n",
      "You need Python\n",
      "Once you study data analysis \n",
      "You need Python\n",
      "Once you study data analysis \n",
      "You need Python\n"
     ]
    }
   ],
   "source": [
    "y1=\"Once you study data analysis\\nYou need Python\" # \\n 대행을 해주는 이스케이프 문자\n",
    "print(y1)\n",
    "y2='''Once you study data analysis \n",
    "You need Python'''\n",
    "print(y2)\n",
    "y3=\"\"\"Once you study data analysis \n",
    "You need Python\"\"\"\n",
    "print(y3)\n"
   ]
  },
  {
   "cell_type": "code",
   "execution_count": 74,
   "id": "cbf3289e",
   "metadata": {},
   "outputs": [
    {
     "name": "stdout",
     "output_type": "stream",
     "text": [
      "Pythonis easy to learn\n",
      "PythonPythonPython\n",
      "====================\n"
     ]
    }
   ],
   "source": [
    "#문자열 연산\n",
    "a1='Python'\n",
    "a2='is easy to learn'\n",
    "print(a1+a2)\n",
    "print(a1*3)\n",
    "print(\"=\"*20)"
   ]
  },
  {
   "cell_type": "code",
   "execution_count": 80,
   "id": "1eb5b473",
   "metadata": {},
   "outputs": [
    {
     "name": "stdout",
     "output_type": "stream",
     "text": [
      "[1, 'a', 'abc', [1, 2, 3, 4, 5], ['a', 'b', 'c']]\n"
     ]
    }
   ],
   "source": [
    "#자료형 - List\n",
    "#이스트는 []로 표시하며 []안의 요소를 콤마로 구분하여 순서있게 나열\n",
    "list1=[1,2,3,4,5]\n",
    "list2=['a','b','c']\n",
    "list3=[1,'a','abc',[1,2,3,4,5],['a','b','c']]\n",
    "print(list3)"
   ]
  },
  {
   "cell_type": "code",
   "execution_count": null,
   "id": "2380fea0",
   "metadata": {},
   "outputs": [],
   "source": [
    "#인덱스는 0부터 시작한다 \n",
    "2번을 뽑고 싶으면 리스트1의 1을 입력하면 '2'를 추출할 수 있다."
   ]
  },
  {
   "cell_type": "code",
   "execution_count": null,
   "id": "6d2709bb",
   "metadata": {},
   "outputs": [],
   "source": [
    "#인덱싱\n",
    "list1=[1,2,3,4,5]\n",
    "list1[:] #전체출력 \n",
    "list3[2] #해당 인덱스의 값을 출력\n",
    "list3[3][4] #리스트안에 리스트가 있음을 뜻함 : 3번재 인덱스 안게 4번째 인덱스\n",
    "list3[4][1]"
   ]
  },
  {
   "cell_type": "code",
   "execution_count": 81,
   "id": "bbc3f1f0",
   "metadata": {},
   "outputs": [
    {
     "data": {
      "text/plain": [
       "3"
      ]
     },
     "execution_count": 81,
     "metadata": {},
     "output_type": "execute_result"
    }
   ],
   "source": [
    "list1[2]"
   ]
  },
  {
   "cell_type": "code",
   "execution_count": 82,
   "id": "5a528107",
   "metadata": {},
   "outputs": [
    {
     "data": {
      "text/plain": [
       "[1, 2, 3, 4, 5]"
      ]
     },
     "execution_count": 82,
     "metadata": {},
     "output_type": "execute_result"
    }
   ],
   "source": [
    "#인덱싱:0부터 시작\n",
    "list1=[1,2,3,4,5]\n",
    "list1[:]"
   ]
  },
  {
   "cell_type": "code",
   "execution_count": 84,
   "id": "df477a01",
   "metadata": {},
   "outputs": [
    {
     "name": "stdout",
     "output_type": "stream",
     "text": [
      "abc\n",
      "5\n",
      "b\n"
     ]
    }
   ],
   "source": [
    "list3=[1,'a','abc',[1,2,3,4,5],['a','b','c']]\n",
    "print(list3[2])\n",
    "print(list3[3][4]) #3번째 묶음중 4번째 \n",
    "print(list3[4][1]) #4번째 묶음 중 1번째"
   ]
  },
  {
   "cell_type": "code",
   "execution_count": 85,
   "id": "7a303a32",
   "metadata": {},
   "outputs": [
    {
     "name": "stdout",
     "output_type": "stream",
     "text": [
      "[1, 1, 2, 3, 4, 5, 6, 7, 8, 9]\n",
      "['a', 'a', 'c']\n",
      "['a', 'c']\n"
     ]
    }
   ],
   "source": [
    "#리스트 수정, 삭제\n",
    "a=[0,1,2,3,4,5,6,7,8,9]\n",
    "b=['a','b','c']\n",
    "a[0]=1\n",
    "b[1]='a'\n",
    "print(a)\n",
    "print(b)\n",
    "del b[1]\n",
    "print(b)"
   ]
  },
  {
   "cell_type": "code",
   "execution_count": 87,
   "id": "166f3c25",
   "metadata": {},
   "outputs": [
    {
     "name": "stdout",
     "output_type": "stream",
     "text": [
      "[0, 1, 2, 3, 4, 5, 6, 7, 8, 9, 'a', 'b', 'c']\n"
     ]
    },
    {
     "data": {
      "text/plain": [
       "[0, 1, 2, 3, 4, 5, 6, 7, 8, 9, 'a', 'b', 1]"
      ]
     },
     "execution_count": 87,
     "metadata": {},
     "output_type": "execute_result"
    }
   ],
   "source": [
    "a=[0,1,2,3,4,5,6,7,8,9]\n",
    "b=['a','b','c']\n",
    "c=a+b\n",
    "print(c)\n",
    "c[-1]=1\n",
    "c"
   ]
  },
  {
   "cell_type": "code",
   "execution_count": 89,
   "id": "34e6f66b",
   "metadata": {},
   "outputs": [
    {
     "data": {
      "text/plain": [
       "[0, 1, 2, 3, 4, 5, 6, 7, 8, 9, 'a', 2, 1]"
      ]
     },
     "execution_count": 89,
     "metadata": {},
     "output_type": "execute_result"
    }
   ],
   "source": [
    "c[-2]=2\n",
    "c"
   ]
  },
  {
   "cell_type": "code",
   "execution_count": 15,
   "id": "a137dcf2",
   "metadata": {},
   "outputs": [
    {
     "name": "stdout",
     "output_type": "stream",
     "text": [
      "[1, 2, 3, 4]\n",
      "[4, 3, 2, 1]\n"
     ]
    }
   ],
   "source": [
    "#정렬\n",
    "b=[2,4,3,1] #sort.기존 리스트인 b가 바뀐다\n",
    "b.sort()\n",
    "print(b)\n",
    "#내림차순\n",
    "b.sort(reverse=True) #역으로 sort하라.\n",
    "print(b)"
   ]
  },
  {
   "cell_type": "code",
   "execution_count": 16,
   "id": "949efd2f",
   "metadata": {},
   "outputs": [
    {
     "name": "stdout",
     "output_type": "stream",
     "text": [
      "[4, 3, 2, 1]\n",
      "[1, 3, 4, 2]\n"
     ]
    }
   ],
   "source": [
    "b=[2,4,3,1]  #sortead는 기존 리스트인 b가 유지됨\n",
    "b_d=sorted(b,reverse=True) #b_d에 역순으로 저장, True대신 1도 가능 \n",
    "print(b_d)\n",
    "\n",
    "b.reverse() #그냥 리버스만 쓰는건 sort의 개념과는 다르다. 리버스는 기존리스트의 순서만 바꾸는것. 정렬x\n",
    "print(b_d)"
   ]
  },
  {
   "cell_type": "code",
   "execution_count": 92,
   "id": "141dd271",
   "metadata": {},
   "outputs": [
    {
     "name": "stdout",
     "output_type": "stream",
     "text": [
      "[1, 1, 1, 2, 2, 3, 4, 5, 6, 7, 8, 9]\n",
      "[9, 8, 7, 6, 5, 4, 3, 2, 2, 1, 1, 1]\n",
      "[9, 8, 7, 6, 5, 4, 3, 2, 2, 1, 1, 1]\n"
     ]
    }
   ],
   "source": [
    "#정렬, 내림차순 변환\n",
    "s=[1,1,2,3,4,5,6,7,8,9,2,1]\n",
    "s.sort()\n",
    "print(s)\n",
    "s_d=sorted(s,reverse=True)\n",
    "print(s_d)\n",
    "s.reverse()\n",
    "print(s)"
   ]
  },
  {
   "cell_type": "code",
   "execution_count": 104,
   "id": "a5960b5b",
   "metadata": {},
   "outputs": [
    {
     "name": "stdout",
     "output_type": "stream",
     "text": [
      "1\n"
     ]
    }
   ],
   "source": [
    "#인덱스 위치 반환 (인덱스 값 출력)\n",
    "c=[1,2,3,1,5]\n",
    "print(c.index(2))"
   ]
  },
  {
   "cell_type": "code",
   "execution_count": 8,
   "id": "f972da1f",
   "metadata": {},
   "outputs": [
    {
     "data": {
      "text/plain": [
       "array([29, 11, 94, 97, 68])"
      ]
     },
     "execution_count": 8,
     "metadata": {},
     "output_type": "execute_result"
    }
   ],
   "source": [
    "import numpy as np #넘파이를 축약해서 np로 부르겠다고 import할때 정함, random=클래스\n",
    "\n",
    "np.random.randint(100,size=5) #100미만의 수 중 5개의 정수를 뽑아줘 (랜덤이라 중복수 있을 수 있음)\n",
    "# np.random.randint(5,size=100) 역으로도 가능. 5개 미만의 수를 랜덤하게 100개 뽑아냄\n"
   ]
  },
  {
   "cell_type": "code",
   "execution_count": 101,
   "id": "876c9904",
   "metadata": {},
   "outputs": [
    {
     "name": "stdout",
     "output_type": "stream",
     "text": [
      "[58, 30, 16, 27, 22, 80, 74, 85, 92, 91, 51, 98, 4, 19, 24, 13, 1, 62, 34, 50, 18, 71, 19, 28, 60, 71, 86, 30, 9, 88, 94, 62, 91, 58, 24, 64, 37, 14, 84, 69, 96, 79, 55, 31, 61, 12, 41, 49, 39, 30, 40, 24, 26, 20, 34, 47, 2, 98, 31, 70, 31, 38, 87, 78, 46, 30, 3, 75, 83, 15, 62, 58, 19, 0, 42, 26, 91, 56, 82, 19, 18, 93, 20, 89, 31, 18, 62, 65, 90, 12, 70, 57, 9, 25, 90, 58, 23, 31, 32, 40]\n",
      "100\n"
     ]
    },
    {
     "data": {
      "text/plain": [
       "16"
      ]
     },
     "execution_count": 101,
     "metadata": {},
     "output_type": "execute_result"
    }
   ],
   "source": [
    "#tolist() 배열 뽑은걸 리스트로 변환\n",
    "import numpy as np\n",
    "c=np.random.randint(100,size=100).tolist() \n",
    "print(c)\n",
    "print(len(c))\n",
    "c.index(1) #1의 인덱스 . 랜덤이라 1이 있을 수 있고 없을 수 있음. 매번 다른 수가 나온다"
   ]
  },
  {
   "cell_type": "code",
   "execution_count": 105,
   "id": "9f22d003",
   "metadata": {},
   "outputs": [
    {
     "name": "stdout",
     "output_type": "stream",
     "text": [
      "3\n"
     ]
    }
   ],
   "source": [
    "#개수반환\n",
    "a=[1,1,2,2,3,3,3,4,5,5,5,]\n",
    "print(a.count(5))"
   ]
  },
  {
   "cell_type": "code",
   "execution_count": 13,
   "id": "3dda1fb5",
   "metadata": {},
   "outputs": [
    {
     "name": "stdout",
     "output_type": "stream",
     "text": [
      "[1, 2, 3, 4, 5]\n",
      "[1, 2, 3, 4, 5, 6]\n",
      "[5, 1, 2, 3, 4, 5, 6]\n",
      "[5, 1, 2, 3, 4, 5, 6, 7]\n"
     ]
    },
    {
     "data": {
      "text/plain": [
       "8"
      ]
     },
     "execution_count": 13,
     "metadata": {},
     "output_type": "execute_result"
    }
   ],
   "source": [
    "#리스트 확장\n",
    "h=[1,2,3]\n",
    "h.extend([4,5]) #여러개 추가 가능\n",
    "print(h)\n",
    "#추가\n",
    "h.append(6) #하나만 추가 가능\n",
    "print(h)\n",
    "h.insert(0,5) #삽입\n",
    "print(h)\n",
    "h.insert(10,7)\n",
    "print(h)\n",
    "len(h)"
   ]
  },
  {
   "cell_type": "code",
   "execution_count": null,
   "id": "263c690e",
   "metadata": {},
   "outputs": [],
   "source": [
    "#Q.LIST=[0,1,2,3,4,5,6,7,8,9]에서 아래와 같이 출력하세요.\n",
    "LIST=[0,1,2,3,4,5,6,7,8,9]\n",
    "#[0,2,4,6,8]\n",
    "#[1,3,5,7,9]\n",
    "#[2,1,0]\n"
   ]
  },
  {
   "cell_type": "code",
   "execution_count": 113,
   "id": "06d81c87",
   "metadata": {},
   "outputs": [
    {
     "name": "stdout",
     "output_type": "stream",
     "text": [
      "0\n",
      "[0, 1, 2, 3, 4, 5, 6, 7, 8, 9]\n",
      "2\n",
      "[0, 1, 2, 3, 4, 5, 6, 7, 8, 9]\n",
      "4\n",
      "[0, 1, 2, 3, 4, 5, 6, 7, 8, 9]\n",
      "6\n",
      "[0, 1, 2, 3, 4, 5, 6, 7, 8, 9]\n",
      "8\n",
      "[0, 1, 2, 3, 4, 5, 6, 7, 8, 9]\n"
     ]
    }
   ],
   "source": [
    "h=[0,1,2,3,4,5,6,7,8,9]\n",
    "print(h.index(0))\n",
    "print(h)\n",
    "print(h.index(2))\n",
    "print(h)\n",
    "print(h.index(4))\n",
    "print(h)\n",
    "print(h.index(6))\n",
    "print(h)\n",
    "print(h.index(8))\n",
    "print(h)"
   ]
  },
  {
   "cell_type": "code",
   "execution_count": 115,
   "id": "3136c994",
   "metadata": {},
   "outputs": [
    {
     "name": "stdout",
     "output_type": "stream",
     "text": [
      "[0, 2, 4, 6, 8]\n",
      "[1, 3, 5, 7, 9]\n"
     ]
    }
   ],
   "source": [
    "list=[0,1,2,3,4,5,6,7,8,9]\n",
    "print(list[0::2])\n",
    "# :뒤에 아무것도 없으면 끝까지\n",
    "list=[0,1,2,3,4,5,6,7,8,9]\n",
    "print(list[1::2]) #1에서 끝까지 2간격으로 "
   ]
  },
  {
   "cell_type": "code",
   "execution_count": 119,
   "id": "d408b4bf",
   "metadata": {},
   "outputs": [
    {
     "name": "stdout",
     "output_type": "stream",
     "text": [
      "[2, 1, 0]\n"
     ]
    }
   ],
   "source": [
    "list=[0,1,2,3,4,5,6,7,8,9]\n",
    "list.reverse()\n",
    "print(list[7:])"
   ]
  },
  {
   "cell_type": "code",
   "execution_count": 121,
   "id": "64bdf6b2",
   "metadata": {},
   "outputs": [
    {
     "name": "stdout",
     "output_type": "stream",
     "text": [
      "[9, 8, 7, 6, 5, 4, 3, 2, 1, 0]\n",
      "[2, 1, 0]\n"
     ]
    }
   ],
   "source": [
    "list=[0,1,2,3,4,5,6,7,8,9]\n",
    "li=sorted(list,reverse=True)\n",
    "print(li)\n",
    "print(li[7:])"
   ]
  },
  {
   "cell_type": "code",
   "execution_count": 127,
   "id": "47e8e4c9",
   "metadata": {},
   "outputs": [
    {
     "ename": "NameError",
     "evalue": "name 'lisr' is not defined",
     "output_type": "error",
     "traceback": [
      "\u001b[1;31m---------------------------------------------------------------------------\u001b[0m",
      "\u001b[1;31mNameError\u001b[0m                                 Traceback (most recent call last)",
      "\u001b[1;32m~\\AppData\\Local\\Temp\\ipykernel_11828\\1947098133.py\u001b[0m in \u001b[0;36m<module>\u001b[1;34m\u001b[0m\n\u001b[0;32m      1\u001b[0m \u001b[0mlist\u001b[0m\u001b[1;33m=\u001b[0m\u001b[1;33m[\u001b[0m\u001b[1;36m0\u001b[0m\u001b[1;33m,\u001b[0m\u001b[1;36m1\u001b[0m\u001b[1;33m,\u001b[0m\u001b[1;36m2\u001b[0m\u001b[1;33m,\u001b[0m\u001b[1;36m3\u001b[0m\u001b[1;33m,\u001b[0m\u001b[1;36m4\u001b[0m\u001b[1;33m,\u001b[0m\u001b[1;36m5\u001b[0m\u001b[1;33m,\u001b[0m\u001b[1;36m6\u001b[0m\u001b[1;33m,\u001b[0m\u001b[1;36m7\u001b[0m\u001b[1;33m,\u001b[0m\u001b[1;36m8\u001b[0m\u001b[1;33m,\u001b[0m\u001b[1;36m9\u001b[0m\u001b[1;33m]\u001b[0m\u001b[1;33m\u001b[0m\u001b[1;33m\u001b[0m\u001b[0m\n\u001b[1;32m----> 2\u001b[1;33m \u001b[0mlisr\u001b[0m\u001b[1;33m[\u001b[0m\u001b[1;33m:\u001b[0m\u001b[1;33m]\u001b[0m \u001b[1;31m#처음부터 끝까지 다\u001b[0m\u001b[1;33m\u001b[0m\u001b[1;33m\u001b[0m\u001b[0m\n\u001b[0m\u001b[0;32m      3\u001b[0m \u001b[0mlist\u001b[0m\u001b[1;33m[\u001b[0m\u001b[1;33m:\u001b[0m\u001b[1;33m:\u001b[0m\u001b[1;36m2\u001b[0m\u001b[1;33m]\u001b[0m \u001b[1;31m#0 부터한칸씩 건너 뜀\u001b[0m\u001b[1;33m\u001b[0m\u001b[1;33m\u001b[0m\u001b[0m\n\u001b[0;32m      4\u001b[0m \u001b[0mlist\u001b[0m\u001b[1;33m[\u001b[0m\u001b[1;33m:\u001b[0m\u001b[1;33m:\u001b[0m\u001b[1;36m3\u001b[0m\u001b[1;33m]\u001b[0m \u001b[1;31m#0부터 두칸씩 건너 뜀\u001b[0m\u001b[1;33m\u001b[0m\u001b[1;33m\u001b[0m\u001b[0m\n\u001b[0;32m      5\u001b[0m \u001b[0mlist\u001b[0m\u001b[1;33m[\u001b[0m\u001b[1;36m1\u001b[0m\u001b[1;33m:\u001b[0m\u001b[1;33m:\u001b[0m\u001b[1;36m2\u001b[0m\u001b[1;33m]\u001b[0m \u001b[1;31m#1부터 시작하는데 하나씩 건너띔\u001b[0m\u001b[1;33m\u001b[0m\u001b[1;33m\u001b[0m\u001b[0m\n",
      "\u001b[1;31mNameError\u001b[0m: name 'lisr' is not defined"
     ]
    }
   ],
   "source": [
    "list=[0,1,2,3,4,5,6,7,8,9]\n",
    "lisr[:] #처음부터 끝까지 다\n",
    "list[::2] #0 부터한칸씩 건너 뜀\n",
    "list[::3] #0부터 두칸씩 건너 뜀\n",
    "list[1::2] #1부터 시작하는데 하나씩 건너띔\n",
    "list[2::-1] # 2부터 끝까지 인데 반대방향"
   ]
  },
  {
   "cell_type": "code",
   "execution_count": null,
   "id": "52d441be",
   "metadata": {},
   "outputs": [],
   "source": []
  },
  {
   "cell_type": "code",
   "execution_count": 125,
   "id": "a06f3708",
   "metadata": {},
   "outputs": [
    {
     "name": "stdout",
     "output_type": "stream",
     "text": [
      "[0, 2, 4, 6, 8]\n",
      "[1, 3, 5, 7, 9]\n",
      "[2, 1, 0]\n"
     ]
    }
   ],
   "source": [
    "#Q.LIST=[0,1,2,3,4,5,6,7,8,9]에서 아래와 같이 출력하세요.\n",
    "LIST=[0,1,2,3,4,5,6,7,8,9]\n",
    "#[0,2,4,6,8]\n",
    "#[1,3,5,7,9]\n",
    "#[2,1,0]\n",
    "\n",
    "#답\n",
    "\n",
    "print(list[::2])\n",
    "print(list[1::2])\n",
    "print(list[2::-1])"
   ]
  },
  {
   "cell_type": "code",
   "execution_count": 126,
   "id": "30542d9b",
   "metadata": {},
   "outputs": [
    {
     "data": {
      "text/plain": [
       "array([62, 46, 40, 53, 22, 87, 42, 38, 18, 62, 13, 21,  5, 84, 15, 60, 43,\n",
       "       17, 17, 19])"
      ]
     },
     "execution_count": 126,
     "metadata": {},
     "output_type": "execute_result"
    }
   ],
   "source": [
    "np.random.randint(100,size=20)"
   ]
  },
  {
   "cell_type": "markdown",
   "id": "024a4337",
   "metadata": {},
   "source": [
    "#[과제] list1에서 다음을 수행하세요\n",
    "- 33출력\n",
    "- 82를 리스트에 추가\n",
    "- 82의 갯수를 구하기\n",
    "- 87의 인덱스 구하기\n",
    "- 인덱스 3에서 10까지의 값을 출력하고 list2에 저장한 후 내림차순 정렬하기\n",
    "- 39를 11로 변경\n",
    "- [69,45,58]출력\n",
    "- 짝수 인덱스의 값으로 구성된 리스트 출력하기 \n",
    "- 인덱스가 가장 큰 수를 삭제하기\n",
    "- 인덱스 3,5인 값으로 4칙연산하기\n",
    "\n",
    "list=[58,45,67,19,4,87,29,13,39,15,54,[8,33,11],27,49,63,98,22,82]"
   ]
  },
  {
   "cell_type": "code",
   "execution_count": null,
   "id": "63541ca8",
   "metadata": {},
   "outputs": [],
   "source": []
  },
  {
   "cell_type": "code",
   "execution_count": 24,
   "id": "21a3e26f",
   "metadata": {},
   "outputs": [
    {
     "name": "stdout",
     "output_type": "stream",
     "text": [
      "33\n"
     ]
    }
   ],
   "source": [
    "#33출력 *미완\n",
    "list=[58,45,67,19,4,87,29,13,39,15,54,[8,33,11],27,49,63,98,22,82]\n",
    "print(list[11][1])"
   ]
  },
  {
   "cell_type": "code",
   "execution_count": 132,
   "id": "bee92253",
   "metadata": {},
   "outputs": [
    {
     "name": "stdout",
     "output_type": "stream",
     "text": [
      "[58, 45, 67, 19, 4, 87, 29, 13, 39, 15, 54, [8, 33, 11], 27, 49, 63, 98, 22, 82, 82]\n"
     ]
    }
   ],
   "source": [
    "#82를 리스트에 추가\n",
    "\n",
    "list=[58,45,67,19,4,87,29,13,39,15,54,[8,33,11],27,49,63,98,22,82]\n",
    "list.append(82)\n",
    "print(list)"
   ]
  },
  {
   "cell_type": "code",
   "execution_count": 135,
   "id": "8ba8c52e",
   "metadata": {},
   "outputs": [
    {
     "name": "stdout",
     "output_type": "stream",
     "text": [
      "1\n"
     ]
    }
   ],
   "source": [
    "#82의 갯수를 구하기\n",
    "list=[58,45,67,19,4,87,29,13,39,15,54,[8,33,11],27,49,63,98,22,82]\n",
    "print(list.count(82))"
   ]
  },
  {
   "cell_type": "code",
   "execution_count": 136,
   "id": "72e0a4e9",
   "metadata": {},
   "outputs": [
    {
     "name": "stdout",
     "output_type": "stream",
     "text": [
      "5\n"
     ]
    }
   ],
   "source": [
    "#87의 인덱스 구하기\n",
    "list=[58,45,67,19,4,87,29,13,39,15,54,[8,33,11],27,49,63,98,22,82]\n",
    "print(list.index(87))"
   ]
  },
  {
   "cell_type": "code",
   "execution_count": 13,
   "id": "8423a548",
   "metadata": {},
   "outputs": [
    {
     "name": "stdout",
     "output_type": "stream",
     "text": [
      "[19, 4, 87, 29, 13, 39, 15]\n",
      "[4, 13, 15, 19, 29, 39, 87]\n",
      "[87, 39, 29, 19, 15, 13, 4]\n",
      "[87, 39, 29, 19, 15, 13, 4]\n"
     ]
    }
   ],
   "source": [
    "#인덱스 3에서 10까지의 값을 출력하고 list2에 저장한 후 내림차순 정렬하기\n",
    "list1=[58,45,67,19,4,87,29,13,39,15,54,[8,33,11],27,49,63,98,22,82]\n",
    "list2=print(list1[3:10])\n",
    "\n",
    "list2=list1[3:10]\n",
    "list2.sort()\n",
    "print(list2)\n",
    "\n",
    "list2_d=sorted(list2,reverse=True)\n",
    "print(list2_d)\n",
    "list2.reverse()\n",
    "print(list2)"
   ]
  },
  {
   "cell_type": "code",
   "execution_count": 150,
   "id": "db02eb7a",
   "metadata": {},
   "outputs": [
    {
     "name": "stdout",
     "output_type": "stream",
     "text": [
      "[58, 45, 67, 19, 4, 87, 29, 13, 11, 15, 54, [8, 33, 11], 27, 49, 63, 98, 22, 82]\n"
     ]
    }
   ],
   "source": [
    "#39를 11로 변경\n",
    "list1=[58,45,67,19,4,87,29,13,39,15,54,[8,33,11],27,49,63,98,22,82]\n",
    "list1[8]=11\n",
    "print(list1)"
   ]
  },
  {
   "cell_type": "code",
   "execution_count": 151,
   "id": "7bd5e0b8",
   "metadata": {},
   "outputs": [
    {
     "name": "stdout",
     "output_type": "stream",
     "text": [
      "[67, 45, 58]\n"
     ]
    }
   ],
   "source": [
    "#[67,45,58]출력\n",
    "\n",
    "list1=[58,45,67,19,4,87,29,13,39,15,54,[8,33,11],27,49,63,98,22,82]\n",
    "print(list1[2::-1])"
   ]
  },
  {
   "cell_type": "code",
   "execution_count": 68,
   "id": "5010f4cc",
   "metadata": {},
   "outputs": [
    {
     "data": {
      "text/plain": [
       "[58, 67, 4, 29, 39, 54, 27, 63, 22]"
      ]
     },
     "execution_count": 68,
     "metadata": {},
     "output_type": "execute_result"
    }
   ],
   "source": [
    "#짝수 인덱스의 값으로 구성된 리스트 출력하기\n",
    "list1=[58,45,67,19,4,87,29,13,39,15,54,[8,33,11],27,49,63,98,22,82]\n",
    "list1[::2]"
   ]
  },
  {
   "cell_type": "code",
   "execution_count": 153,
   "id": "f1bf8a6f",
   "metadata": {},
   "outputs": [
    {
     "name": "stdout",
     "output_type": "stream",
     "text": [
      "[58, 45, 67, 19, 4, 87, 29, 13, 39, 15, 54, [8, 33, 11], 27, 49, 63, 98, 22]\n"
     ]
    }
   ],
   "source": [
    "#인덱스가 가장 큰 수를 삭제하기\n",
    "list1=[58,45,67,19,4,87,29,13,39,15,54,[8,33,11],27,49,63,98,22,82]\n",
    "del list1[-1]\n",
    "print(list1)"
   ]
  },
  {
   "cell_type": "code",
   "execution_count": null,
   "id": "874a6758",
   "metadata": {},
   "outputs": [],
   "source": [
    "#인덱스 3,5인 값으로 4칙연산하기"
   ]
  },
  {
   "cell_type": "code",
   "execution_count": null,
   "id": "56238868",
   "metadata": {},
   "outputs": [],
   "source": [
    "a=list1[3]"
   ]
  },
  {
   "cell_type": "markdown",
   "id": "86a81a31",
   "metadata": {},
   "source": [
    "# 0307 화요일"
   ]
  },
  {
   "cell_type": "code",
   "execution_count": null,
   "id": "d3511b90",
   "metadata": {},
   "outputs": [],
   "source": [
    "#튜플자료형"
   ]
  },
  {
   "cell_type": "code",
   "execution_count": 16,
   "id": "66180151",
   "metadata": {},
   "outputs": [
    {
     "data": {
      "text/plain": [
       "(2, 'a', 'b')"
      ]
     },
     "execution_count": 16,
     "metadata": {},
     "output_type": "execute_result"
    }
   ],
   "source": [
    "t1=(1,2,'a','b')\n",
    "t1[1:]"
   ]
  },
  {
   "cell_type": "code",
   "execution_count": 17,
   "id": "59c20f64",
   "metadata": {},
   "outputs": [
    {
     "data": {
      "text/plain": [
       "(1, 2, 'a', 'b', 3, 4)"
      ]
     },
     "execution_count": 17,
     "metadata": {},
     "output_type": "execute_result"
    }
   ],
   "source": [
    "t1=(1,2,'a','b')\n",
    "t2=(3,4)\n",
    "t3=t1+t2\n",
    "t3"
   ]
  },
  {
   "cell_type": "code",
   "execution_count": 18,
   "id": "41d8cb0b",
   "metadata": {},
   "outputs": [
    {
     "data": {
      "text/plain": [
       "(3, 4, 3, 4, 3, 4)"
      ]
     },
     "execution_count": 18,
     "metadata": {},
     "output_type": "execute_result"
    }
   ],
   "source": [
    "t2=(3,4)\n",
    "t3=t2*3\n",
    "t3"
   ]
  },
  {
   "cell_type": "code",
   "execution_count": 20,
   "id": "f0fb26d4",
   "metadata": {},
   "outputs": [
    {
     "data": {
      "text/plain": [
       "4"
      ]
     },
     "execution_count": 20,
     "metadata": {},
     "output_type": "execute_result"
    }
   ],
   "source": [
    "t1=(1,2,'a','b')\n",
    "len(t1)"
   ]
  },
  {
   "cell_type": "code",
   "execution_count": 28,
   "id": "29d98520",
   "metadata": {},
   "outputs": [
    {
     "name": "stdout",
     "output_type": "stream",
     "text": [
      "(1, 2.3, 4, 5)\n",
      "abc\n",
      "5\n",
      "b\n"
     ]
    }
   ],
   "source": [
    "tuple1=(1,2.3,4,5)\n",
    "tuple2=('a','b','c')\n",
    "tuple3=(1,'a','abc',[1,2,3,4,5],['a','b','c'])\n",
    "\n",
    "print(tuple1[:])\n",
    "print(tuple3[2])\n",
    "print(tuple3[3][4])\n",
    "print(tuple3[4][1])"
   ]
  },
  {
   "cell_type": "code",
   "execution_count": 32,
   "id": "0d6a6b22",
   "metadata": {},
   "outputs": [
    {
     "name": "stdout",
     "output_type": "stream",
     "text": [
      "[6, 45, 67, 19, 4, 87, 29, 13, 39, 15, 54, [8, 33, 11], 27, 49, 63, 98, 22, 82]\n",
      "[6, 45, 67, 19, 4, 87, 29, 13, 39, 15, 54, [8, 33, 11], 27, 49, 63, 98, 22, 82]\n"
     ]
    }
   ],
   "source": [
    "print1=[1,2,3,4,5]\n",
    "print(list1)\n",
    "list1[0]=6\n",
    "print(list1)"
   ]
  },
  {
   "cell_type": "code",
   "execution_count": 35,
   "id": "fec24ecb",
   "metadata": {},
   "outputs": [
    {
     "name": "stdout",
     "output_type": "stream",
     "text": [
      "[1, 2, 3, 4, 5]\n",
      "[6, 2, 3, 4, 5]\n"
     ]
    }
   ],
   "source": [
    "list1=[1,2,3,4,5]\n",
    "print(list1)\n",
    "list1[0]=6\n",
    "print(list1)"
   ]
  },
  {
   "cell_type": "code",
   "execution_count": 30,
   "id": "ff399a8c",
   "metadata": {},
   "outputs": [
    {
     "ename": "TypeError",
     "evalue": "'tuple' object does not support item assignment",
     "output_type": "error",
     "traceback": [
      "\u001b[1;31m---------------------------------------------------------------------------\u001b[0m",
      "\u001b[1;31mTypeError\u001b[0m                                 Traceback (most recent call last)",
      "\u001b[1;32m~\\AppData\\Local\\Temp\\ipykernel_6524\\2343465854.py\u001b[0m in \u001b[0;36m<module>\u001b[1;34m\u001b[0m\n\u001b[0;32m      2\u001b[0m \u001b[1;31m#튜플의 요소값은 변경할 수 없음-프로긂에서 그 값이 항상 변하지 않아야되는 경우 사용\u001b[0m\u001b[1;33m\u001b[0m\u001b[1;33m\u001b[0m\u001b[0m\n\u001b[0;32m      3\u001b[0m \u001b[0mtuple1\u001b[0m\u001b[1;33m=\u001b[0m\u001b[1;33m(\u001b[0m\u001b[1;36m1\u001b[0m\u001b[1;33m,\u001b[0m\u001b[1;36m2\u001b[0m\u001b[1;33m,\u001b[0m\u001b[1;36m3\u001b[0m\u001b[1;33m,\u001b[0m\u001b[1;36m4\u001b[0m\u001b[1;33m,\u001b[0m\u001b[1;36m5\u001b[0m\u001b[1;33m)\u001b[0m\u001b[1;33m\u001b[0m\u001b[1;33m\u001b[0m\u001b[0m\n\u001b[1;32m----> 4\u001b[1;33m \u001b[0mtuple1\u001b[0m\u001b[1;33m[\u001b[0m\u001b[1;36m0\u001b[0m\u001b[1;33m]\u001b[0m\u001b[1;33m=\u001b[0m\u001b[1;36m6\u001b[0m\u001b[1;33m\u001b[0m\u001b[1;33m\u001b[0m\u001b[0m\n\u001b[0m\u001b[0;32m      5\u001b[0m \u001b[0mprint\u001b[0m\u001b[1;33m(\u001b[0m\u001b[0mtuple1\u001b[0m\u001b[1;33m)\u001b[0m\u001b[1;33m\u001b[0m\u001b[1;33m\u001b[0m\u001b[0m\n",
      "\u001b[1;31mTypeError\u001b[0m: 'tuple' object does not support item assignment"
     ]
    }
   ],
   "source": [
    "#자료형-Tuple\n",
    "#튜플의 요소값은 변경할 수 없음-프로그램에서 그 값이 항상 변하지 않아야되는 경우 사용\n",
    "tuple1=(1,2,3,4,5)\n",
    "tuple1[0]=6\n",
    "print(tuple1)"
   ]
  },
  {
   "cell_type": "code",
   "execution_count": 39,
   "id": "684ce26e",
   "metadata": {},
   "outputs": [
    {
     "name": "stdout",
     "output_type": "stream",
     "text": [
      "(1,)\n",
      "<class 'tuple'>\n",
      "(1, 2, 3)\n",
      "(1, 2, 3, 1, 2, 3, 1, 2, 3)\n",
      "(1, 1, 2, 3)\n",
      "1\n",
      "<class 'int'>\n"
     ]
    }
   ],
   "source": [
    "t1=(1,)#1개의 요소만 가질 때는 요소귀에 콤마를 붙여야함\n",
    "print(t1)\n",
    "print(type(t1))\n",
    "t2=1,2,3\n",
    "print(t2)\n",
    "print(t2*3)\n",
    "t3=t1+t2\n",
    "print(t3)\n",
    "t4=(1) #콤마가 없으면 정수가 된다.콤마가 있어야 튜플이 됨\n",
    "print(t4)\n",
    "print(type(t4))\n"
   ]
  },
  {
   "cell_type": "code",
   "execution_count": 41,
   "id": "d0e6d98f",
   "metadata": {},
   "outputs": [
    {
     "name": "stdout",
     "output_type": "stream",
     "text": [
      "1\n",
      "{'a': 1, 'b': 5, 'c': 3}\n"
     ]
    }
   ],
   "source": [
    "#인덱싱이 없고 키와 벨류(값)만 있음. {}중가로로 묶어준다\n",
    "#자료형-사전(키와 값을 하나의 요소로 하는 순서가 없는 집합)-인덱싱은 순서가 있음\n",
    "d1={'a':1,'b':2,'c':3} #a,b,c라는 키에 대한 키값을 입력한다.ex)a가 키이고 a의 값이 1이라고 대입.\n",
    "print(d1['a'])\n",
    "d1['b']=5\n",
    "print(d1)"
   ]
  },
  {
   "cell_type": "code",
   "execution_count": 42,
   "id": "2c0b672c",
   "metadata": {},
   "outputs": [
    {
     "name": "stdout",
     "output_type": "stream",
     "text": [
      "dict_keys(['a', 'b', 'c'])\n",
      "dict_values([1, 5, 3])\n",
      "dict_items([('a', 1), ('b', 5), ('c', 3)])\n"
     ]
    }
   ],
   "source": [
    "print(d1.keys())#키\n",
    "print(d1.values())#값\n",
    "print(d1.items())"
   ]
  },
  {
   "cell_type": "code",
   "execution_count": 45,
   "id": "049902d9",
   "metadata": {},
   "outputs": [
    {
     "name": "stdout",
     "output_type": "stream",
     "text": [
      "dict_keys(['서울역', '부산역', '대전역'])\n",
      "dict_values([10000, 50000, 25000])\n",
      "dict_items([('서울역', 10000), ('부산역', 50000), ('대전역', 25000)])\n"
     ]
    }
   ],
   "source": [
    "c1={'서울역':10000,'부산역':50000,'대전역':20000}\n",
    "print(c1.keys())\n",
    "c1['대전역']=25000\n",
    "print(c1.values())\n",
    "print(c1.items())"
   ]
  },
  {
   "cell_type": "code",
   "execution_count": 49,
   "id": "2f4d22bb",
   "metadata": {},
   "outputs": [
    {
     "name": "stdout",
     "output_type": "stream",
     "text": [
      "dict_keys(['봉사', '우수', '감점'])\n",
      "dict_values([10, 20, -20])\n",
      "dict_items([('봉사', 10), ('우수', 20), ('감점', -20)])\n"
     ]
    }
   ],
   "source": [
    "c1={'봉사':10,'우수':10,'감점':-20}\n",
    "print(c1.keys())\n",
    "c1['우수']=20\n",
    "print(c1.values())\n",
    "print(c1.items())"
   ]
  },
  {
   "cell_type": "code",
   "execution_count": 50,
   "id": "c9d8641e",
   "metadata": {},
   "outputs": [
    {
     "ename": "KeyboardInterrupt",
     "evalue": "Interrupted by user",
     "output_type": "error",
     "traceback": [
      "\u001b[1;31m---------------------------------------------------------------------------\u001b[0m",
      "\u001b[1;31mKeyboardInterrupt\u001b[0m                         Traceback (most recent call last)",
      "\u001b[1;32m~\\AppData\\Local\\Temp\\ipykernel_6524\\2138890999.py\u001b[0m in \u001b[0;36m<module>\u001b[1;34m\u001b[0m\n\u001b[1;32m----> 1\u001b[1;33m \u001b[0mname\u001b[0m\u001b[1;33m=\u001b[0m\u001b[0minput\u001b[0m\u001b[1;33m(\u001b[0m\u001b[1;34m'이름를 입력하세요: '\u001b[0m\u001b[1;33m,\u001b[0m\u001b[1;33m)\u001b[0m\u001b[1;33m\u001b[0m\u001b[1;33m\u001b[0m\u001b[0m\n\u001b[0m\u001b[0;32m      2\u001b[0m \u001b[0mphone\u001b[0m\u001b[1;33m=\u001b[0m\u001b[0mint\u001b[0m\u001b[1;33m(\u001b[0m\u001b[0minput\u001b[0m\u001b[1;33m(\u001b[0m\u001b[1;34m'전화번호를 입력하세요: '\u001b[0m\u001b[1;33m)\u001b[0m\u001b[1;33m)\u001b[0m\u001b[1;33m\u001b[0m\u001b[1;33m\u001b[0m\u001b[0m\n\u001b[0;32m      3\u001b[0m \u001b[0mbirth\u001b[0m\u001b[1;33m=\u001b[0m\u001b[0mint\u001b[0m\u001b[1;33m(\u001b[0m\u001b[0minput\u001b[0m\u001b[1;33m(\u001b[0m\u001b[1;34m'생일를 입력하세요: '\u001b[0m\u001b[1;33m)\u001b[0m\u001b[1;33m)\u001b[0m\u001b[1;33m\u001b[0m\u001b[1;33m\u001b[0m\u001b[0m\n\u001b[0;32m      4\u001b[0m \u001b[0md2\u001b[0m \u001b[1;33m=\u001b[0m \u001b[1;33m{\u001b[0m\u001b[1;34m'name'\u001b[0m\u001b[1;33m:\u001b[0m \u001b[0mname\u001b[0m\u001b[1;33m,\u001b[0m \u001b[1;34m'phone'\u001b[0m\u001b[1;33m:\u001b[0m \u001b[0mphone\u001b[0m\u001b[1;33m,\u001b[0m \u001b[1;34m'birth'\u001b[0m\u001b[1;33m:\u001b[0m \u001b[0mbirth\u001b[0m\u001b[1;33m}\u001b[0m\u001b[1;33m\u001b[0m\u001b[1;33m\u001b[0m\u001b[0m\n\u001b[0;32m      5\u001b[0m \u001b[0mprint\u001b[0m\u001b[1;33m(\u001b[0m\u001b[0md2\u001b[0m\u001b[1;33m)\u001b[0m\u001b[1;33m\u001b[0m\u001b[1;33m\u001b[0m\u001b[0m\n",
      "\u001b[1;32m~\\Anaconda3\\lib\\site-packages\\ipykernel\\kernelbase.py\u001b[0m in \u001b[0;36mraw_input\u001b[1;34m(self, prompt)\u001b[0m\n\u001b[0;32m   1175\u001b[0m                 \u001b[1;34m\"raw_input was called, but this frontend does not support input requests.\"\u001b[0m\u001b[1;33m\u001b[0m\u001b[1;33m\u001b[0m\u001b[0m\n\u001b[0;32m   1176\u001b[0m             )\n\u001b[1;32m-> 1177\u001b[1;33m         return self._input_request(\n\u001b[0m\u001b[0;32m   1178\u001b[0m             \u001b[0mstr\u001b[0m\u001b[1;33m(\u001b[0m\u001b[0mprompt\u001b[0m\u001b[1;33m)\u001b[0m\u001b[1;33m,\u001b[0m\u001b[1;33m\u001b[0m\u001b[1;33m\u001b[0m\u001b[0m\n\u001b[0;32m   1179\u001b[0m             \u001b[0mself\u001b[0m\u001b[1;33m.\u001b[0m\u001b[0m_parent_ident\u001b[0m\u001b[1;33m[\u001b[0m\u001b[1;34m\"shell\"\u001b[0m\u001b[1;33m]\u001b[0m\u001b[1;33m,\u001b[0m\u001b[1;33m\u001b[0m\u001b[1;33m\u001b[0m\u001b[0m\n",
      "\u001b[1;32m~\\Anaconda3\\lib\\site-packages\\ipykernel\\kernelbase.py\u001b[0m in \u001b[0;36m_input_request\u001b[1;34m(self, prompt, ident, parent, password)\u001b[0m\n\u001b[0;32m   1217\u001b[0m             \u001b[1;32mexcept\u001b[0m \u001b[0mKeyboardInterrupt\u001b[0m\u001b[1;33m:\u001b[0m\u001b[1;33m\u001b[0m\u001b[1;33m\u001b[0m\u001b[0m\n\u001b[0;32m   1218\u001b[0m                 \u001b[1;31m# re-raise KeyboardInterrupt, to truncate traceback\u001b[0m\u001b[1;33m\u001b[0m\u001b[1;33m\u001b[0m\u001b[0m\n\u001b[1;32m-> 1219\u001b[1;33m                 \u001b[1;32mraise\u001b[0m \u001b[0mKeyboardInterrupt\u001b[0m\u001b[1;33m(\u001b[0m\u001b[1;34m\"Interrupted by user\"\u001b[0m\u001b[1;33m)\u001b[0m \u001b[1;32mfrom\u001b[0m \u001b[1;32mNone\u001b[0m\u001b[1;33m\u001b[0m\u001b[1;33m\u001b[0m\u001b[0m\n\u001b[0m\u001b[0;32m   1220\u001b[0m             \u001b[1;32mexcept\u001b[0m \u001b[0mException\u001b[0m\u001b[1;33m:\u001b[0m\u001b[1;33m\u001b[0m\u001b[1;33m\u001b[0m\u001b[0m\n\u001b[0;32m   1221\u001b[0m                 \u001b[0mself\u001b[0m\u001b[1;33m.\u001b[0m\u001b[0mlog\u001b[0m\u001b[1;33m.\u001b[0m\u001b[0mwarning\u001b[0m\u001b[1;33m(\u001b[0m\u001b[1;34m\"Invalid Message:\"\u001b[0m\u001b[1;33m,\u001b[0m \u001b[0mexc_info\u001b[0m\u001b[1;33m=\u001b[0m\u001b[1;32mTrue\u001b[0m\u001b[1;33m)\u001b[0m\u001b[1;33m\u001b[0m\u001b[1;33m\u001b[0m\u001b[0m\n",
      "\u001b[1;31mKeyboardInterrupt\u001b[0m: Interrupted by user"
     ]
    }
   ],
   "source": [
    "name=input('이름를 입력하세요: ',)\n",
    "phone=int(input('전화번호를 입력하세요: ')) \n",
    "birth=int(input('생일를 입력하세요: '))\n",
    "d2 = {'name': name, 'phone': phone, 'birth': birth}\n",
    "print(d2)"
   ]
  },
  {
   "cell_type": "code",
   "execution_count": null,
   "id": "40811f1f",
   "metadata": {},
   "outputs": [],
   "source": [
    "c2 = {'허각':1, '존박':2, '장재인':3, '강승윤':4, '김지수':5, '김은비':6}\n",
    "print(c2.keys())\n",
    "print(c2.values())\n",
    "print(c2.items())"
   ]
  },
  {
   "cell_type": "code",
   "execution_count": null,
   "id": "9dece812",
   "metadata": {},
   "outputs": [],
   "source": [
    "per={'상호명':'점투타운','전화번호':'010-xxxx-xxxx','업종':'체육관'}\n",
    "print(list(per.items()))"
   ]
  },
  {
   "cell_type": "code",
   "execution_count": 1,
   "id": "6620a07a",
   "metadata": {},
   "outputs": [
    {
     "name": "stdout",
     "output_type": "stream",
     "text": [
      "{1, 2, 3, 4, 5}\n",
      "{'H', 'l', 'e', 'o'}\n"
     ]
    }
   ],
   "source": [
    "#자료형-집합,set(중복을 허용하지 않으며 순서가 없다.)\n",
    "s1=set([1,2,5,4,3])\n",
    "s2=set('Hello')\n",
    "print(s1)\n",
    "print(s2)"
   ]
  },
  {
   "cell_type": "code",
   "execution_count": 2,
   "id": "53103191",
   "metadata": {},
   "outputs": [
    {
     "name": "stdout",
     "output_type": "stream",
     "text": [
      "[1, 2, 3, 4, 5]\n",
      "2\n",
      "['H', 'l', 'e', 'o']\n",
      "l\n"
     ]
    }
   ],
   "source": [
    "#집합은 인덱싱으로 값을 얻을 수 없으며 필요시 리스트나 튜플로 변환 후 인덱싱\n",
    "l1=list(s1)\n",
    "print(l1)\n",
    "print(l1[1])\n",
    "l2=list(s2)\n",
    "print(l2)\n",
    "print(l2[1])"
   ]
  },
  {
   "cell_type": "code",
   "execution_count": 3,
   "id": "817b21fe",
   "metadata": {},
   "outputs": [
    {
     "name": "stdout",
     "output_type": "stream",
     "text": [
      "[1, 2, 3, 4, 5, 6, 7, 8, 9]\n",
      "[4, 5, 6]\n"
     ]
    }
   ],
   "source": [
    "#Q.s1,s2의 합집합과 교집합을 각각 리스트로 출력하세요.\n",
    "#합집합(s1|s2),교집합(s1&s2)\n",
    "s1=set([1,2,3,4,5,6])\n",
    "s2=set([4,5,6,7,8,9])\n",
    "\n",
    "print(list(s1|s2))\n",
    "print(list(s1&s2))\n"
   ]
  },
  {
   "cell_type": "code",
   "execution_count": null,
   "id": "5f4b8d97",
   "metadata": {},
   "outputs": [],
   "source": [
    "#Bool\n",
    "a=True\n",
    "b=False"
   ]
  },
  {
   "cell_type": "code",
   "execution_count": 70,
   "id": "4c4d0f50",
   "metadata": {},
   "outputs": [
    {
     "name": "stdout",
     "output_type": "stream",
     "text": [
      "False\n",
      "True\n",
      "True\n",
      "False\n",
      "False\n",
      "True\n"
     ]
    }
   ],
   "source": [
    "\n",
    "\n",
    "bool1=True; bool2 = False;bool3=True; bool4=False\n",
    "print(bool1 and bool2) 둘다 참이어야 함. \n",
    "print(bool1 and bool3)\n",
    "print(bool2 or bool3)  #or는 하나만 참이어도 참..\n",
    "print(bool2 or bool4)\n",
    "print(not bool1)\n",
    "print(not bool2)"
   ]
  },
  {
   "cell_type": "code",
   "execution_count": 56,
   "id": "803c436a",
   "metadata": {},
   "outputs": [
    {
     "name": "stdout",
     "output_type": "stream",
     "text": [
      "a가 li에 있습니다\n"
     ]
    }
   ],
   "source": [
    "#들여쓰기★\n",
    "li=['a','b','c']\n",
    "if'a'in li:\n",
    "    print('a가 li에 있습니다')\n",
    "else:\n",
    "    print('a가 li에 없습니다.')"
   ]
  },
  {
   "cell_type": "code",
   "execution_count": 57,
   "id": "087bffe0",
   "metadata": {},
   "outputs": [
    {
     "data": {
      "text/plain": [
       "'나의 이름은홍길동입니다. 나이는 25입니다.'"
      ]
     },
     "execution_count": 57,
     "metadata": {},
     "output_type": "execute_result"
    }
   ],
   "source": [
    "#문자열 포멧\n",
    "\n",
    "name='홍길동'\n",
    "age=25\n",
    "f'나의 이름은{name}입니다. 나이는 {age}입니다.'"
   ]
  },
  {
   "cell_type": "code",
   "execution_count": 60,
   "id": "df94c5eb",
   "metadata": {},
   "outputs": [
    {
     "data": {
      "text/plain": [
       "'나의 이름은 홍길동입니다. 나이는 30입니다.'"
      ]
     },
     "execution_count": 60,
     "metadata": {},
     "output_type": "execute_result"
    }
   ],
   "source": [
    "d={'name':'홍길동','age':30}\n",
    "f'나의 이름은 {d[\"name\"]}입니다. 나이는 {d[\"age\"]}입니다.'"
   ]
  },
  {
   "cell_type": "code",
   "execution_count": 63,
   "id": "74bb133a",
   "metadata": {},
   "outputs": [
    {
     "data": {
      "text/plain": [
       "'나의 이름은 옥유리입니다.취미는 소설읽기이고 전직은 요리사입니다.'"
      ]
     },
     "execution_count": 63,
     "metadata": {},
     "output_type": "execute_result"
    }
   ],
   "source": [
    "#간단한 소개\n",
    "name='옥유리'\n",
    "hobby='소설읽기'\n",
    "ect = '요리사'\n",
    "f'나의 이름은 {name}입니다.취미는 {hobby}이고 전직은 {ect}입니다.'"
   ]
  },
  {
   "cell_type": "code",
   "execution_count": 64,
   "id": "ddd1770b",
   "metadata": {},
   "outputs": [
    {
     "data": {
      "text/plain": [
       "'3.4213'"
      ]
     },
     "execution_count": 64,
     "metadata": {},
     "output_type": "execute_result"
    }
   ],
   "source": [
    "y=3.42134234\n",
    "f'{y:0.4f}' #소수점 4자리까지 표현"
   ]
  },
  {
   "cell_type": "code",
   "execution_count": null,
   "id": "48ac2ce7",
   "metadata": {},
   "outputs": [],
   "source": []
  },
  {
   "cell_type": "code",
   "execution_count": 65,
   "id": "60cf5b47",
   "metadata": {},
   "outputs": [
    {
     "data": {
      "text/plain": [
       "'    3.4213'"
      ]
     },
     "execution_count": 65,
     "metadata": {},
     "output_type": "execute_result"
    }
   ],
   "source": [
    "f'{y:10.4f}' #소수점 4자리까지 표현하고 총 자리수를 10으로 맞춤"
   ]
  },
  {
   "cell_type": "code",
   "execution_count": 89,
   "id": "52205127",
   "metadata": {},
   "outputs": [
    {
     "name": "stdout",
     "output_type": "stream",
     "text": [
      "홍길동선수가 1등입니다.\n",
      "홍길동선수가 1등입니다.\n"
     ]
    }
   ],
   "source": [
    "#포멧함수\n",
    "f1=\"{}선수가 {}등입니다.\".format('홍길동',1)\n",
    "#f1=\"{1}선수가 {0}등입니다.\".format(1,'홍길동')\n",
    "print(f1)\n",
    "print(\"%s선수가 %d등입니다.\" %(\"홍길동\",1)) #s는 문자, d는 숫자가 들어올겁니다."
   ]
  },
  {
   "cell_type": "code",
   "execution_count": 72,
   "id": "6fc46e76",
   "metadata": {},
   "outputs": [
    {
     "ename": "SyntaxError",
     "evalue": "invalid syntax (3510181125.py, line 1)",
     "output_type": "error",
     "traceback": [
      "\u001b[1;36m  File \u001b[1;32m\"C:\\Users\\h\\AppData\\Local\\Temp\\ipykernel_3792\\3510181125.py\"\u001b[1;36m, line \u001b[1;32m1\u001b[0m\n\u001b[1;33m    f1=\"{}은 {}보다 {}배 쉽습니다.\"format(\"파이썬\", \"자바\",2)\u001b[0m\n\u001b[1;37m                           ^\u001b[0m\n\u001b[1;31mSyntaxError\u001b[0m\u001b[1;31m:\u001b[0m invalid syntax\n"
     ]
    }
   ],
   "source": [
    "f1=\"{}은 {}보다 {}배 쉽습니다.\"format(\"파이썬\", \"자바\",2)\n",
    "print(f1)\n",
    "print( \"%s은 %보다 %배 쉽습니다.\"%(\"파이썬\",\"자바\",2))"
   ]
  },
  {
   "cell_type": "code",
   "execution_count": 4,
   "id": "287f81ae",
   "metadata": {},
   "outputs": [
    {
     "name": "stdout",
     "output_type": "stream",
     "text": [
      "12345\n",
      "     12345\n",
      "12.345679\n",
      "          12.346\n"
     ]
    }
   ],
   "source": [
    "#[과제] 아래와 같이 출력하세요.★\n",
    "num1=12345\n",
    "print(num1)\n",
    "print(f'{num1:10.0f}')\n",
    "num2=12.345679\n",
    "print(num2)\n",
    "print(f'{num2:16.3f}') #이해안됨"
   ]
  },
  {
   "cell_type": "code",
   "execution_count": null,
   "id": "bde26a43",
   "metadata": {},
   "outputs": [],
   "source": []
  },
  {
   "cell_type": "code",
   "execution_count": 11,
   "id": "54b0c452",
   "metadata": {},
   "outputs": [
    {
     "name": "stdout",
     "output_type": "stream",
     "text": [
      "현상 유지\n"
     ]
    }
   ],
   "source": [
    "#제어문- if~elif~else\n",
    "#\"수입과 지충금액을 비교해서 수입이 많으면 저축 증가, 반대이면 빚이 증가\" =조건문\n",
    "# 같으면 현상유지\n",
    "i=5,000,000\n",
    "e=5,000,000\n",
    "if i>e:\n",
    "    print('저축 증가')\n",
    "elif i<e:\n",
    "    print('빚이 증가')\n",
    "else:\n",
    "    print('현상 유지') #조건이 2가지면 이프 엘스만 쓰면 되는데 3가지라 elif 사용(반대의 경우에 적용)\n",
    "    \n",
    "    #3가지의 차이 복습하기. if는 모든 상황을 포함하지만 그 외의 애들은 if를 제외한 나머지의 조건값적용"
   ]
  },
  {
   "cell_type": "code",
   "execution_count": null,
   "id": "d3873120",
   "metadata": {},
   "outputs": [],
   "source": []
  },
  {
   "cell_type": "code",
   "execution_count": 23,
   "id": "975456e1",
   "metadata": {},
   "outputs": [
    {
     "name": "stdout",
     "output_type": "stream",
     "text": [
      "현상 유지\n"
     ]
    }
   ],
   "source": [
    "i=5,000,000\n",
    "e=5,000,000\n",
    "if i>e:\n",
    "    print('저축 증가')\n",
    "if i<e:\n",
    "    print('빚이 증가')\n",
    "if i==e:\n",
    "    print('현상 유지')"
   ]
  },
  {
   "cell_type": "code",
   "execution_count": 16,
   "id": "c3d10c10",
   "metadata": {},
   "outputs": [
    {
     "name": "stdout",
     "output_type": "stream",
     "text": [
      "5\n",
      "15\n",
      "6\n",
      "20\n",
      "7\n"
     ]
    }
   ],
   "source": [
    "numbers=[5,15,6,20,7,25]\n",
    "print(numbers[0])\n",
    "print(numbers[1])\n",
    "print(numbers[2])\n",
    "print(numbers[3])\n",
    "print(numbers[4])\n",
    "\n",
    "#무한대로 입력할 수 없기때문에 반복문 사용하면 편리하다"
   ]
  },
  {
   "cell_type": "code",
   "execution_count": 25,
   "id": "420f3106",
   "metadata": {
    "scrolled": true
   },
   "outputs": [
    {
     "name": "stdout",
     "output_type": "stream",
     "text": [
      "0\n",
      "1\n",
      "2\n",
      "3\n",
      "4\n",
      "5\n",
      "6\n",
      "7\n",
      "8\n",
      "9\n",
      "10\n",
      "11\n",
      "12\n",
      "13\n",
      "14\n"
     ]
    }
   ],
   "source": [
    "import numpy as np\n",
    "num=np.arange(15).tolist()\n",
    "for n in num:\n",
    "    print(n)"
   ]
  },
  {
   "cell_type": "code",
   "execution_count": 21,
   "id": "dc0c1845",
   "metadata": {},
   "outputs": [
    {
     "name": "stdout",
     "output_type": "stream",
     "text": [
      "5 15 6 20 7 25 "
     ]
    }
   ],
   "source": [
    "#for반복문\n",
    "numbers=[5,15,6,20,7,25]\n",
    "for number in numbers:\n",
    "    print(number,end=' ') #end=' ' 넣으면 한 줄에 나옴. 없으면 1열로 나옴"
   ]
  },
  {
   "cell_type": "code",
   "execution_count": 26,
   "id": "7fbae844",
   "metadata": {},
   "outputs": [
    {
     "name": "stdout",
     "output_type": "stream",
     "text": [
      "3\n",
      "4\n",
      "5\n",
      "6\n",
      "7\n",
      "8\n",
      "9\n",
      "10\n"
     ]
    }
   ],
   "source": [
    "for n in range(3,11):\n",
    "    print(n)"
   ]
  },
  {
   "cell_type": "code",
   "execution_count": null,
   "id": "db338e63",
   "metadata": {},
   "outputs": [],
   "source": []
  },
  {
   "cell_type": "code",
   "execution_count": 30,
   "id": "90f77d44",
   "metadata": {},
   "outputs": [
    {
     "name": "stdout",
     "output_type": "stream",
     "text": [
      "1 2 3 4 5 "
     ]
    }
   ],
   "source": [
    "#for~continue~break\n",
    "#1~10 범위의 정수에서 1부터 5까지만 출력하세요\n",
    "for i in range(1,11):\n",
    "    print(i,end=' ')\n",
    "    if i < 5:\n",
    "        continue\n",
    "    else:\n",
    "        break \n",
    "    #프린트가 if위에 있고 컨티뉴로 돌아가서 출력되기 때문에 5가 포함된 값이 나옴"
   ]
  },
  {
   "cell_type": "code",
   "execution_count": 50,
   "id": "72dbd3b4",
   "metadata": {},
   "outputs": [
    {
     "name": "stdout",
     "output_type": "stream",
     "text": [
      "15 20 25 "
     ]
    }
   ],
   "source": [
    "#numbers 리스트에서 15,20,25를 출력하세요. (for문과 if조건 사용 필수)★\n",
    "\n",
    "numbers=[5,15,6,20,7,25]\n",
    "li=[15,20,25]\n",
    "for number in numbers:\n",
    "    if number in li:\n",
    "        print(number,end=' ')"
   ]
  },
  {
   "cell_type": "code",
   "execution_count": 51,
   "id": "436e381c",
   "metadata": {},
   "outputs": [
    {
     "name": "stdout",
     "output_type": "stream",
     "text": [
      "15\n",
      "20\n",
      "25\n"
     ]
    }
   ],
   "source": [
    "numbers=[5,15,6,20,7,25]\n",
    "\n",
    "for i in numbers:\n",
    "    if i==15 or i==20 or i==25:\n",
    "        print(i)"
   ]
  },
  {
   "cell_type": "code",
   "execution_count": 52,
   "id": "aa1d87b9",
   "metadata": {},
   "outputs": [
    {
     "name": "stdout",
     "output_type": "stream",
     "text": [
      "15 20 25 "
     ]
    }
   ],
   "source": [
    "numbers = [5,15,6,20,7,25]\n",
    "i = 0\n",
    "for number in numbers:\n",
    "    i += 1\n",
    "    if i%2 == 1:\n",
    "        continue\n",
    "    else:\n",
    "        print(number, end=\" \") #짝수분 출력"
   ]
  },
  {
   "cell_type": "code",
   "execution_count": 53,
   "id": "76151949",
   "metadata": {},
   "outputs": [
    {
     "name": "stdout",
     "output_type": "stream",
     "text": [
      "15 20 25 "
     ]
    }
   ],
   "source": [
    "#numbers 리스트에서 15,20,25를 출력하세요. (for문과 if조건 사용 필수)★ \n",
    "\n",
    "numbers=[5,15,6,20,7,25]\n",
    "\n",
    "for number in numbers:\n",
    "    if number > 10:\n",
    "        print(number,end=' ')\n",
    "    else:\n",
    "        continue \n",
    "        #10보다 작으면 컨티뉴하고 크면 출력"
   ]
  },
  {
   "cell_type": "code",
   "execution_count": 61,
   "id": "5ddaaa6f",
   "metadata": {},
   "outputs": [
    {
     "name": "stdout",
     "output_type": "stream",
     "text": [
      "45\n",
      "1035\n"
     ]
    }
   ],
   "source": [
    "#while\n",
    "#정수1부터 n까지 더할 때 그 합이 1000보다 커지게 되는 n과 합을 구하세요\n",
    "#☆조건이 참일 때 무한 반복함-브레이크 필수☆\n",
    "#1은 true , 2는 false\n",
    "\n",
    "x=1\n",
    "sum=0                    #하나씩 더하면 나오는 값\n",
    "while 1:\n",
    "    sum=sum+x\n",
    "    if sum>1000:          #1000보다 커지면 멈춰라\n",
    "        print(x)            #n값\n",
    "        print(sum)          #1000이 넘었을 때의 값\n",
    "        break\n",
    "    x=x+1\n",
    "    "
   ]
  },
  {
   "cell_type": "code",
   "execution_count": 62,
   "id": "83349913",
   "metadata": {},
   "outputs": [
    {
     "name": "stdout",
     "output_type": "stream",
     "text": [
      "45\n",
      "1035\n"
     ]
    }
   ],
   "source": [
    "x=1\n",
    "sum=0                   \n",
    "while True:   #이 자리에 0은 안됨. 다른 숫자는 가능\n",
    "    sum=sum+x\n",
    "    if sum>1000:          \n",
    "        print(x)            \n",
    "        print(sum)          \n",
    "        break\n",
    "    x=x+1\n",
    "    "
   ]
  },
  {
   "cell_type": "code",
   "execution_count": 84,
   "id": "d479eb77",
   "metadata": {},
   "outputs": [
    {
     "ename": "SyntaxError",
     "evalue": "invalid syntax (3453507024.py, line 1)",
     "output_type": "error",
     "traceback": [
      "\u001b[1;36m  File \u001b[1;32m\"C:\\Users\\h\\AppData\\Local\\Temp\\ipykernel_6576\\3453507024.py\"\u001b[1;36m, line \u001b[1;32m1\u001b[0m\n\u001b[1;33m    Q: while문을 사용해 1부터 300까지의 정수 중 3의 배수의 합을 구하시오 ★\u001b[0m\n\u001b[1;37m               ^\u001b[0m\n\u001b[1;31mSyntaxError\u001b[0m\u001b[1;31m:\u001b[0m invalid syntax\n"
     ]
    }
   ],
   "source": [
    "Q: while문을 사용해 1부터 300까지의 정수 중 3의 배수의 합을 구하시오 ★\n",
    "    \n",
    "i = 1\n",
    "sum = 0             #합:변수\n",
    "while i < 1001:    #1001보다 작은 값이라 계속 돈다\n",
    "    if i%3 ==0:    #3의 배수\n",
    "        sum = sum+i\n",
    "    i += 1          #i가 하나씩 늘어가야하니까 더해준다.\n",
    "print(sum)\n",
    "\n",
    "#조건이 있으니까 브레이크 안해도 됨"
   ]
  },
  {
   "cell_type": "code",
   "execution_count": 85,
   "id": "bf676bdc",
   "metadata": {},
   "outputs": [
    {
     "name": "stdout",
     "output_type": "stream",
     "text": [
      "166833\n"
     ]
    }
   ],
   "source": [
    "i = 1\n",
    "sum = 0            \n",
    "while i < 1001:   \n",
    "    if i%3 ==0:    \n",
    "        sum = sum+i\n",
    "    i += 1         \n",
    "print(sum)"
   ]
  },
  {
   "cell_type": "code",
   "execution_count": 83,
   "id": "036dc89c",
   "metadata": {},
   "outputs": [
    {
     "name": "stdout",
     "output_type": "stream",
     "text": [
      "4550\n"
     ]
    }
   ],
   "source": [
    "#Q. 1부터 100까지의 정수 중 5에서 95까지의 합을 구하세요 ★\n",
    "i = 0\n",
    "sum = 0\n",
    "while i < 101:\n",
    "    i += 1   #i를 0으로 놨기때문에 1을 더해줌 \n",
    "    if i > 4:\n",
    "        if i < 96:\n",
    "            sum = sum + i\n",
    "print(sum)"
   ]
  },
  {
   "cell_type": "code",
   "execution_count": 87,
   "id": "992054ed",
   "metadata": {},
   "outputs": [
    {
     "name": "stdout",
     "output_type": "stream",
     "text": [
      "5를 2로 나누었을 때의 몫은 2, 나머지는 1입니다.\n"
     ]
    }
   ],
   "source": [
    "#Q.5를 2로 나누었을때의 몫과 나머지를 구하세요.★\n",
    "a = 5//2\n",
    "b = 5%2\n",
    "\n",
    "print(\"5를 2로 나누었을 때의 몫은 %s, 나머지는 %s입니다.\"%(a,b))"
   ]
  },
  {
   "cell_type": "code",
   "execution_count": 88,
   "id": "ed5d9bf0",
   "metadata": {},
   "outputs": [
    {
     "name": "stdout",
     "output_type": "stream",
     "text": [
      "5를 2로 나누었을 때의 몫은 2, 나머지는 1입니다.\n"
     ]
    }
   ],
   "source": [
    "a = 5//2\n",
    "b = 5%2\n",
    "\n",
    "print(f\"5를 2로 나누었을 때의 몫은 {a}, 나머지는 {b}입니다.\")"
   ]
  },
  {
   "cell_type": "code",
   "execution_count": 90,
   "id": "8b66f8cd",
   "metadata": {},
   "outputs": [
    {
     "name": "stdout",
     "output_type": "stream",
     "text": [
      "1030301\n"
     ]
    }
   ],
   "source": [
    "#101의 3승을 구하세요\n",
    "print(101**3)"
   ]
  },
  {
   "cell_type": "code",
   "execution_count": 92,
   "id": "adf7030a",
   "metadata": {},
   "outputs": [
    {
     "name": "stdout",
     "output_type": "stream",
     "text": [
      "pytthon 3,8,3\n"
     ]
    }
   ],
   "source": [
    "#pytthon과 3,8,3을 합쳐서 pytthon 3,8,3으로 출력하세요.\n",
    "a='pytthon'\n",
    "b=' 3,8,3'\n",
    "print(a+b)\n"
   ]
  },
  {
   "cell_type": "code",
   "execution_count": 102,
   "id": "85a9cf04",
   "metadata": {},
   "outputs": [
    {
     "data": {
      "text/plain": [
       "2"
      ]
     },
     "execution_count": 102,
     "metadata": {},
     "output_type": "execute_result"
    }
   ],
   "source": [
    "#Q:5의 3승을 3으로 나누었을때의 나머지를 복합 대입 연산자를 이용해 구하세요\n",
    "num=5\n",
    "num**=3\n",
    "num%=3\n",
    "num\n"
   ]
  },
  {
   "cell_type": "code",
   "execution_count": 97,
   "id": "cd9e4dcc",
   "metadata": {},
   "outputs": [
    {
     "name": "stdout",
     "output_type": "stream",
     "text": [
      "이름이 무엇인가요?: 옥유리\n"
     ]
    },
    {
     "data": {
      "text/plain": [
       "'제 이름은 옥유리입니다.'"
      ]
     },
     "execution_count": 97,
     "metadata": {},
     "output_type": "execute_result"
    }
   ],
   "source": [
    "#Q.아래와 같이 출력하는 프로그램을 작성하세요.\n",
    "#이름이 무엇인가요? kevin\n",
    "#제 이름은 kevin 입니다\n",
    "\n",
    "name=input('이름이 무엇인가요?: ',)\n",
    "f'제 이름은 {name}입니다.'\n",
    "#print(\"이름이 무엇인가요?\")\n",
    "name = input()\n",
    "\n",
    "print(f\"제 이름은 {name}입니다.\")\n"
   ]
  },
  {
   "cell_type": "code",
   "execution_count": 103,
   "id": "c5e4a7a2",
   "metadata": {},
   "outputs": [
    {
     "name": "stdout",
     "output_type": "stream",
     "text": [
      "숫자 3개를 입력하세요: 5\n",
      "3\n",
      "5\n",
      "25\n"
     ]
    }
   ],
   "source": [
    "#Q. 숫자 3개를 입력해서 첫번째 숫자를 두번째 숫자 승한 뒤에 세번째 숫자로 나누었을 때의 몫을 구하세요.\n",
    "\n",
    "x=int(input(\"숫자 3개를 입력하세요: \"))\n",
    "y=int(input())\n",
    "z=int(input())\n",
    "\n",
    "print(x**y//z)"
   ]
  },
  {
   "cell_type": "code",
   "execution_count": 3,
   "id": "51cfb065",
   "metadata": {},
   "outputs": [
    {
     "ename": "KeyboardInterrupt",
     "evalue": "",
     "output_type": "error",
     "traceback": [
      "\u001b[1;31m---------------------------------------------------------------------------\u001b[0m",
      "\u001b[1;31mKeyboardInterrupt\u001b[0m                         Traceback (most recent call last)",
      "\u001b[1;32m~\\AppData\\Local\\Temp\\ipykernel_4300\\1686088753.py\u001b[0m in \u001b[0;36m<module>\u001b[1;34m\u001b[0m\n\u001b[0;32m      4\u001b[0m \u001b[0mnum\u001b[0m\u001b[1;33m=\u001b[0m\u001b[1;36m1\u001b[0m\u001b[1;33m\u001b[0m\u001b[1;33m\u001b[0m\u001b[0m\n\u001b[0;32m      5\u001b[0m \u001b[1;32mwhile\u001b[0m \u001b[0mnum\u001b[0m\u001b[1;33m<\u001b[0m\u001b[1;36m1000\u001b[0m\u001b[1;33m:\u001b[0m\u001b[1;33m\u001b[0m\u001b[1;33m\u001b[0m\u001b[0m\n\u001b[1;32m----> 6\u001b[1;33m     \u001b[1;32mif\u001b[0m \u001b[0mnum\u001b[0m\u001b[1;33m%\u001b[0m\u001b[1;36m3\u001b[0m\u001b[1;33m==\u001b[0m\u001b[1;36m0\u001b[0m \u001b[1;32mand\u001b[0m \u001b[0mnum\u001b[0m\u001b[1;33m%\u001b[0m\u001b[1;36m5\u001b[0m\u001b[1;33m==\u001b[0m\u001b[1;36m0\u001b[0m\u001b[1;33m:\u001b[0m\u001b[1;33m\u001b[0m\u001b[1;33m\u001b[0m\u001b[0m\n\u001b[0m\u001b[0;32m      7\u001b[0m         \u001b[0mtotal\u001b[0m\u001b[1;33m+=\u001b[0m\u001b[0mnum\u001b[0m\u001b[1;33m\u001b[0m\u001b[1;33m\u001b[0m\u001b[0m\n\u001b[0;32m      8\u001b[0m         \u001b[0mnum\u001b[0m\u001b[1;33m+=\u001b[0m\u001b[1;36m1\u001b[0m\u001b[1;33m\u001b[0m\u001b[1;33m\u001b[0m\u001b[0m\n",
      "\u001b[1;31mKeyboardInterrupt\u001b[0m: "
     ]
    }
   ],
   "source": [
    "#[과제] while문을 사용해 1부터 1000까지의 정수 중 3과 5의 공배수의 합을 구하세요\n",
    "\n",
    "total=0\n",
    "num=1\n",
    "while num <1000:\n",
    "    if num%3==0 and num%5==0:\n",
    "        total+=num\n",
    "        num+=1\n",
    "        print(total)"
   ]
  },
  {
   "cell_type": "code",
   "execution_count": 239,
   "id": "8c867f24",
   "metadata": {},
   "outputs": [
    {
     "name": "stdout",
     "output_type": "stream",
     "text": [
      "{900, 645, 390, 135, 780, 525, 270, 15, 915, 660, 405, 150, 795, 540, 285, 30, 930, 675, 420, 165, 810, 555, 300, 45, 945, 690, 435, 180, 825, 570, 315, 60, 960, 705, 450, 195, 840, 585, 330, 75, 975, 720, 465, 210, 855, 600, 345, 90, 990, 735, 480, 225, 870, 615, 360, 105, 750, 495, 240, 885, 630, 375, 120, 765, 510, 255}\n"
     ]
    }
   ],
   "source": [
    "#[과제] while문을 사용해 1부터 1000까지의 정수 중 3과 5의 공배수의 합을 구하세요\n",
    "\n",
    "a={i for i in range(1,1001)if i%3==0}\n",
    "b={i for i in range(1,1001)if i%5==0}\n",
    "print(a&b)"
   ]
  },
  {
   "cell_type": "code",
   "execution_count": 5,
   "id": "f76ab6d5",
   "metadata": {},
   "outputs": [
    {
     "ename": "SyntaxError",
     "evalue": "invalid syntax (22835690.py, line 3)",
     "output_type": "error",
     "traceback": [
      "\u001b[1;36m  File \u001b[1;32m\"C:\\Users\\h\\AppData\\Local\\Temp\\ipykernel_4300\\22835690.py\"\u001b[1;36m, line \u001b[1;32m3\u001b[0m\n\u001b[1;33m    int n=1;\u001b[0m\n\u001b[1;37m        ^\u001b[0m\n\u001b[1;31mSyntaxError\u001b[0m\u001b[1;31m:\u001b[0m invalid syntax\n"
     ]
    }
   ],
   "source": [
    "#[과제] while문을 사용해 1부터 1000까지의 정수 중 3과 5의 공배수의 합을 구하세요\n",
    "\n",
    "int n=1;\n",
    "int sum3=0;\n",
    "int sum5=0;\n",
    "int sum15=0;\n",
    "\n",
    "while(n<=1000)\n",
    "if(n%3==0)\n",
    "sum3+=n;\n",
    "if(n%5==0)\n",
    "sum5+=n;\n",
    "if((n%3==0)&&(n%5==0))\n",
    "sum15+=n;"
   ]
  },
  {
   "cell_type": "code",
   "execution_count": 17,
   "id": "5b360524",
   "metadata": {},
   "outputs": [
    {
     "name": "stdout",
     "output_type": "stream",
     "text": [
      "33165\n"
     ]
    }
   ],
   "source": [
    "#정답\n",
    "a=1\n",
    "sum=0\n",
    "while a<1001:\n",
    "    if a%3==0:\n",
    "        if a%5==0:\n",
    "            sum+=a\n",
    "    a+=1  #1~1000까지 쭉 나가야 하니까 1을 계속 더해주게 설정(기준이 정해져 있으므로 그 안에서 무한반복)\n",
    "print(sum)"
   ]
  },
  {
   "cell_type": "code",
   "execution_count": 18,
   "id": "0e12278a",
   "metadata": {},
   "outputs": [
    {
     "name": "stdout",
     "output_type": "stream",
     "text": [
      "33165\n"
     ]
    }
   ],
   "source": [
    "#정답2\n",
    "i=0\n",
    "sum=0\n",
    "while i<1001:\n",
    "    if i%15==0:\n",
    "        sum=sum+i\n",
    "    i=i+1 \n",
    "print(sum)"
   ]
  },
  {
   "cell_type": "code",
   "execution_count": 7,
   "id": "3142c3b7",
   "metadata": {},
   "outputs": [
    {
     "name": "stdout",
     "output_type": "stream",
     "text": [
      "12345\n"
     ]
    }
   ],
   "source": [
    "#[과제] 1부터 5까지 입력해서 12345를 출력하세요\n",
    "num1=12345\n",
    "print(num1)"
   ]
  },
  {
   "cell_type": "code",
   "execution_count": 19,
   "id": "e0f9a715",
   "metadata": {},
   "outputs": [
    {
     "name": "stdout",
     "output_type": "stream",
     "text": [
      "1부터 5까지 입력해 주세요.\n",
      "1\n",
      "2\n",
      "3\n",
      "4\n",
      "5\n",
      "12345\n"
     ]
    }
   ],
   "source": [
    "#정답\n",
    "print(\"1부터 5까지 입력해 주세요.\")\n",
    "a = input()\n",
    "b = input()\n",
    "c = input()\n",
    "d = input()\n",
    "e = input()\n",
    "print(a+b+c+d+e) #문자열 연산받아서 12345로 나온다 "
   ]
  },
  {
   "cell_type": "code",
   "execution_count": 21,
   "id": "c5463105",
   "metadata": {},
   "outputs": [
    {
     "name": "stdout",
     "output_type": "stream",
     "text": [
      "[0, 1, 2, 3, 4, 5, 6, 7, 8, 9, 'b', 'c']\n",
      "[0, 1, 2, 3, 4, 5, 6, 7, 8, 'b', 'c']\n"
     ]
    }
   ],
   "source": [
    "#[과제] [0,1,2,3,4,5,6,7,8,9,'a','b','c']에서 9와 'a'를 삭제 후 리스트로 출력하세요.\n",
    "\n",
    "a=[0,1,2,3,4,5,6,7,8,9,'a','b','c']\n",
    "del a[-3]\n",
    "print(a)\n",
    "del a[-3]\n",
    "print(a)"
   ]
  },
  {
   "cell_type": "code",
   "execution_count": 22,
   "id": "ef891e3f",
   "metadata": {},
   "outputs": [
    {
     "name": "stdout",
     "output_type": "stream",
     "text": [
      "[0, 1, 2, 3, 4, 5, 6, 7, 8, 'b', 'c']\n"
     ]
    }
   ],
   "source": [
    "#정답1\n",
    "list = [0,1,2,3,4,5,6,7,8,9,'a','b','c'] \n",
    "list.remove (9)\n",
    "list.remove ('a')\n",
    "print(list)"
   ]
  },
  {
   "cell_type": "code",
   "execution_count": 23,
   "id": "ecdd48ef",
   "metadata": {},
   "outputs": [
    {
     "name": "stdout",
     "output_type": "stream",
     "text": [
      "[0, 1, 2, 3, 4, 5, 6, 7, 8, 'b', 'c']\n"
     ]
    }
   ],
   "source": [
    "#정답2\n",
    "list = [0,1,2,3,4,5,6,7,8,9, 'a','b','c']\n",
    "del list[9]\n",
    "del list[9]\n",
    "print(list)"
   ]
  },
  {
   "cell_type": "code",
   "execution_count": 9,
   "id": "cd7ace21",
   "metadata": {},
   "outputs": [
    {
     "name": "stdout",
     "output_type": "stream",
     "text": [
      "[0, 1, 2, 3, 4, 5, 6, 7, 8, 9, 'a', 'b']\n"
     ]
    }
   ],
   "source": [
    "#[과제][0,1,2,3,4,5,6,7,8,9,'a','b','c']에서 'c'를 삭제 후 출력하세요.\n",
    "a=[0,1,2,3,4,5,6,7,8,9,'a','b','c']\n",
    "del a[-1]\n",
    "print(a)"
   ]
  },
  {
   "cell_type": "code",
   "execution_count": null,
   "id": "a0cf55cc",
   "metadata": {},
   "outputs": [],
   "source": [
    "#정답 상동"
   ]
  },
  {
   "cell_type": "code",
   "execution_count": 24,
   "id": "13926e01",
   "metadata": {},
   "outputs": [
    {
     "name": "stdout",
     "output_type": "stream",
     "text": [
      "[9, 9, 8, 8, 5, 4, 4, 4, 3, 1]\n"
     ]
    }
   ],
   "source": [
    "#[과제] [4,8,5,4,8,4,3,9,1,9]를 내림차순으로 정렬하세요.\n",
    "a=[4,8,5,4,8,4,3,9,1,9]\n",
    "a.sort()\n",
    "a.reverse()\n",
    "print(a)"
   ]
  },
  {
   "cell_type": "code",
   "execution_count": 26,
   "id": "47a8a0ce",
   "metadata": {},
   "outputs": [
    {
     "name": "stdout",
     "output_type": "stream",
     "text": [
      "[9, 9, 8, 8, 5, 4, 4, 4, 3, 1]\n"
     ]
    }
   ],
   "source": [
    "#정답 2\n",
    "h=[4,8,5,4,8,4,3,9,1,9]\n",
    "i=sorted(h, reverse=True)\n",
    "print(i)"
   ]
  },
  {
   "cell_type": "code",
   "execution_count": 27,
   "id": "cfcbcaa8",
   "metadata": {},
   "outputs": [
    {
     "name": "stdout",
     "output_type": "stream",
     "text": [
      "[9, 9, 8, 8, 5, 4, 4, 4, 3, 1]\n"
     ]
    }
   ],
   "source": [
    "#정답3\n",
    "h=[4,8,5,4,8,4,3,9,1,9]\n",
    "i=sorted(h, reverse=True)\n",
    "print(i)"
   ]
  },
  {
   "cell_type": "code",
   "execution_count": 11,
   "id": "2c6c6da8",
   "metadata": {},
   "outputs": [
    {
     "data": {
      "text/plain": [
       "'2021년 12월 26일 15시 47분 30초'"
      ]
     },
     "execution_count": 11,
     "metadata": {},
     "output_type": "execute_result"
    }
   ],
   "source": [
    "#[과제] format 함수를 이용해서 다음과 같은 형식으로 현재 날짜/시간을 출력하세요.\n",
    "#2021년 12월 29일 15시 47분 30초\n",
    "\n",
    "year=2021\n",
    "mon=12\n",
    "day=26\n",
    "time=15\n",
    "min=47\n",
    "sec=30\n",
    "f'{year}년 {mon}월 {day}일 {time}시 {min}분 {sec}초'\n"
   ]
  },
  {
   "cell_type": "code",
   "execution_count": 29,
   "id": "33375c66",
   "metadata": {},
   "outputs": [
    {
     "name": "stdout",
     "output_type": "stream",
     "text": [
      "2021년 12월 29일 15시 47분 30초\n"
     ]
    }
   ],
   "source": [
    "#정답\n",
    "\n",
    "print(\"{}년 {}월 {}일 {}시 {}분 {}초\".format(2021, 12, 29, 15, 47, 30))"
   ]
  },
  {
   "cell_type": "code",
   "execution_count": 31,
   "id": "641e534b",
   "metadata": {},
   "outputs": [
    {
     "name": "stdout",
     "output_type": "stream",
     "text": [
      "오늘 날짜는 3월 8일입니다. 현재 시각은 9시 22분 0초입니다.\n"
     ]
    }
   ],
   "source": [
    "#정답2 [번외.현재 정보 입력되는 시스템]\n",
    "import datetime\n",
    "now=datetime.datetime.now()\n",
    "y,mo,d,h,m,s=now.year,now.month,now.day,now.hour,now.minute,now.second\n",
    "#.을 붙여서 구분한다.(now.) 변수만 중가로에 넣어 주면 됨.\n",
    "\n",
    "print(f\"오늘 날짜는 {mo}월 {d}일입니다. 현재 시각은 {h}시 {m}분 {s}초입니다.\")"
   ]
  },
  {
   "cell_type": "code",
   "execution_count": 12,
   "id": "d9e79c11",
   "metadata": {},
   "outputs": [
    {
     "name": "stdout",
     "output_type": "stream",
     "text": [
      "오후\n"
     ]
    }
   ],
   "source": [
    "#[과제] 현재 시각을 오전과 오후로 구분하는 프로그램을 작성하세요\n",
    "i=12\n",
    "e=13\n",
    "if i>e:\n",
    "    print('오전')\n",
    "if i<e:\n",
    "    print('오후')\n",
    "if i==e:\n",
    "    print('오후')"
   ]
  },
  {
   "cell_type": "code",
   "execution_count": 34,
   "id": "1d529374",
   "metadata": {},
   "outputs": [
    {
     "name": "stdout",
     "output_type": "stream",
     "text": [
      "현재는 오전입니다\n"
     ]
    }
   ],
   "source": [
    "#정답1\n",
    "from datetime import datetime\n",
    "\n",
    "now = datetime.now()\n",
    "if now.hour < 12:\n",
    "    print(\"현재는 오전입니다\")\n",
    "else:\n",
    "    print(\"현재는 오후입니다.\")\n"
   ]
  },
  {
   "cell_type": "code",
   "execution_count": 13,
   "id": "a589a69a",
   "metadata": {},
   "outputs": [
    {
     "ename": "SyntaxError",
     "evalue": "invalid syntax (4059424107.py, line 4)",
     "output_type": "error",
     "traceback": [
      "\u001b[1;36m  File \u001b[1;32m\"C:\\Users\\h\\AppData\\Local\\Temp\\ipykernel_4300\\4059424107.py\"\u001b[1;36m, line \u001b[1;32m4\u001b[0m\n\u001b[1;33m    def mod(a):if a%2==0:\u001b[0m\n\u001b[1;37m               ^\u001b[0m\n\u001b[1;31mSyntaxError\u001b[0m\u001b[1;31m:\u001b[0m invalid syntax\n"
     ]
    }
   ],
   "source": [
    "#[과제] 정수를 입력하면 홀수 짝수를 판별하는 프록램 작성.\n",
    "a=int(input(\"숫자를 입력해주세요.\"))\n",
    "\n",
    "def mod(a):if a%2==0:\n",
    "    print(\"짝수입니다.\")\n",
    "    else:\n",
    "        print(\"홀수입니다.\")\n",
    "        "
   ]
  },
  {
   "cell_type": "code",
   "execution_count": 35,
   "id": "c5974c3f",
   "metadata": {},
   "outputs": [
    {
     "name": "stdout",
     "output_type": "stream",
     "text": [
      "정수를 입력해주십시요1\n",
      "홀수입니다.\n"
     ]
    }
   ],
   "source": [
    "#정답\n",
    "num = int(input(\"정수를 입력해주십시요\"))\n",
    "if num % 2 == 0:\n",
    "    print(\"짝수입니다.\")\n",
    "else:\n",
    "    print(\"홀수입니다.\")"
   ]
  },
  {
   "cell_type": "markdown",
   "id": "779c6548",
   "metadata": {},
   "source": [
    "[과제] 계절 구분 프로그램 \n",
    " - 각 계절별 출력 멘트는 계절에 맞게 창작\n",
    " - if조건문으로 datetime 모듈을 import해서 datetime.now함수를 사용해서 작성 "
   ]
  },
  {
   "cell_type": "code",
   "execution_count": null,
   "id": "a00aeb81",
   "metadata": {},
   "outputs": [],
   "source": [
    "#정답\n",
    "imort datetime\n",
    "t=datetime.datetime.now()\n",
    "\n",
    "print('지금 우리가 지내는 계절은 어디쯤에 있나요?')\n",
    "if t.month<12\n"
   ]
  },
  {
   "cell_type": "markdown",
   "id": "5ac0ce47",
   "metadata": {},
   "source": [
    "[과제] 커피 자판기 프로그램\n",
    "- 시나리오:자판기 커피 재고 5잔, 커피 1잔 가격 300원, 재고 범위내에서 300원 이상 돈을 넣으면 거스름돈과 커피를 주고 그렇지 않으면 반환하며 재고가 소진되면 안내멘트 출력\n",
    "- 각 case별 멘트 출력을 상황에 맞게 창작\n",
    "- while,if~elif~else 제어문을 사용하여 작성"
   ]
  },
  {
   "cell_type": "code",
   "execution_count": 25,
   "id": "e4e16543",
   "metadata": {},
   "outputs": [
    {
     "ename": "KeyboardInterrupt",
     "evalue": "Interrupted by user",
     "output_type": "error",
     "traceback": [
      "\u001b[1;31m---------------------------------------------------------------------------\u001b[0m",
      "\u001b[1;31mKeyboardInterrupt\u001b[0m                         Traceback (most recent call last)",
      "\u001b[1;32m~\\AppData\\Local\\Temp\\ipykernel_3792\\470974374.py\u001b[0m in \u001b[0;36m<module>\u001b[1;34m\u001b[0m\n\u001b[0;32m      4\u001b[0m \u001b[1;33m\u001b[0m\u001b[0m\n\u001b[0;32m      5\u001b[0m \u001b[1;32mwhile\u001b[0m \u001b[1;36m1\u001b[0m\u001b[1;33m:\u001b[0m \u001b[1;31m#재고가 있는한 반복해야 하니까 와일사용\u001b[0m\u001b[1;33m\u001b[0m\u001b[1;33m\u001b[0m\u001b[0m\n\u001b[1;32m----> 6\u001b[1;33m     \u001b[0mmoney\u001b[0m\u001b[1;33m=\u001b[0m\u001b[0mint\u001b[0m\u001b[1;33m(\u001b[0m\u001b[0minput\u001b[0m\u001b[1;33m(\u001b[0m\u001b[1;34m\"300원입니다. 현금을 넣어주세요\"\u001b[0m\u001b[1;33m)\u001b[0m\u001b[1;33m)\u001b[0m\u001b[1;33m\u001b[0m\u001b[1;33m\u001b[0m\u001b[0m\n\u001b[0m\u001b[0;32m      7\u001b[0m     \u001b[1;32mif\u001b[0m \u001b[0mmoney\u001b[0m\u001b[1;33m==\u001b[0m\u001b[1;36m300\u001b[0m\u001b[1;33m:\u001b[0m\u001b[1;33m\u001b[0m\u001b[1;33m\u001b[0m\u001b[0m\n\u001b[0;32m      8\u001b[0m         \u001b[0mprint\u001b[0m\u001b[1;33m(\u001b[0m\u001b[1;34m'감사합니다. 맛있게 드세요'\u001b[0m\u001b[1;33m)\u001b[0m\u001b[1;33m\u001b[0m\u001b[1;33m\u001b[0m\u001b[0m\n",
      "\u001b[1;32m~\\Anaconda3\\lib\\site-packages\\ipykernel\\kernelbase.py\u001b[0m in \u001b[0;36mraw_input\u001b[1;34m(self, prompt)\u001b[0m\n\u001b[0;32m   1175\u001b[0m                 \u001b[1;34m\"raw_input was called, but this frontend does not support input requests.\"\u001b[0m\u001b[1;33m\u001b[0m\u001b[1;33m\u001b[0m\u001b[0m\n\u001b[0;32m   1176\u001b[0m             )\n\u001b[1;32m-> 1177\u001b[1;33m         return self._input_request(\n\u001b[0m\u001b[0;32m   1178\u001b[0m             \u001b[0mstr\u001b[0m\u001b[1;33m(\u001b[0m\u001b[0mprompt\u001b[0m\u001b[1;33m)\u001b[0m\u001b[1;33m,\u001b[0m\u001b[1;33m\u001b[0m\u001b[1;33m\u001b[0m\u001b[0m\n\u001b[0;32m   1179\u001b[0m             \u001b[0mself\u001b[0m\u001b[1;33m.\u001b[0m\u001b[0m_parent_ident\u001b[0m\u001b[1;33m[\u001b[0m\u001b[1;34m\"shell\"\u001b[0m\u001b[1;33m]\u001b[0m\u001b[1;33m,\u001b[0m\u001b[1;33m\u001b[0m\u001b[1;33m\u001b[0m\u001b[0m\n",
      "\u001b[1;32m~\\Anaconda3\\lib\\site-packages\\ipykernel\\kernelbase.py\u001b[0m in \u001b[0;36m_input_request\u001b[1;34m(self, prompt, ident, parent, password)\u001b[0m\n\u001b[0;32m   1217\u001b[0m             \u001b[1;32mexcept\u001b[0m \u001b[0mKeyboardInterrupt\u001b[0m\u001b[1;33m:\u001b[0m\u001b[1;33m\u001b[0m\u001b[1;33m\u001b[0m\u001b[0m\n\u001b[0;32m   1218\u001b[0m                 \u001b[1;31m# re-raise KeyboardInterrupt, to truncate traceback\u001b[0m\u001b[1;33m\u001b[0m\u001b[1;33m\u001b[0m\u001b[0m\n\u001b[1;32m-> 1219\u001b[1;33m                 \u001b[1;32mraise\u001b[0m \u001b[0mKeyboardInterrupt\u001b[0m\u001b[1;33m(\u001b[0m\u001b[1;34m\"Interrupted by user\"\u001b[0m\u001b[1;33m)\u001b[0m \u001b[1;32mfrom\u001b[0m \u001b[1;32mNone\u001b[0m\u001b[1;33m\u001b[0m\u001b[1;33m\u001b[0m\u001b[0m\n\u001b[0m\u001b[0;32m   1220\u001b[0m             \u001b[1;32mexcept\u001b[0m \u001b[0mException\u001b[0m\u001b[1;33m:\u001b[0m\u001b[1;33m\u001b[0m\u001b[1;33m\u001b[0m\u001b[0m\n\u001b[0;32m   1221\u001b[0m                 \u001b[0mself\u001b[0m\u001b[1;33m.\u001b[0m\u001b[0mlog\u001b[0m\u001b[1;33m.\u001b[0m\u001b[0mwarning\u001b[0m\u001b[1;33m(\u001b[0m\u001b[1;34m\"Invalid Message:\"\u001b[0m\u001b[1;33m,\u001b[0m \u001b[0mexc_info\u001b[0m\u001b[1;33m=\u001b[0m\u001b[1;32mTrue\u001b[0m\u001b[1;33m)\u001b[0m\u001b[1;33m\u001b[0m\u001b[1;33m\u001b[0m\u001b[0m\n",
      "\u001b[1;31mKeyboardInterrupt\u001b[0m: Interrupted by user"
     ]
    }
   ],
   "source": [
    "#순차적으로 설계해가야 한다. 제시사항 먼저 설정.->변수 상황\n",
    "coffee=5 #재고량\n",
    "price=300 #가격\n",
    "\n",
    "while 1: #재고가 있는한 반복해야 하니까 와일사용\n",
    "    money=int(input(\"300원입니다. 현금을 넣어주세요\"))\n",
    "    if money==300:\n",
    "        print('감사합니다. 맛있게 드세요')\n",
    "        coffee-= 1\n",
    "    elif money >300: #300원보다 클경우 커피주고 잔돈 준다\n",
    "        c=money-300 #c=잔돈\n",
    "        print('감사합니다. 맛있게 드세요, 가시기 전에 {c}원 챙겨주세요')\n",
    "        coffee-=1\n",
    "    else:   #금액이 모자랄 경우\n",
    "        print(f'커피는 {price}원 입니다. 현금을 다시 넣어주세요,')\n",
    "    if cpffee==0: #재고가 없을 경우\n",
    "        print('재고가 다 소진되었습니다. 잠시 판매 중단합니다.')\n",
    "        break"
   ]
  },
  {
   "cell_type": "code",
   "execution_count": null,
   "id": "3e506bbc",
   "metadata": {},
   "outputs": [],
   "source": [
    "#정답\n"
   ]
  },
  {
   "cell_type": "markdown",
   "id": "c2cc4fe6",
   "metadata": {},
   "source": [
    "[도전과제] 우리반의 발표자를 무작위로 선정하는 프로그램을 작성하세요<br>\n",
    "\n",
    "#hmkd1=['김나영','김동완','김예슬','김용훈','김태현','남동연','박서진','박주경', '손아','옥유리', '옥주리','윤예은','윤정현','이승주','임수현','장인혁', '정슬기','한나영','조차선','이지연','김성호','오윤택','최정인']\n",
    "\n",
    "\n"
   ]
  },
  {
   "cell_type": "code",
   "execution_count": 37,
   "id": "2e46f113",
   "metadata": {},
   "outputs": [
    {
     "ename": "ModuleNotFoundError",
     "evalue": "No module named 'rnadom'",
     "output_type": "error",
     "traceback": [
      "\u001b[1;31m---------------------------------------------------------------------------\u001b[0m",
      "\u001b[1;31mModuleNotFoundError\u001b[0m                       Traceback (most recent call last)",
      "\u001b[1;32m~\\AppData\\Local\\Temp\\ipykernel_4300\\1851780049.py\u001b[0m in \u001b[0;36m<module>\u001b[1;34m\u001b[0m\n\u001b[1;32m----> 1\u001b[1;33m \u001b[1;32mimport\u001b[0m \u001b[0mrnadom\u001b[0m\u001b[1;33m\u001b[0m\u001b[1;33m\u001b[0m\u001b[0m\n\u001b[0m\u001b[0;32m      2\u001b[0m \u001b[1;33m\u001b[0m\u001b[0m\n\u001b[0;32m      3\u001b[0m \u001b[0mhmkd1\u001b[0m\u001b[1;33m=\u001b[0m\u001b[1;33m[\u001b[0m\u001b[1;34m'김나영'\u001b[0m\u001b[1;33m,\u001b[0m\u001b[1;34m'김동완'\u001b[0m\u001b[1;33m,\u001b[0m\u001b[1;34m'김예슬'\u001b[0m\u001b[1;33m,\u001b[0m\u001b[1;34m'김용훈'\u001b[0m\u001b[1;33m,\u001b[0m\u001b[1;34m'김태현'\u001b[0m\u001b[1;33m,\u001b[0m\u001b[1;34m'남동연'\u001b[0m\u001b[1;33m,\u001b[0m\u001b[1;34m'박서진'\u001b[0m\u001b[1;33m,\u001b[0m\u001b[1;34m'박주경'\u001b[0m\u001b[1;33m,\u001b[0m \u001b[1;34m'손아'\u001b[0m\u001b[1;33m,\u001b[0m\u001b[1;34m'옥유리'\u001b[0m\u001b[1;33m,\u001b[0m \u001b[1;34m'옥주리'\u001b[0m\u001b[1;33m,\u001b[0m\u001b[1;34m'윤예은'\u001b[0m\u001b[1;33m,\u001b[0m\u001b[1;34m'윤정현'\u001b[0m\u001b[1;33m,\u001b[0m\u001b[1;34m'이승주'\u001b[0m\u001b[1;33m,\u001b[0m\u001b[1;34m'임수현'\u001b[0m\u001b[1;33m,\u001b[0m\u001b[1;34m'장인혁'\u001b[0m\u001b[1;33m,\u001b[0m \u001b[1;34m'정슬기'\u001b[0m\u001b[1;33m,\u001b[0m\u001b[1;34m'한나영'\u001b[0m\u001b[1;33m,\u001b[0m\u001b[1;34m'조차선'\u001b[0m\u001b[1;33m,\u001b[0m\u001b[1;34m'이지연'\u001b[0m\u001b[1;33m,\u001b[0m\u001b[1;34m'김성호'\u001b[0m\u001b[1;33m,\u001b[0m\u001b[1;34m'오윤택'\u001b[0m\u001b[1;33m,\u001b[0m\u001b[1;34m'최정인'\u001b[0m\u001b[1;33m]\u001b[0m\u001b[1;33m\u001b[0m\u001b[1;33m\u001b[0m\u001b[0m\n\u001b[0;32m      4\u001b[0m \u001b[0mn\u001b[0m\u001b[1;33m=\u001b[0m\u001b[0mint\u001b[0m\u001b[1;33m(\u001b[0m\u001b[0minput\u001b[0m\u001b[1;33m(\u001b[0m\u001b[1;34m\"발표자 수를 지정해주세요\"\u001b[0m\u001b[1;33m)\u001b[0m\u001b[1;33m)\u001b[0m\u001b[1;33m\u001b[0m\u001b[1;33m\u001b[0m\u001b[0m\n\u001b[0;32m      5\u001b[0m \u001b[0mrd\u001b[0m\u001b[1;33m=\u001b[0m\u001b[0mrandom\u001b[0m\u001b[1;33m.\u001b[0m\u001b[0msample\u001b[0m\u001b[1;33m(\u001b[0m\u001b[0mrange\u001b[0m\u001b[1;33m(\u001b[0m\u001b[1;36m0\u001b[0m\u001b[1;33m,\u001b[0m\u001b[1;36m23\u001b[0m\u001b[1;33m)\u001b[0m\u001b[1;33m,\u001b[0m\u001b[0mn\u001b[0m\u001b[1;33m)\u001b[0m\u001b[1;33m\u001b[0m\u001b[1;33m\u001b[0m\u001b[0m\n",
      "\u001b[1;31mModuleNotFoundError\u001b[0m: No module named 'rnadom'"
     ]
    }
   ],
   "source": [
    "import rnadom\n",
    "\n",
    "hmkd1=['김나영','김동완','김예슬','김용훈','김태현','남동연','박서진','박주경', '손아','옥유리', '옥주리','윤예은','윤정현','이승주','임수현','장인혁', '정슬기','한나영','조차선','이지연','김성호','오윤택','최정인']\n",
    "n=int(input(\"발표자 수를 지정해주세요\"))\n",
    "rd=random.sample(range(0,23),n)\n",
    "\n",
    "for i in rd:\n",
    "    print(hmkd1[i],end=' ')\n",
    "#sample은 중복을 막아줌 \n",
    "#end=''를 붙이는 이유는 줄바꿈대신 스페이스로 한줄로 나열하기 위함. 없을경우 줄바꿈으로 결과 추출됨\n"
   ]
  },
  {
   "cell_type": "code",
   "execution_count": null,
   "id": "aa07b489",
   "metadata": {},
   "outputs": [],
   "source": [
    "#[도전과제] 로또만들기\n",
    "import random,string\n",
    "dn"
   ]
  },
  {
   "cell_type": "code",
   "execution_count": null,
   "id": "6f918672",
   "metadata": {},
   "outputs": [],
   "source": []
  },
  {
   "cell_type": "markdown",
   "id": "21c2412b",
   "metadata": {},
   "source": [
    "# 3.8일 수요일"
   ]
  },
  {
   "cell_type": "markdown",
   "id": "b36f192d",
   "metadata": {},
   "source": [
    "불자료형,\n",
    "함수:()를 가지는 것들, \n",
    "클래스: 함수 재활용. =>클래스를 객체로 만들어서 재활용(객체지향언어)\n",
    "클래스를 모듈화 했다가 필요할때 가져다 쓴다 ex)붕어빵 기계. 틀을 만들면 붕어빵을 찍어내기 쉬움. 클래스=틀\n",
    "붕어빵 안에는 원래 의도했던 내용이 다 들어있다. 객체지향언어:자바,파이썬\n",
    "\n",
    "*모듈:\n",
    "*패키지: 넘파이,판다스같이 규모가 큰 것들. 사용할때 도트(.)를 사용한다. \n",
    "ec)game.sound.echo.echo_test()\n",
    "echo\n",
    "큰틀.그다음.그다음.최종결과\n",
    "\n",
    "*예외처리\n",
    "오류가 있어도 통과하게끔 해야 프로그램이 돌아간다. =예외처리한다.\n",
    "try:  <-오류날 가능성이 있으면 붙여준다\n",
    "    ...\n",
    "except [발생오류 [as 오류변수]]: <-오류나면 여기 제시해준 방식대로 처리해.\n",
    "ec)웹에서 기사를 찾는데 있을 수도 있고 없을 수도 있음. 그럴때 try를 써서 관련 기사가 있으면 가져오고 \n",
    "없으면 패스해.\n",
    "\n",
    "*내장함수 \n",
    "인티 인풋 랜 리스트 str 등등등\n",
    "파이썬 자체가 가진 내장함수->어떤거가 있고 어떤기능이 있는지 사용해보면서 파악해야함.\n",
    "import가 필요없음.\n",
    "\n",
    "\n",
    "##### [과제] 내장함수 한번씩 다 사용해보기\n",
    "\n",
    "-> 표준 라이브러리: \n",
    "설치할 필요는 없지만 import 해서 써야함.\n",
    "\n",
    "->외부 라이브러리 : \n",
    "별도로 설치해줘야힘. ->pip install (일반적) ->콘다에서 쓸땐 콘다 명령어로 실행\n",
    "\n",
    "->정규 표현식 : \n",
    "나중에 크롤링할 때 필요\n",
    "우너하는 것을 뽑아내려 할때 규칙을 학습해 뽑아내기위함\n",
    "\n",
    "-> 유니코드: 인코딩,디코딩은 기본 상식.\n",
    "파이썬은 유니코드 사용. (아스키 코트 사용 불가)\n",
    "->전세계 문자를 일관되게 표현 가능.UTF-8\n",
    "\n",
    "아스키 코드는 숫자를 영어로 표현 가능. 그외 언어 불가\n",
    "\n",
    "->인코딩 \n",
    "유니코드 문자열은 규칙이기때문에 인코딩없이 불가. 문자->바이트로 변경하는 것=인코딩<->디코딩\n",
    "\n",
    "->포맷코드표 저장해두기\n",
    "\n",
    "\n",
    "\n",
    "\n"
   ]
  },
  {
   "cell_type": "markdown",
   "id": "6ff75f4f",
   "metadata": {},
   "source": [
    "#### 날짜 처리"
   ]
  },
  {
   "cell_type": "code",
   "execution_count": null,
   "id": "93b89dab",
   "metadata": {},
   "outputs": [],
   "source": [
    "#Q. 1609160537.371015(실수)을 \"Mon Dec 28 22:02:17 2020\" 포켓으로 출력하세요.\n",
    "\n",
    "import time #time=모듈\n",
    "t=time.localtime(1609160537.371015) \n",
    "print(t)\n",
    "time.asctime(t) #함수를 입력해 넣어준다\n"
   ]
  },
  {
   "cell_type": "code",
   "execution_count": null,
   "id": "a97e0b9d",
   "metadata": {},
   "outputs": [],
   "source": [
    "#현재시간 가져오기\n",
    "import time\n",
    "t=time.localtime() #공란으로 두면 현재시간 나옴.\n",
    "print(t)"
   ]
  },
  {
   "cell_type": "code",
   "execution_count": 6,
   "id": "b3c3a987",
   "metadata": {},
   "outputs": [
    {
     "name": "stdout",
     "output_type": "stream",
     "text": [
      "time.struct_time(tm_year=2023, tm_mon=3, tm_mday=8, tm_hour=11, tm_min=25, tm_sec=38, tm_wday=2, tm_yday=67, tm_isdst=0)\n",
      "Wed Mar  8 11:25:38 2023\n",
      "Wed Mar  8 11:25:38 2023\n"
     ]
    }
   ],
   "source": [
    "#Q.현재 날짜와 시간을 \"sat jun 26 08:35:03 2021\"포맷으로 출력하세요.\n",
    "\n",
    "import time\n",
    "t=time.localtime()\n",
    "print(t)\n",
    "print(\"%s\" % time.asctime(t))\n",
    "print(f'{time.asctime(t)}')"
   ]
  },
  {
   "cell_type": "code",
   "execution_count": 17,
   "id": "daf7fc49",
   "metadata": {},
   "outputs": [
    {
     "data": {
      "text/plain": [
       "'2023-03-08 11:38:44'"
      ]
     },
     "execution_count": 17,
     "metadata": {},
     "output_type": "execute_result"
    }
   ],
   "source": [
    "#Q.현재시간을 년-월-일 시:분:초로 출력하세요.\n",
    "\n",
    "import time\n",
    "from datetime import datetime # 데이타임 안에서 데이타임을 이용한다(?)\n",
    "t = time.time() #이렇게 뽑으면 실수가 나오는데. 해당 실수를 날짜포멧으로 전환\n",
    "d = datetime.fromtimestamp(t)  # 여기서 한번 더 변형\n",
    "s = d.strftime('%Y-%m-%d %X') (스트링 포 타임:시간을 형태로 하기위한 문자)\n",
    "s"
   ]
  },
  {
   "cell_type": "code",
   "execution_count": 16,
   "id": "9b67e8d7",
   "metadata": {},
   "outputs": [
    {
     "name": "stdout",
     "output_type": "stream",
     "text": [
      "오늘은 2023-01-01 이후 67일째 되는 날 입니다.\n"
     ]
    }
   ],
   "source": [
    "#Q. 올해 경과된 날짜 수 계산하세요.\n",
    "import time\n",
    "t=time.localtime()\n",
    "start_day='%d-01-01' %t.tm_year\n",
    "start_day #2023-01-01 나옴\n",
    "\n",
    "elabsed_day=t.tm_yday  #경과된 날짜 구하는 식.\n",
    "elabsed_day #경과된 날 수 \n",
    "print(f'오늘은 {start_day} 이후 {elabsed_day}일째 되는 날 입니다.')"
   ]
  },
  {
   "cell_type": "code",
   "execution_count": 25,
   "id": "940083a6",
   "metadata": {},
   "outputs": [
    {
     "name": "stdout",
     "output_type": "stream",
     "text": [
      "2023-03-08 오늘은 Wednesday 입니다.\n"
     ]
    }
   ],
   "source": [
    "#Q. 현재 요일을 \"2021-6-26 오늘은 토요일입니다.\"와 같은 형식으로 출력하세요.\n",
    "\n",
    "import time\n",
    "from datetime import datetime \n",
    "t = time.time()\n",
    "d = datetime.fromtimestamp(t)\n",
    "s = d.strftime('%Y-%m-%d')\n",
    "i=d.strftime('%A')\n",
    "print(f'{s} 오늘은 {i} 입니다.')"
   ]
  },
  {
   "cell_type": "code",
   "execution_count": 30,
   "id": "efad55a3",
   "metadata": {},
   "outputs": [
    {
     "ename": "IndexError",
     "evalue": "list index out of range",
     "output_type": "error",
     "traceback": [
      "\u001b[1;31m---------------------------------------------------------------------------\u001b[0m",
      "\u001b[1;31mIndexError\u001b[0m                                Traceback (most recent call last)",
      "\u001b[1;32m~\\AppData\\Local\\Temp\\ipykernel_7540\\3505731426.py\u001b[0m in \u001b[0;36m<module>\u001b[1;34m\u001b[0m\n\u001b[0;32m      3\u001b[0m \u001b[0mt\u001b[0m\u001b[1;33m=\u001b[0m\u001b[0mtime\u001b[0m\u001b[1;33m.\u001b[0m\u001b[0mlocaltime\u001b[0m\u001b[1;33m(\u001b[0m\u001b[1;33m)\u001b[0m\u001b[1;33m\u001b[0m\u001b[1;33m\u001b[0m\u001b[0m\n\u001b[0;32m      4\u001b[0m \u001b[0mtoday\u001b[0m\u001b[1;33m=\u001b[0m\u001b[1;34m'%d-%d-%d'\u001b[0m \u001b[1;33m%\u001b[0m\u001b[1;33m(\u001b[0m\u001b[0mt\u001b[0m\u001b[1;33m.\u001b[0m\u001b[0mtm_year\u001b[0m\u001b[1;33m,\u001b[0m\u001b[0mt\u001b[0m\u001b[1;33m.\u001b[0m\u001b[0mtm_mon\u001b[0m\u001b[1;33m,\u001b[0m\u001b[0mt\u001b[0m\u001b[1;33m.\u001b[0m\u001b[0mtm_mday\u001b[0m\u001b[1;33m)\u001b[0m\u001b[1;33m\u001b[0m\u001b[1;33m\u001b[0m\u001b[0m\n\u001b[1;32m----> 5\u001b[1;33m \u001b[0mweek\u001b[0m\u001b[1;33m=\u001b[0m\u001b[0mweekdays\u001b[0m\u001b[1;33m[\u001b[0m\u001b[0mt\u001b[0m\u001b[1;33m.\u001b[0m\u001b[0mtm_mday\u001b[0m\u001b[1;33m]\u001b[0m\u001b[1;33m\u001b[0m\u001b[1;33m\u001b[0m\u001b[0m\n\u001b[0m\u001b[0;32m      6\u001b[0m \u001b[0mprint\u001b[0m\u001b[1;33m(\u001b[0m\u001b[1;34mf'{today} 오늘은 {week}요일 입니다.'\u001b[0m\u001b[1;33m)\u001b[0m\u001b[1;33m\u001b[0m\u001b[1;33m\u001b[0m\u001b[0m\n",
      "\u001b[1;31mIndexError\u001b[0m: list index out of range"
     ]
    }
   ],
   "source": [
    "★\n",
    "import time\n",
    "weekdays=['월','화','수','목','금','토','일']\n",
    "t=time.localtime()\n",
    "today='%d-%d-%d' %(t.tm_year,t.tm_mon,t.tm_mday)\n",
    "week=weekdays[t.tm_mday]\n",
    "print(f'{today} 오늘은 {week}요일 입니다.')"
   ]
  },
  {
   "cell_type": "markdown",
   "id": "a73b89b9",
   "metadata": {},
   "source": [
    "[과제] 1에서 백만까지 더하는데 걸리는 프로그램 실행 시간을 밀리초(ms)단위로 구하세요<br>\n",
    "(1000 밀리초(ms) = 1초)★"
   ]
  },
  {
   "cell_type": "code",
   "execution_count": null,
   "id": "7a537241",
   "metadata": {},
   "outputs": [],
   "source": [
    "from datetime import datetime\n",
    "\n",
    "start = datetime.now()\n",
    "print(start)\n",
    "print('1에서 백만까지 더합니다.')\n",
    "ret=0\n",
    "for i in range(1000000)"
   ]
  },
  {
   "cell_type": "code",
   "execution_count": null,
   "id": "cf787a82",
   "metadata": {},
   "outputs": [],
   "source": [
    "import time\n",
    "start=time.time()\n",
    "i=0\n",
    "sum=0\n",
    "while i<1000000:\n",
    "    i+=1\n",
    "    "
   ]
  },
  {
   "cell_type": "markdown",
   "id": "7f81b27a",
   "metadata": {},
   "source": [
    "취업할 때 코딩테스트 할 때 파이썬을 고도화 해서 봐야 함.(코딩 테스트용 교제도 있음)\n",
    "분석 라이브러리는 기계적.쉬운편.<br>\n",
    "분석을(학습을)할 수 있는 형태로 바꿔주는것 = 전처리<br>\n",
    "프로젝트 할 때 도메인 지식이 아주 중요<br>\n",
    "로봇플로우라는 프로그램으로 그림도 그려 넣는다. <br>\n",
    "프로젝트:데이터를 알고리즘에 집어넣기 적합한 형태로 만드는것이 중요<br>\n",
    "파이썬 2주안에 마스터 할 수 있도록 <br>\n"
   ]
  },
  {
   "cell_type": "markdown",
   "id": "e3b21390",
   "metadata": {},
   "source": [
    "### 함수"
   ]
  },
  {
   "cell_type": "code",
   "execution_count": 32,
   "id": "14d17ba2",
   "metadata": {},
   "outputs": [
    {
     "name": "stdout",
     "output_type": "stream",
     "text": [
      "Hi!\n"
     ]
    }
   ],
   "source": [
    "#입력값이 없고 결과값만 있는 함수\n",
    "\n",
    "def say():\n",
    "    return 'Hi!'  #결과값\n",
    "a=say()\n",
    "print(a)"
   ]
  },
  {
   "cell_type": "code",
   "execution_count": 1,
   "id": "ccc4a0b0",
   "metadata": {},
   "outputs": [
    {
     "name": "stdout",
     "output_type": "stream",
     "text": [
      "3,4의 합은 7 입니다.\n"
     ]
    }
   ],
   "source": [
    "#입력값은 있고 결과값이 없는 함수\n",
    "#결과값은 오직 return명령어로만 돌려 받을 수 있음.\n",
    "\n",
    "def add(a,b):\n",
    "    print(f'{a},{b}의 합은 {a+b} 입니다.') #이부분은 값은 아니고 프린트 하라는 뜻\n",
    "    \n",
    "add(3,4) #매개변수 넣어준다.\n",
    "    "
   ]
  },
  {
   "cell_type": "code",
   "execution_count": 3,
   "id": "47b2dbc6",
   "metadata": {},
   "outputs": [
    {
     "name": "stdout",
     "output_type": "stream",
     "text": [
      "3,4의 합은 7 입니다.\n",
      "None\n"
     ]
    }
   ],
   "source": [
    "#위에거 보완\n",
    "def add(a,b):\n",
    "    print(f'{a},{b}의 합은 {a+b} 입니다.')\n",
    "    #add(3,4)\n",
    "a=add(3,4)\n",
    "print(a) #a 에 반응하지 않기 때문에 none으로 나온다. 그저 출력이 될 뿐 a에 값으로 입력되지 않는다\n",
    "#결과값은 오직 return명령어로만 돌려 받을 수 있음. 아래 참고"
   ]
  },
  {
   "cell_type": "code",
   "execution_count": 4,
   "id": "4873a102",
   "metadata": {},
   "outputs": [
    {
     "name": "stdout",
     "output_type": "stream",
     "text": [
      "7\n"
     ]
    }
   ],
   "source": [
    "def add(a,b):\n",
    "    return a+b\n",
    "a=add(3,4)\n",
    "print(a)"
   ]
  },
  {
   "cell_type": "code",
   "execution_count": 11,
   "id": "6ec36bfa",
   "metadata": {},
   "outputs": [
    {
     "data": {
      "text/plain": [
       "30"
      ]
     },
     "execution_count": 11,
     "metadata": {},
     "output_type": "execute_result"
    }
   ],
   "source": [
    "#입력값도 있고 결과값도 있는 함수 \n",
    "#들여쓰기 잘못하면 출력 자체가 안되니 주의할 것.\n",
    "\n",
    "def max(a,b,c):\n",
    "    if a>b:\n",
    "        if a>c:\n",
    "            return a #a로 반환된다\n",
    "        elif a<c:\n",
    "            return c\n",
    "    if a<b:\n",
    "        if b>c:\n",
    "            return b\n",
    "        else:\n",
    "            return c\n",
    "max(10,20,30)"
   ]
  },
  {
   "cell_type": "code",
   "execution_count": 6,
   "id": "d7a3082b",
   "metadata": {},
   "outputs": [
    {
     "name": "stdout",
     "output_type": "stream",
     "text": [
      "Hi\n"
     ]
    }
   ],
   "source": [
    "#입력값도 결과값도 없는 함수\n",
    "def say():\n",
    "    print('Hi')\n",
    "say()"
   ]
  },
  {
   "cell_type": "code",
   "execution_count": 43,
   "id": "b9835d9b",
   "metadata": {},
   "outputs": [
    {
     "data": {
      "text/plain": [
       "55"
      ]
     },
     "execution_count": 43,
     "metadata": {},
     "output_type": "execute_result"
    }
   ],
   "source": [
    "#여러개의 입력값을 받는 함수 만들기\n",
    "#*args처럼 입력 변수명 앞에 *을 붙이면 입력값들을 전부 모아서 튜플로 만들어줌\n",
    "\n",
    "def add_many(*args):\n",
    "    add=0\n",
    "    for i in args:\n",
    "        add += i\n",
    "    return add\n",
    "add_many(1,2,3,4,5,6,7,8,9,10)"
   ]
  },
  {
   "cell_type": "code",
   "execution_count": 45,
   "id": "69849986",
   "metadata": {},
   "outputs": [
    {
     "name": "stdout",
     "output_type": "stream",
     "text": [
      "(7, 12)\n"
     ]
    }
   ],
   "source": [
    "#함수의 반환 값은 언제나 하나.- 결과 값으로 튜플 값 하나를 갖게 됨.\n",
    "def add_and_mul(a,b):\n",
    "    return a+b, a*b\n",
    "result=add_and_mul(3,4)\n",
    "print(result)"
   ]
  },
  {
   "cell_type": "code",
   "execution_count": 14,
   "id": "178ecb3c",
   "metadata": {},
   "outputs": [
    {
     "ename": "SyntaxError",
     "evalue": "invalid syntax (2058502718.py, line 3)",
     "output_type": "error",
     "traceback": [
      "\u001b[1;36m  File \u001b[1;32m\"C:\\Users\\h\\AppData\\Local\\Temp\\ipykernel_11640\\2058502718.py\"\u001b[1;36m, line \u001b[1;32m3\u001b[0m\n\u001b[1;33m    def add_many(1,2,3,4,5):\u001b[0m\n\u001b[1;37m                 ^\u001b[0m\n\u001b[1;31mSyntaxError\u001b[0m\u001b[1;31m:\u001b[0m invalid syntax\n"
     ]
    }
   ],
   "source": [
    "#Q. add_mul()함수를 정의하며 1,2,3,4,5를 입력 값으로 적용하여 덧셈,곱셈 연산을 수행하세요.\n",
    "\n",
    "def add_many(1,2,3,4,5):\n",
    "    result=0\n",
    "    for i in args:\n",
    "        result=result+i\n",
    "        return result\n"
   ]
  },
  {
   "cell_type": "code",
   "execution_count": 73,
   "id": "1fdfd5ab",
   "metadata": {},
   "outputs": [
    {
     "data": {
      "text/plain": [
       "15"
      ]
     },
     "execution_count": 73,
     "metadata": {},
     "output_type": "execute_result"
    }
   ],
   "source": [
    "#정답\n",
    "\n",
    "def add_mul(choice,*args): #<두개의 인자값\n",
    "    if choice =='+': #choice가 +면 리절트가 0\n",
    "        result=0\n",
    "        for i in args:\n",
    "            result+=i\n",
    "        return result\n",
    "    elif choice=='*':\n",
    "        result=1\n",
    "        for i in args:\n",
    "            result*=i\n",
    "        return result\n",
    "    else:\n",
    "        print('수행할 수 없는 연산입니다.')\n",
    "            \n",
    "    \n",
    "add_mul('*',1,2,3,4,5)\n",
    "add_mul('+',1,2,3,4,5)"
   ]
  },
  {
   "cell_type": "code",
   "execution_count": null,
   "id": "1bc1d4f7",
   "metadata": {},
   "outputs": [],
   "source": [
    "def sub_div (choice, *args): #sub: 뺄셈, div:나눗셈\n",
    "    "
   ]
  },
  {
   "cell_type": "code",
   "execution_count": 13,
   "id": "14916820",
   "metadata": {},
   "outputs": [
    {
     "data": {
      "text/plain": [
       "(15, 120)"
      ]
     },
     "execution_count": 13,
     "metadata": {},
     "output_type": "execute_result"
    }
   ],
   "source": [
    "def add_mul(*args):\n",
    "    plus=0\n",
    "    for i in args:\n",
    "        plus+=i\n",
    "    db=1\n",
    "    for i in args:\n",
    "        db*=i\n",
    "    return plus,db\n",
    "add_mul(1,2,3,4,5)"
   ]
  },
  {
   "cell_type": "code",
   "execution_count": null,
   "id": "966ae171",
   "metadata": {},
   "outputs": [],
   "source": [
    "https://github.com/bnv20/hmkd1\n",
    "    깃허브 주소"
   ]
  },
  {
   "cell_type": "code",
   "execution_count": 50,
   "id": "20eb3fc1",
   "metadata": {
    "scrolled": true
   },
   "outputs": [
    {
     "ename": "SyntaxError",
     "evalue": "EOL while scanning string literal (2423065632.py, line 13)",
     "output_type": "error",
     "traceback": [
      "\u001b[1;36m  File \u001b[1;32m\"C:\\Users\\h\\AppData\\Local\\Temp\\ipykernel_3792\\2423065632.py\"\u001b[1;36m, line \u001b[1;32m13\u001b[0m\n\u001b[1;33m    print(f'커플{i+1}:{couple[0]}-{couple[1]})\u001b[0m\n\u001b[1;37m                                            ^\u001b[0m\n\u001b[1;31mSyntaxError\u001b[0m\u001b[1;31m:\u001b[0m EOL while scanning string literal\n"
     ]
    }
   ],
   "source": [
    "#[과제]남녀 파트너 정해주기 프로그램을 작성하세요(5개 커플) ★\n",
    "\n",
    "import random\n",
    "random\n",
    "a=['남자1','남자2','남자3','남자4''남자5']\n",
    "b=['여자1','여자2','여자3','여자4','여자5']\n",
    "\n",
    "random.choice(a)\n",
    "random.choice(b)\n",
    "couples = zip(a,b)\n",
    "\n",
    "for i, couple in enumerate(couples):\n",
    "    print(f'커플{i+1}:{couple[0]}-{couple[1]})"
   ]
  },
  {
   "cell_type": "code",
   "execution_count": null,
   "id": "a721c5c9",
   "metadata": {},
   "outputs": [],
   "source": [
    "[정답]\n",
    "import random\n"
   ]
  },
  {
   "cell_type": "code",
   "execution_count": 37,
   "id": "47c1c589",
   "metadata": {},
   "outputs": [
    {
     "ename": "IndentationError",
     "evalue": "expected an indented block (2752328067.py, line 15)",
     "output_type": "error",
     "traceback": [
      "\u001b[1;36m  File \u001b[1;32m\"C:\\Users\\h\\AppData\\Local\\Temp\\ipykernel_11640\\2752328067.py\"\u001b[1;36m, line \u001b[1;32m15\u001b[0m\n\u001b[1;33m    print(f\"{man}-{woman}\")\u001b[0m\n\u001b[1;37m    ^\u001b[0m\n\u001b[1;31mIndentationError\u001b[0m\u001b[1;31m:\u001b[0m expected an indented block\n"
     ]
    }
   ],
   "source": [
    "import random\n",
    "\n",
    "a=['남자1','남자2','남자3','남자4''남자5']\n",
    "b=['여자1','여자2','여자3','여자4','여자5']\n",
    "\n",
    "couples={}\n",
    "\n",
    "for man in men:\n",
    "    while True:\n",
    "        woman=random.choice(women)\n",
    "        if woman not in couples.values():\n",
    "            couples[man]=woman\n",
    "            break\n",
    "\n",
    "for man, woman in couples.items():\n",
    "print(f\"{man}-{woman}\")\n",
    "        "
   ]
  },
  {
   "cell_type": "code",
   "execution_count": null,
   "id": "f0f4bdd6",
   "metadata": {},
   "outputs": [],
   "source": []
  },
  {
   "cell_type": "code",
   "execution_count": 3,
   "id": "394a2328",
   "metadata": {
    "scrolled": true
   },
   "outputs": [
    {
     "name": "stdout",
     "output_type": "stream",
     "text": [
      "['e', 'd', 'b', 'a', 'c']\n"
     ]
    }
   ],
   "source": [
    "#[과제] 입력받은 문자열의 각 문자를 그 다음 문자로 변경하여 출력하세요.\n",
    "#입력 abcde -> 출력 bcdea\n",
    "\n",
    "import random\n",
    "\n",
    "items= [\"a\",\"b\",\"c\",\"d\",\"e\"]\n",
    "random.shuffle(items)\n",
    "print(items)"
   ]
  },
  {
   "cell_type": "code",
   "execution_count": 55,
   "id": "2e18de9c",
   "metadata": {},
   "outputs": [
    {
     "name": "stdout",
     "output_type": "stream",
     "text": [
      "['a', 'b', 'c', 'd', 'e']\n"
     ]
    },
    {
     "ename": "NameError",
     "evalue": "name 'ist' is not defined",
     "output_type": "error",
     "traceback": [
      "\u001b[1;31m---------------------------------------------------------------------------\u001b[0m",
      "\u001b[1;31mNameError\u001b[0m                                 Traceback (most recent call last)",
      "\u001b[1;32m~\\AppData\\Local\\Temp\\ipykernel_3792\\2149833031.py\u001b[0m in \u001b[0;36m<module>\u001b[1;34m\u001b[0m\n\u001b[0;32m      2\u001b[0m \u001b[0mlst\u001b[0m\u001b[1;33m=\u001b[0m\u001b[0mlist\u001b[0m\u001b[1;33m(\u001b[0m\u001b[0mstr\u001b[0m\u001b[1;33m)\u001b[0m\u001b[1;33m\u001b[0m\u001b[1;33m\u001b[0m\u001b[0m\n\u001b[0;32m      3\u001b[0m \u001b[0mprint\u001b[0m\u001b[1;33m(\u001b[0m\u001b[0mlst\u001b[0m\u001b[1;33m)\u001b[0m\u001b[1;33m\u001b[0m\u001b[1;33m\u001b[0m\u001b[0m\n\u001b[1;32m----> 4\u001b[1;33m \u001b[0mist\u001b[0m\u001b[1;33m.\u001b[0m\u001b[0mappend\u001b[0m\u001b[1;33m(\u001b[0m\u001b[0mlst\u001b[0m\u001b[1;33m[\u001b[0m\u001b[1;36m0\u001b[0m\u001b[1;33m]\u001b[0m\u001b[1;33m)\u001b[0m\u001b[1;33m\u001b[0m\u001b[1;33m\u001b[0m\u001b[0m\n\u001b[0m\u001b[0;32m      5\u001b[0m \u001b[0mlst\u001b[0m\u001b[1;33m.\u001b[0m\u001b[0mremove\u001b[0m\u001b[1;33m(\u001b[0m\u001b[0mlst\u001b[0m\u001b[1;33m[\u001b[0m\u001b[1;36m0\u001b[0m\u001b[1;33m]\u001b[0m\u001b[1;33m)\u001b[0m\u001b[1;33m\u001b[0m\u001b[1;33m\u001b[0m\u001b[0m\n\u001b[0;32m      6\u001b[0m \u001b[0mstr\u001b[0m\u001b[1;33m=\u001b[0m\u001b[1;34m''\u001b[0m\u001b[1;33m.\u001b[0m\u001b[0mjoin\u001b[0m\u001b[1;33m(\u001b[0m\u001b[0mlst\u001b[0m\u001b[1;33m)\u001b[0m\u001b[1;33m\u001b[0m\u001b[1;33m\u001b[0m\u001b[0m\n",
      "\u001b[1;31mNameError\u001b[0m: name 'ist' is not defined"
     ]
    }
   ],
   "source": [
    "str=\"abcde\"\n",
    "lst=list(str)\n",
    "print(lst)\n",
    "ist.append(lst[0])\n",
    "lst.remove(lst[0])\n",
    "str=''.join(lst)\n",
    "str"
   ]
  },
  {
   "cell_type": "code",
   "execution_count": 56,
   "id": "3235fbf8",
   "metadata": {},
   "outputs": [
    {
     "name": "stdout",
     "output_type": "stream",
     "text": [
      "옥씨분식점에 오신걸 환영합니다.\n",
      "==================================================\n",
      "\n",
      "-메뉴-\n",
      "라면:3000원\n",
      "떡볶이: 2000원\n",
      "김밥: 2000원\n",
      "\n",
      "==================================================\n"
     ]
    },
    {
     "ename": "KeyboardInterrupt",
     "evalue": "Interrupted by user",
     "output_type": "error",
     "traceback": [
      "\u001b[1;31m---------------------------------------------------------------------------\u001b[0m",
      "\u001b[1;31mKeyboardInterrupt\u001b[0m                         Traceback (most recent call last)",
      "\u001b[1;32m~\\AppData\\Local\\Temp\\ipykernel_3792\\1087019978.py\u001b[0m in \u001b[0;36m<module>\u001b[1;34m\u001b[0m\n\u001b[0;32m     12\u001b[0m \u001b[0mprint\u001b[0m\u001b[1;33m(\u001b[0m\u001b[1;34m\"=\"\u001b[0m\u001b[1;33m*\u001b[0m\u001b[1;36m50\u001b[0m\u001b[1;33m)\u001b[0m\u001b[1;33m\u001b[0m\u001b[1;33m\u001b[0m\u001b[0m\n\u001b[0;32m     13\u001b[0m \u001b[1;33m\u001b[0m\u001b[0m\n\u001b[1;32m---> 14\u001b[1;33m \u001b[0morder\u001b[0m\u001b[1;33m=\u001b[0m\u001b[0minput\u001b[0m\u001b[1;33m(\u001b[0m\u001b[1;34m\"메뉴를 선택하세요. ex) 떡볶이, 라면, 김밥>>>\"\u001b[0m\u001b[1;33m)\u001b[0m\u001b[1;33m\u001b[0m\u001b[1;33m\u001b[0m\u001b[0m\n\u001b[0m\u001b[0;32m     15\u001b[0m \u001b[1;33m\u001b[0m\u001b[0m\n\u001b[0;32m     16\u001b[0m \u001b[0mprice\u001b[0m\u001b[1;33m=\u001b[0m\u001b[1;36m0\u001b[0m\u001b[1;33m\u001b[0m\u001b[1;33m\u001b[0m\u001b[0m\n",
      "\u001b[1;32m~\\Anaconda3\\lib\\site-packages\\ipykernel\\kernelbase.py\u001b[0m in \u001b[0;36mraw_input\u001b[1;34m(self, prompt)\u001b[0m\n\u001b[0;32m   1175\u001b[0m                 \u001b[1;34m\"raw_input was called, but this frontend does not support input requests.\"\u001b[0m\u001b[1;33m\u001b[0m\u001b[1;33m\u001b[0m\u001b[0m\n\u001b[0;32m   1176\u001b[0m             )\n\u001b[1;32m-> 1177\u001b[1;33m         return self._input_request(\n\u001b[0m\u001b[0;32m   1178\u001b[0m             \u001b[0mstr\u001b[0m\u001b[1;33m(\u001b[0m\u001b[0mprompt\u001b[0m\u001b[1;33m)\u001b[0m\u001b[1;33m,\u001b[0m\u001b[1;33m\u001b[0m\u001b[1;33m\u001b[0m\u001b[0m\n\u001b[0;32m   1179\u001b[0m             \u001b[0mself\u001b[0m\u001b[1;33m.\u001b[0m\u001b[0m_parent_ident\u001b[0m\u001b[1;33m[\u001b[0m\u001b[1;34m\"shell\"\u001b[0m\u001b[1;33m]\u001b[0m\u001b[1;33m,\u001b[0m\u001b[1;33m\u001b[0m\u001b[1;33m\u001b[0m\u001b[0m\n",
      "\u001b[1;32m~\\Anaconda3\\lib\\site-packages\\ipykernel\\kernelbase.py\u001b[0m in \u001b[0;36m_input_request\u001b[1;34m(self, prompt, ident, parent, password)\u001b[0m\n\u001b[0;32m   1217\u001b[0m             \u001b[1;32mexcept\u001b[0m \u001b[0mKeyboardInterrupt\u001b[0m\u001b[1;33m:\u001b[0m\u001b[1;33m\u001b[0m\u001b[1;33m\u001b[0m\u001b[0m\n\u001b[0;32m   1218\u001b[0m                 \u001b[1;31m# re-raise KeyboardInterrupt, to truncate traceback\u001b[0m\u001b[1;33m\u001b[0m\u001b[1;33m\u001b[0m\u001b[0m\n\u001b[1;32m-> 1219\u001b[1;33m                 \u001b[1;32mraise\u001b[0m \u001b[0mKeyboardInterrupt\u001b[0m\u001b[1;33m(\u001b[0m\u001b[1;34m\"Interrupted by user\"\u001b[0m\u001b[1;33m)\u001b[0m \u001b[1;32mfrom\u001b[0m \u001b[1;32mNone\u001b[0m\u001b[1;33m\u001b[0m\u001b[1;33m\u001b[0m\u001b[0m\n\u001b[0m\u001b[0;32m   1220\u001b[0m             \u001b[1;32mexcept\u001b[0m \u001b[0mException\u001b[0m\u001b[1;33m:\u001b[0m\u001b[1;33m\u001b[0m\u001b[1;33m\u001b[0m\u001b[0m\n\u001b[0;32m   1221\u001b[0m                 \u001b[0mself\u001b[0m\u001b[1;33m.\u001b[0m\u001b[0mlog\u001b[0m\u001b[1;33m.\u001b[0m\u001b[0mwarning\u001b[0m\u001b[1;33m(\u001b[0m\u001b[1;34m\"Invalid Message:\"\u001b[0m\u001b[1;33m,\u001b[0m \u001b[0mexc_info\u001b[0m\u001b[1;33m=\u001b[0m\u001b[1;32mTrue\u001b[0m\u001b[1;33m)\u001b[0m\u001b[1;33m\u001b[0m\u001b[1;33m\u001b[0m\u001b[0m\n",
      "\u001b[1;31mKeyboardInterrupt\u001b[0m: Interrupted by user"
     ]
    }
   ],
   "source": [
    "#[과제] 음식점의 음식 주문가격 산출 프로그램을 자유롭게 작성하세요.\n",
    "\n",
    "menu=\"\"\"\n",
    "-메뉴-\n",
    "라면:3000원\n",
    "떡볶이: 2000원\n",
    "김밥: 2000원\n",
    "\"\"\"\n",
    "print(\"옥씨분식점에 오신걸 환영합니다.\")\n",
    "print(\"=\"*50)\n",
    "print(menu)\n",
    "print(\"=\"*50)\n",
    "\n",
    "order=input(\"메뉴를 선택하세요. ex) 떡볶이, 라면, 김밥>>>\")\n",
    "\n",
    "price=0\n",
    "\n",
    "if order=='떡볶이':\n",
    "    price=2_000\n",
    "elif order=='라면':\n",
    "    price=3_000\n",
    "else:\n",
    "    price=2_000\n",
    "print(f\"총 금액은 {price}원 입니다.\")"
   ]
  },
  {
   "cell_type": "code",
   "execution_count": 39,
   "id": "4104e75c",
   "metadata": {},
   "outputs": [],
   "source": [
    "#[도전과제]Player가 3승할 때까지 계속 진행되는 가위바위보 게임 프로그램을 작성하세요.\n",
    "#게임은 Player와 컴퓨터가 진행\n",
    "\n",
    "#cnt(카운터 변수). 종료기능 넣어줘야한다.  "
   ]
  },
  {
   "cell_type": "code",
   "execution_count": 40,
   "id": "55e4cdd8",
   "metadata": {},
   "outputs": [
    {
     "name": "stdout",
     "output_type": "stream",
     "text": [
      "\n",
      "-------------------------------------------\n",
      "가위, 바위, 보 : 가위\n",
      "사용자 ( 가위 vs 바위 ) 컴퓨터\n",
      "패배했습니다.\n",
      "다시하시겠습까? : 예, 아니요예\n",
      "가위, 바위, 보 : 바위\n",
      "사용자 ( 바위 vs 보 ) 컴퓨터\n",
      "패배했습니다.\n",
      "다시하시겠습까? : 예, 아니요바위\n",
      "예 또는 아니요를 입력하세요.\n",
      "다시하시겠습까? : 예, 아니요예\n",
      "가위, 바위, 보 : 바위\n",
      "사용자 ( 바위 vs 보 ) 컴퓨터\n",
      "패배했습니다.\n",
      "다시하시겠습까? : 예, 아니요예\n",
      "가위, 바위, 보 : 바위\n",
      "사용자 ( 바위 vs 가위 ) 컴퓨터\n",
      "승리했습니다.\n"
     ]
    },
    {
     "ename": "KeyboardInterrupt",
     "evalue": "Interrupted by user",
     "output_type": "error",
     "traceback": [
      "\u001b[1;31m---------------------------------------------------------------------------\u001b[0m",
      "\u001b[1;31mKeyboardInterrupt\u001b[0m                         Traceback (most recent call last)",
      "\u001b[1;32m~\\AppData\\Local\\Temp\\ipykernel_11640\\2299101795.py\u001b[0m in \u001b[0;36m<module>\u001b[1;34m\u001b[0m\n\u001b[0;32m     39\u001b[0m     \u001b[0mcom\u001b[0m \u001b[1;33m=\u001b[0m \u001b[0msel\u001b[0m\u001b[1;33m[\u001b[0m\u001b[0mrandom\u001b[0m\u001b[1;33m.\u001b[0m\u001b[0mrandint\u001b[0m\u001b[1;33m(\u001b[0m\u001b[1;36m0\u001b[0m\u001b[1;33m,\u001b[0m \u001b[1;36m2\u001b[0m\u001b[1;33m)\u001b[0m\u001b[1;33m]\u001b[0m\u001b[1;33m\u001b[0m\u001b[1;33m\u001b[0m\u001b[0m\n\u001b[0;32m     40\u001b[0m     \u001b[1;32mif\u001b[0m \u001b[0mcheckWin\u001b[0m\u001b[1;33m(\u001b[0m\u001b[0muser\u001b[0m\u001b[1;33m,\u001b[0m \u001b[0mcom\u001b[0m\u001b[1;33m)\u001b[0m\u001b[1;33m:\u001b[0m\u001b[1;33m\u001b[0m\u001b[1;33m\u001b[0m\u001b[0m\n\u001b[1;32m---> 41\u001b[1;33m         \u001b[1;32mif\u001b[0m \u001b[0mcontinueComfirm\u001b[0m\u001b[1;33m(\u001b[0m\u001b[1;33m)\u001b[0m\u001b[1;33m:\u001b[0m\u001b[1;33m\u001b[0m\u001b[1;33m\u001b[0m\u001b[0m\n\u001b[0m\u001b[0;32m     42\u001b[0m             \u001b[1;32mcontinue\u001b[0m\u001b[1;33m\u001b[0m\u001b[1;33m\u001b[0m\u001b[0m\n\u001b[0;32m     43\u001b[0m         \u001b[1;32melse\u001b[0m\u001b[1;33m:\u001b[0m\u001b[1;33m\u001b[0m\u001b[1;33m\u001b[0m\u001b[0m\n",
      "\u001b[1;32m~\\AppData\\Local\\Temp\\ipykernel_11640\\2299101795.py\u001b[0m in \u001b[0;36mcontinueComfirm\u001b[1;34m()\u001b[0m\n\u001b[0;32m     26\u001b[0m \u001b[1;32mdef\u001b[0m \u001b[0mcontinueComfirm\u001b[0m\u001b[1;33m(\u001b[0m\u001b[1;33m)\u001b[0m\u001b[1;33m:\u001b[0m\u001b[1;33m\u001b[0m\u001b[1;33m\u001b[0m\u001b[0m\n\u001b[0;32m     27\u001b[0m     \u001b[1;32mwhile\u001b[0m \u001b[1;32mTrue\u001b[0m\u001b[1;33m:\u001b[0m\u001b[1;33m\u001b[0m\u001b[1;33m\u001b[0m\u001b[0m\n\u001b[1;32m---> 28\u001b[1;33m         \u001b[0muser\u001b[0m \u001b[1;33m=\u001b[0m \u001b[0minput\u001b[0m\u001b[1;33m(\u001b[0m\u001b[1;34m\"다시하시겠습까? : 예, 아니요\"\u001b[0m\u001b[1;33m)\u001b[0m\u001b[1;33m\u001b[0m\u001b[1;33m\u001b[0m\u001b[0m\n\u001b[0m\u001b[0;32m     29\u001b[0m         \u001b[1;32mif\u001b[0m \u001b[0muser\u001b[0m \u001b[1;33m==\u001b[0m \u001b[1;34m'예'\u001b[0m\u001b[1;33m:\u001b[0m\u001b[1;33m\u001b[0m\u001b[1;33m\u001b[0m\u001b[0m\n\u001b[0;32m     30\u001b[0m             \u001b[1;32mreturn\u001b[0m \u001b[1;32mTrue\u001b[0m\u001b[1;33m\u001b[0m\u001b[1;33m\u001b[0m\u001b[0m\n",
      "\u001b[1;32m~\\Anaconda3\\lib\\site-packages\\ipykernel\\kernelbase.py\u001b[0m in \u001b[0;36mraw_input\u001b[1;34m(self, prompt)\u001b[0m\n\u001b[0;32m   1175\u001b[0m                 \u001b[1;34m\"raw_input was called, but this frontend does not support input requests.\"\u001b[0m\u001b[1;33m\u001b[0m\u001b[1;33m\u001b[0m\u001b[0m\n\u001b[0;32m   1176\u001b[0m             )\n\u001b[1;32m-> 1177\u001b[1;33m         return self._input_request(\n\u001b[0m\u001b[0;32m   1178\u001b[0m             \u001b[0mstr\u001b[0m\u001b[1;33m(\u001b[0m\u001b[0mprompt\u001b[0m\u001b[1;33m)\u001b[0m\u001b[1;33m,\u001b[0m\u001b[1;33m\u001b[0m\u001b[1;33m\u001b[0m\u001b[0m\n\u001b[0;32m   1179\u001b[0m             \u001b[0mself\u001b[0m\u001b[1;33m.\u001b[0m\u001b[0m_parent_ident\u001b[0m\u001b[1;33m[\u001b[0m\u001b[1;34m\"shell\"\u001b[0m\u001b[1;33m]\u001b[0m\u001b[1;33m,\u001b[0m\u001b[1;33m\u001b[0m\u001b[1;33m\u001b[0m\u001b[0m\n",
      "\u001b[1;32m~\\Anaconda3\\lib\\site-packages\\ipykernel\\kernelbase.py\u001b[0m in \u001b[0;36m_input_request\u001b[1;34m(self, prompt, ident, parent, password)\u001b[0m\n\u001b[0;32m   1217\u001b[0m             \u001b[1;32mexcept\u001b[0m \u001b[0mKeyboardInterrupt\u001b[0m\u001b[1;33m:\u001b[0m\u001b[1;33m\u001b[0m\u001b[1;33m\u001b[0m\u001b[0m\n\u001b[0;32m   1218\u001b[0m                 \u001b[1;31m# re-raise KeyboardInterrupt, to truncate traceback\u001b[0m\u001b[1;33m\u001b[0m\u001b[1;33m\u001b[0m\u001b[0m\n\u001b[1;32m-> 1219\u001b[1;33m                 \u001b[1;32mraise\u001b[0m \u001b[0mKeyboardInterrupt\u001b[0m\u001b[1;33m(\u001b[0m\u001b[1;34m\"Interrupted by user\"\u001b[0m\u001b[1;33m)\u001b[0m \u001b[1;32mfrom\u001b[0m \u001b[1;32mNone\u001b[0m\u001b[1;33m\u001b[0m\u001b[1;33m\u001b[0m\u001b[0m\n\u001b[0m\u001b[0;32m   1220\u001b[0m             \u001b[1;32mexcept\u001b[0m \u001b[0mException\u001b[0m\u001b[1;33m:\u001b[0m\u001b[1;33m\u001b[0m\u001b[1;33m\u001b[0m\u001b[0m\n\u001b[0;32m   1221\u001b[0m                 \u001b[0mself\u001b[0m\u001b[1;33m.\u001b[0m\u001b[0mlog\u001b[0m\u001b[1;33m.\u001b[0m\u001b[0mwarning\u001b[0m\u001b[1;33m(\u001b[0m\u001b[1;34m\"Invalid Message:\"\u001b[0m\u001b[1;33m,\u001b[0m \u001b[0mexc_info\u001b[0m\u001b[1;33m=\u001b[0m\u001b[1;32mTrue\u001b[0m\u001b[1;33m)\u001b[0m\u001b[1;33m\u001b[0m\u001b[1;33m\u001b[0m\u001b[0m\n",
      "\u001b[1;31mKeyboardInterrupt\u001b[0m: Interrupted by user"
     ]
    }
   ],
   "source": [
    "import random\n",
    "\n",
    "sel = ['가위', '바위', '보']\n",
    "result = {0: '승리했습니다.', 1: '패배했습니다.', 2: '비겼습니다.'}\n",
    "\n",
    "def checkWin(user, com):\n",
    "\n",
    "    if not user in sel:\n",
    "       print('잘못입력하였습니다. 다시 입력하세요')\n",
    "       return False\n",
    "\n",
    "    print(f'사용자 ( {user} vs {com} ) 컴퓨터')\n",
    "    if user == com:\n",
    "        state = 2\n",
    "    elif user == '가위' and com == '바위':\n",
    "        state = 1\n",
    "    elif user == '바위' and com == '보':\n",
    "        state = 1\n",
    "    elif user == '보' and com == '가위':\n",
    "        state = 1\n",
    "    else:\n",
    "        state = 0\n",
    "    print(result[state])\n",
    "    return True\n",
    "\n",
    "def continueComfirm():\n",
    "    while True:\n",
    "        user = input(\"다시하시겠습까? : 예, 아니요\")\n",
    "        if user == '예':\n",
    "            return True\n",
    "        elif user == '아니요':\n",
    "            return False\n",
    "        else:\n",
    "            print(\"예 또는 아니요를 입력하세요.\")\n",
    "\n",
    "print('\\n-------------------------------------------')\n",
    "while True:\n",
    "    user = input(\"가위, 바위, 보 : \")\n",
    "    com = sel[random.randint(0, 2)]\n",
    "    if checkWin(user, com):\n",
    "        if continueComfirm():\n",
    "            continue\n",
    "        else:\n",
    "            break\n",
    "print('-------------------------------------------\\n')\n"
   ]
  },
  {
   "cell_type": "code",
   "execution_count": null,
   "id": "66f16046",
   "metadata": {},
   "outputs": [],
   "source": []
  },
  {
   "cell_type": "code",
   "execution_count": null,
   "id": "e8a2aa8b",
   "metadata": {},
   "outputs": [],
   "source": [
    "# [도전과제] 컴퓨터가 랜덤하게 생성하는 숫자 맞추기 게임 프로그램을 작성하세요"
   ]
  },
  {
   "cell_type": "code",
   "execution_count": null,
   "id": "cb4e3222",
   "metadata": {},
   "outputs": [],
   "source": []
  },
  {
   "cell_type": "markdown",
   "id": "10e7ff70",
   "metadata": {},
   "source": [
    "# 3.9일 목요일"
   ]
  },
  {
   "cell_type": "code",
   "execution_count": 24,
   "id": "ba96edff",
   "metadata": {},
   "outputs": [
    {
     "name": "stdout",
     "output_type": "stream",
     "text": [
      "32\n",
      "25\n"
     ]
    }
   ],
   "source": [
    "x=lambda a,b:a**b\n",
    "print(x(2,5))\n",
    "print(x(5,2))"
   ]
  },
  {
   "cell_type": "markdown",
   "id": "1320ddf3",
   "metadata": {},
   "source": [
    "내장함수, 외장함수\n",
    "http://codedrive.tistory.com/91\n",
    "\n",
    "각 문자를 아스키코드로 비교했을때 a와 A를 비교했을때 a가 더 크다\n",
    "a<b, a>A\n"
   ]
  },
  {
   "cell_type": "markdown",
   "id": "a77a3e79",
   "metadata": {},
   "source": [
    "필터-조건에 맞는 함수 걸러내는거\n",
    "map-필터와 비슷한 역할을 하지만 반복가능한 각 요소에 함수를 적용해준다(맵핑한다)\n",
    "모듈을 쓸땐 도트사용 \n",
    "\n",
    "#### glob \n",
    ": glob.glob(\"경로\") 경로안의 모든 자료를 가져온다\n",
    " \n",
    "#### daytime\n",
    "안에는 데이뿐만 아니라 타임과 데이트 클래스도 잇다. \n",
    "\n",
    "#### random\n",
    "함수 매서드 사용\n",
    "\n",
    "#### randint\n",
    "randint는 도트와 함께 사용한다. randint.ㅇㅇㅇ\n",
    "\n",
    "\n"
   ]
  },
  {
   "cell_type": "code",
   "execution_count": 190,
   "id": "1f7b421f",
   "metadata": {},
   "outputs": [
    {
     "data": {
      "text/plain": [
       "1"
      ]
     },
     "execution_count": 190,
     "metadata": {},
     "output_type": "execute_result"
    }
   ],
   "source": [
    "#2와 5를 더한 후 3으로 나눈 나머지 값을 사용자 함수를 이용하여 구하세요\n",
    "#%나머지 값\n",
    "def cal_abc(a,b,c):\n",
    "    return(a+b)%c\n",
    "cal_abc(2,5,3)"
   ]
  },
  {
   "cell_type": "code",
   "execution_count": 36,
   "id": "b5027b70",
   "metadata": {},
   "outputs": [
    {
     "name": "stdout",
     "output_type": "stream",
     "text": [
      " \n",
      "\n",
      "       it is true\n",
      "       \n",
      "       \n",
      "       'python is fit for data analysis'\n",
      "\n",
      "\n",
      "it is true\n",
      "       \n",
      "       \n",
      "       'python is fit for data analysis'\n"
     ]
    }
   ],
   "source": [
    "#문자열 암의 공백을 제거하고 아래와 같이 출력하세요\n",
    "#\"\"\"붙이면 있는 그대로 처리됨 \n",
    "input_a=\"\"\" \n",
    "\n",
    "       it is true\n",
    "       \n",
    "       \n",
    "       'python is fit for data analysis'\n",
    "\"\"\"\n",
    "print(input_a)\n",
    "print()\n",
    "print(input_a.strip()) #strip=맨 앞 공백을 없애준다\n"
   ]
  },
  {
   "cell_type": "code",
   "execution_count": 33,
   "id": "58eb275a",
   "metadata": {},
   "outputs": [
    {
     "name": "stdout",
     "output_type": "stream",
     "text": [
      "['10', '20', '30', '40', '50']\n"
     ]
    },
    {
     "data": {
      "text/plain": [
       "['10', '20', '30', '40', '50']"
      ]
     },
     "execution_count": 33,
     "metadata": {},
     "output_type": "execute_result"
    }
   ],
   "source": [
    "#\"10/20/30/40/50\"dmf '/'를 기준으로 자르세요.\n",
    "\n",
    "a=\"10/20/30/40/50\"\n",
    "b=\"10,20,30,40,50\"\n",
    "print(a.split(\"/\"))\n",
    "b.split(\",\")"
   ]
  },
  {
   "cell_type": "code",
   "execution_count": 37,
   "id": "e0460523",
   "metadata": {},
   "outputs": [
    {
     "ename": "KeyboardInterrupt",
     "evalue": "Interrupted by user",
     "output_type": "error",
     "traceback": [
      "\u001b[1;31m---------------------------------------------------------------------------\u001b[0m",
      "\u001b[1;31mKeyboardInterrupt\u001b[0m                         Traceback (most recent call last)",
      "\u001b[1;32m~\\AppData\\Local\\Temp\\ipykernel_3792\\705406471.py\u001b[0m in \u001b[0;36m<module>\u001b[1;34m\u001b[0m\n\u001b[0;32m      5\u001b[0m \u001b[1;31m#입력값 x,y. 정수:int,실수:플로트(?)\u001b[0m\u001b[1;33m\u001b[0m\u001b[1;33m\u001b[0m\u001b[0m\n\u001b[0;32m      6\u001b[0m \u001b[1;33m\u001b[0m\u001b[0m\n\u001b[1;32m----> 7\u001b[1;33m \u001b[0mx\u001b[0m\u001b[1;33m=\u001b[0m\u001b[0mint\u001b[0m\u001b[1;33m(\u001b[0m\u001b[0minput\u001b[0m\u001b[1;33m(\u001b[0m\u001b[1;33m)\u001b[0m\u001b[1;33m)\u001b[0m\u001b[1;33m\u001b[0m\u001b[1;33m\u001b[0m\u001b[0m\n\u001b[0m\u001b[0;32m      8\u001b[0m \u001b[0my\u001b[0m\u001b[1;33m=\u001b[0m\u001b[0mint\u001b[0m\u001b[1;33m(\u001b[0m\u001b[0minput\u001b[0m\u001b[1;33m(\u001b[0m\u001b[1;33m)\u001b[0m\u001b[1;33m)\u001b[0m\u001b[1;33m\u001b[0m\u001b[1;33m\u001b[0m\u001b[0m\n\u001b[0;32m      9\u001b[0m \u001b[1;33m\u001b[0m\u001b[0m\n",
      "\u001b[1;32m~\\Anaconda3\\lib\\site-packages\\ipykernel\\kernelbase.py\u001b[0m in \u001b[0;36mraw_input\u001b[1;34m(self, prompt)\u001b[0m\n\u001b[0;32m   1175\u001b[0m                 \u001b[1;34m\"raw_input was called, but this frontend does not support input requests.\"\u001b[0m\u001b[1;33m\u001b[0m\u001b[1;33m\u001b[0m\u001b[0m\n\u001b[0;32m   1176\u001b[0m             )\n\u001b[1;32m-> 1177\u001b[1;33m         return self._input_request(\n\u001b[0m\u001b[0;32m   1178\u001b[0m             \u001b[0mstr\u001b[0m\u001b[1;33m(\u001b[0m\u001b[0mprompt\u001b[0m\u001b[1;33m)\u001b[0m\u001b[1;33m,\u001b[0m\u001b[1;33m\u001b[0m\u001b[1;33m\u001b[0m\u001b[0m\n\u001b[0;32m   1179\u001b[0m             \u001b[0mself\u001b[0m\u001b[1;33m.\u001b[0m\u001b[0m_parent_ident\u001b[0m\u001b[1;33m[\u001b[0m\u001b[1;34m\"shell\"\u001b[0m\u001b[1;33m]\u001b[0m\u001b[1;33m,\u001b[0m\u001b[1;33m\u001b[0m\u001b[1;33m\u001b[0m\u001b[0m\n",
      "\u001b[1;32m~\\Anaconda3\\lib\\site-packages\\ipykernel\\kernelbase.py\u001b[0m in \u001b[0;36m_input_request\u001b[1;34m(self, prompt, ident, parent, password)\u001b[0m\n\u001b[0;32m   1217\u001b[0m             \u001b[1;32mexcept\u001b[0m \u001b[0mKeyboardInterrupt\u001b[0m\u001b[1;33m:\u001b[0m\u001b[1;33m\u001b[0m\u001b[1;33m\u001b[0m\u001b[0m\n\u001b[0;32m   1218\u001b[0m                 \u001b[1;31m# re-raise KeyboardInterrupt, to truncate traceback\u001b[0m\u001b[1;33m\u001b[0m\u001b[1;33m\u001b[0m\u001b[0m\n\u001b[1;32m-> 1219\u001b[1;33m                 \u001b[1;32mraise\u001b[0m \u001b[0mKeyboardInterrupt\u001b[0m\u001b[1;33m(\u001b[0m\u001b[1;34m\"Interrupted by user\"\u001b[0m\u001b[1;33m)\u001b[0m \u001b[1;32mfrom\u001b[0m \u001b[1;32mNone\u001b[0m\u001b[1;33m\u001b[0m\u001b[1;33m\u001b[0m\u001b[0m\n\u001b[0m\u001b[0;32m   1220\u001b[0m             \u001b[1;32mexcept\u001b[0m \u001b[0mException\u001b[0m\u001b[1;33m:\u001b[0m\u001b[1;33m\u001b[0m\u001b[1;33m\u001b[0m\u001b[0m\n\u001b[0;32m   1221\u001b[0m                 \u001b[0mself\u001b[0m\u001b[1;33m.\u001b[0m\u001b[0mlog\u001b[0m\u001b[1;33m.\u001b[0m\u001b[0mwarning\u001b[0m\u001b[1;33m(\u001b[0m\u001b[1;34m\"Invalid Message:\"\u001b[0m\u001b[1;33m,\u001b[0m \u001b[0mexc_info\u001b[0m\u001b[1;33m=\u001b[0m\u001b[1;32mTrue\u001b[0m\u001b[1;33m)\u001b[0m\u001b[1;33m\u001b[0m\u001b[1;33m\u001b[0m\u001b[0m\n",
      "\u001b[1;31mKeyboardInterrupt\u001b[0m: Interrupted by user"
     ]
    }
   ],
   "source": [
    "# 짝수화 짝수를 입력하면 곱한 값을 출력하고 홀수 와 홀수를 입력하면 덧셈 값을 출력하고 그 외는 \n",
    "#다시 입력하라는 메세지를 출력하세요.\n",
    "\n",
    "#프로그램 짤때 변수는 뭐로 잡을건지 함수를 어떻게 사용할건지 설계먼저함,\n",
    "#입력값 x,y. 정수:int,실수:플로트(?)\n",
    "\n",
    "x=int(input())\n",
    "y=int(input())\n",
    "\n",
    "if(x%2==0)&(y%2==0):\n",
    "    print(x*y)\n",
    "elif (x%2==1)&(y%2==1):\n",
    "    print(x+y)\n",
    "else:\n",
    "    print('다시 입력해 주세요')\n",
    "\n"
   ]
  },
  {
   "cell_type": "code",
   "execution_count": 39,
   "id": "aca1310f",
   "metadata": {},
   "outputs": [
    {
     "name": "stdout",
     "output_type": "stream",
     "text": [
      "2500\n"
     ]
    }
   ],
   "source": [
    "#[과제] 1부터 100까지 아래와 같이 2개의 수를 곱해서 가장 큰 수를 구하세요.\n",
    "#1*99,2*98...99*1\n",
    "\n",
    "#정답\n",
    "\n",
    "i = 1\n",
    "cal = i*(100-i)\n",
    "result = cal\n",
    "while i <= 98:\n",
    "    i += 1\n",
    "    cal = i*(100-i)\n",
    "    if cal > result:\n",
    "        result = cal\n",
    "\n",
    "print(result)"
   ]
  },
  {
   "cell_type": "code",
   "execution_count": null,
   "id": "27eca54d",
   "metadata": {},
   "outputs": [],
   "source": [
    "#[과제] []을 채워서 아래의 출력과 같이 출력하세요.\n",
    "#출력:\n",
    "numbers=[1,2,3,4,5,6,7,8,9]\n",
    "output=[[],[],[]]\n",
    "\n",
    "#[[1,4,7],[2,5,8],[3,6,9]]"
   ]
  },
  {
   "cell_type": "code",
   "execution_count": 48,
   "id": "168de72a",
   "metadata": {},
   "outputs": [
    {
     "data": {
      "text/plain": [
       "array([ 4, 10, 11,  8, 11,  2, 19, 16,  0,  0,  6, 19, 14, 10, 19,  8, 13,\n",
       "        2,  3,  2])"
      ]
     },
     "execution_count": 48,
     "metadata": {},
     "output_type": "execute_result"
    }
   ],
   "source": [
    "import numpy as np\n",
    "#np.random.seed(0) #seed를 주면 sample이 고정이 된다.\n",
    "num=np.random.randint(20,size=20)\n",
    "num\n"
   ]
  },
  {
   "cell_type": "code",
   "execution_count": 49,
   "id": "47e47e14",
   "metadata": {},
   "outputs": [
    {
     "name": "stdout",
     "output_type": "stream",
     "text": [
      "게임수:3\n",
      "[28, 5, 19, 11, 2, 45]\n",
      "[23, 11, 21, 38, 28, 17]\n",
      "[1, 21, 4, 30, 18, 8]\n"
     ]
    }
   ],
   "source": [
    "#[과제]사용자가 입력한 게임 회수만큼 로또번호를 출력하는 프로그램을 작성하세요.\n",
    "\n",
    "import random\n",
    "num=input(\"게임수:\")\n",
    "\n",
    "for i in range(0,int(num)): #0부터 num 전까지의 수 \n",
    "    lotto=random.sample(range(1,46),6) #sample은 중복방지\n",
    "    print(lotto)"
   ]
  },
  {
   "cell_type": "code",
   "execution_count": null,
   "id": "44317c4e",
   "metadata": {},
   "outputs": [],
   "source": [
    "gnum=int(input('로또 회수를 입력하세요>>'))\n",
    "for i in range(gnum):\n",
    "    li=[]\n",
    "    for j in range(6):\n",
    "        \n",
    "        #중복회피, 중복된 값이 나오면 아닐때까지 반복"
   ]
  },
  {
   "cell_type": "code",
   "execution_count": null,
   "id": "d3ff2ddf",
   "metadata": {},
   "outputs": [],
   "source": [
    "# add_mul() 함수를 정의하여 1,2,3,4,5를 입력 값으로 적용하여 덧셈,곱셈 연산을 수행하세요.\n",
    "def add_mul(choice, *args):\n",
    "    \n",
    "    \n",
    "add_mul('add', 1,2,3,4,5)"
   ]
  },
  {
   "cell_type": "code",
   "execution_count": null,
   "id": "bf2f1905",
   "metadata": {},
   "outputs": [],
   "source": [
    "def add_mul(choice, *args):\n",
    "    if choice == '+':\n",
    "        result = 0\n",
    "        for i in args:\n",
    "            result += i\n",
    "        return result\n",
    "    elif choice == '*':\n",
    "        result = 1\n",
    "        for i in args:\n",
    "            result *= i\n",
    "        return result\n",
    "    else :\n",
    "        print('수행할 수 없는 연산입니다.')\n",
    "\n",
    "add_mul('*',1,2,3,4,5)\n",
    "add_mul('+',1,2,3,4,5)"
   ]
  },
  {
   "cell_type": "code",
   "execution_count": null,
   "id": "8dfbe550",
   "metadata": {},
   "outputs": [],
   "source": [
    "# [과제] 뻴셈, 나눗셈 멀티 계산 함수를 작성\n",
    "# ('sub', 2,4,6,8,10)\n",
    "# ('div', 2,4,6,8,10)"
   ]
  },
  {
   "cell_type": "code",
   "execution_count": 178,
   "id": "90466e8c",
   "metadata": {},
   "outputs": [
    {
     "name": "stdout",
     "output_type": "stream",
     "text": [
      "-26\n",
      "0.0010416666666666667\n"
     ]
    }
   ],
   "source": [
    "def sub_div (choice, *args) :\n",
    "    if choice == \"sub\":\n",
    "        result = args[0]\n",
    "        for i in args[1:] : \n",
    "            result -= i\n",
    "        return result\n",
    "    elif choice == 'div':\n",
    "        result = args[0]\n",
    "        for i in args[1:] :\n",
    "            if i == 0:\n",
    "                return print(\"오류\")\n",
    "            result /= i\n",
    "        return result \n",
    "\n",
    "print(sub_div('sub', 2,4,6,8,10))\n",
    "print(sub_div('div', 2,4,6,8,10))"
   ]
  },
  {
   "cell_type": "code",
   "execution_count": 77,
   "id": "26f94eab",
   "metadata": {},
   "outputs": [
    {
     "name": "stdout",
     "output_type": "stream",
     "text": [
      "None\n",
      "1\n"
     ]
    }
   ],
   "source": [
    "# 함수 안에서 선언된 변수의 효력범위\n",
    "a=1 #<-전역변수, 사용자 밖에 있는건 적용 안됨\n",
    "def vartest(a): \n",
    "    a=a+1\n",
    "    \n",
    "print(vartest(a))\n",
    "print(a)\n"
   ]
  },
  {
   "cell_type": "code",
   "execution_count": 177,
   "id": "d7e0d427",
   "metadata": {},
   "outputs": [
    {
     "name": "stdout",
     "output_type": "stream",
     "text": [
      "None\n",
      "2\n"
     ]
    }
   ],
   "source": [
    "#연습\n",
    "a=2\n",
    "def vartest(a):\n",
    "    a=a+1\n",
    "    \n",
    "print(vartest(a))\n",
    "print(a)"
   ]
  },
  {
   "cell_type": "code",
   "execution_count": 84,
   "id": "72f42984",
   "metadata": {},
   "outputs": [
    {
     "name": "stdout",
     "output_type": "stream",
     "text": [
      "2\n"
     ]
    }
   ],
   "source": [
    "#함수 안에서 함수 밖의 변수를 변경하는 방법-return\n",
    "a=1\n",
    "def vartest(a): \n",
    "    a=a+1\n",
    "    return a\n",
    "a=vartest(a)\n",
    "print(a)"
   ]
  },
  {
   "cell_type": "code",
   "execution_count": 76,
   "id": "478cded0",
   "metadata": {},
   "outputs": [
    {
     "name": "stdout",
     "output_type": "stream",
     "text": [
      "2\n"
     ]
    }
   ],
   "source": [
    "#global 명령을 이용하는 방법\n",
    "a=1\n",
    "def vartest():\n",
    "    global a\n",
    "    a=a+1\n",
    "vartest()\n",
    "print(a)"
   ]
  },
  {
   "cell_type": "code",
   "execution_count": 85,
   "id": "8244878e",
   "metadata": {},
   "outputs": [
    {
     "data": {
      "text/plain": [
       "'C:\\\\hmkd1\\\\sw'"
      ]
     },
     "execution_count": 85,
     "metadata": {},
     "output_type": "execute_result"
    }
   ],
   "source": [
    "#:현재 작업폴더\n",
    "%pwd"
   ]
  },
  {
   "cell_type": "code",
   "execution_count": 87,
   "id": "66e60e10",
   "metadata": {},
   "outputs": [
    {
     "name": "stdout",
     "output_type": "stream",
     "text": [
      " C 드라이브의 볼륨에는 이름이 없습니다.\n",
      " 볼륨 일련 번호: 4E57-0E7E\n",
      "\n",
      " C:\\hmkd1\\sw 디렉터리\n",
      "\n",
      "2023-03-09  오후 03:10    <DIR>          .\n",
      "2023-03-09  오후 03:10    <DIR>          ..\n",
      "2023-03-09  오전 08:43    <DIR>          .ipynb_checkpoints\n",
      "2023-03-06  오전 10:38       651,399,256 Anaconda3-2022.10-Windows-x86_64.exe\n",
      "2023-03-09  오후 03:10           151,759 p1_기초.ipynb\n",
      "2023-03-09  오후 03:10                 0 test1.txt\n",
      "2023-03-09  오전 08:57             3,817 Untitled.ipynb\n",
      "2023-03-08  오후 04:23               849 복습.ipynb\n",
      "               5개 파일         651,555,681 바이트\n",
      "               3개 디렉터리  76,283,011,072 바이트 남음\n"
     ]
    }
   ],
   "source": [
    "#현재 폴더에 있는 파일\n",
    "!dir"
   ]
  },
  {
   "cell_type": "code",
   "execution_count": 86,
   "id": "03b4d333",
   "metadata": {},
   "outputs": [],
   "source": [
    "#파일 읽고 쓰기\n",
    "f= open('test1.txt','w') #f는 'test1.txt 라는 파일을 열어라. 'w'쓰겠다. \n",
    "f.close()\n",
    "\n",
    "#이 명령어를 실행하면 !dir 실행시 파일 추가된거 확인 가능"
   ]
  },
  {
   "cell_type": "code",
   "execution_count": 88,
   "id": "77bb3219",
   "metadata": {},
   "outputs": [],
   "source": [
    "f= open('test1.txt','w')\n",
    "for i in range (1,11):  #10줄 쓰겠다\n",
    "    data='%d번째 줄입니다.\\n'%i #i값을 받는다\n",
    "    f.write(data)\n",
    "f.close() #실제 파일에 해당 내용이 입력됨"
   ]
  },
  {
   "cell_type": "code",
   "execution_count": 102,
   "id": "e22f80b7",
   "metadata": {},
   "outputs": [
    {
     "name": "stdout",
     "output_type": "stream",
     "text": [
      "1번째 줄입니다.\n",
      "\n"
     ]
    }
   ],
   "source": [
    "f= open('test1.txt','r') #r: 읽어라\n",
    "line=f.readline() #한줄씩 읽어줌\n",
    "print(line)\n",
    "f.close()"
   ]
  },
  {
   "cell_type": "code",
   "execution_count": 104,
   "id": "678d8a15",
   "metadata": {},
   "outputs": [
    {
     "name": "stdout",
     "output_type": "stream",
     "text": [
      "1번째 줄입니다.\n",
      "\n",
      "2번째 줄입니다.\n",
      "\n",
      "3번째 줄입니다.\n",
      "\n",
      "4번째 줄입니다.\n",
      "\n",
      "5번째 줄입니다.\n",
      "\n",
      "6번째 줄입니다.\n",
      "\n",
      "7번째 줄입니다.\n",
      "\n",
      "8번째 줄입니다.\n",
      "\n",
      "9번째 줄입니다.\n",
      "\n",
      "10번째 줄입니다.\n",
      "\n"
     ]
    }
   ],
   "source": [
    "f=open('test1.txt', 'r')\n",
    "for i in range(10): #전문 읽어줌\n",
    "    line=f.readline()\n",
    "    print(line)\n",
    "f.close()"
   ]
  },
  {
   "cell_type": "code",
   "execution_count": 103,
   "id": "5fda2284",
   "metadata": {},
   "outputs": [
    {
     "name": "stdout",
     "output_type": "stream",
     "text": [
      "1번째 줄입니다.\n",
      "\n",
      "2번째 줄입니다.\n",
      "\n",
      "3번째 줄입니다.\n",
      "\n",
      "4번째 줄입니다.\n",
      "\n",
      "5번째 줄입니다.\n",
      "\n",
      "6번째 줄입니다.\n",
      "\n",
      "7번째 줄입니다.\n",
      "\n",
      "8번째 줄입니다.\n",
      "\n",
      "9번째 줄입니다.\n",
      "\n",
      "10번째 줄입니다.\n",
      "\n"
     ]
    }
   ],
   "source": [
    "#for문을 모를경우 \n",
    "f=open('test1.txt', 'r')\n",
    "while True:\n",
    "    line=f.readline()\n",
    "    if not line:break\n",
    "    print(line)\n",
    "f.close() #가로닫기 빼먹으면 오류남."
   ]
  },
  {
   "cell_type": "code",
   "execution_count": 109,
   "id": "3df4506a",
   "metadata": {},
   "outputs": [
    {
     "name": "stdout",
     "output_type": "stream",
     "text": [
      "1번째 줄입니다.\n",
      "2번째 줄입니다.\n",
      "3번째 줄입니다.\n",
      "4번째 줄입니다.\n",
      "5번째 줄입니다.\n",
      "6번째 줄입니다.\n",
      "7번째 줄입니다.\n",
      "8번째 줄입니다.\n",
      "9번째 줄입니다.\n",
      "10번째 줄입니다.\n",
      "\n"
     ]
    }
   ],
   "source": [
    "#f,read()는 파일 내용 전체를 문자열로 반환(#한줄만이 아니라 다 읽어옴) \n",
    "f=open('test1.txt','r')\n",
    "data=f.read() \n",
    "print(data)\n",
    "f.close()\n",
    "       "
   ]
  },
  {
   "cell_type": "code",
   "execution_count": null,
   "id": "fe573169",
   "metadata": {},
   "outputs": [],
   "source": [
    "f=open('test1.txt,'a') #a:add의 약자\n",
    "for i in range(11,16):\n",
    "       data='%d번째 줄입니다.\\n'%i\n",
    "       f.write\n",
    "       "
   ]
  },
  {
   "cell_type": "code",
   "execution_count": 110,
   "id": "ead39ed5",
   "metadata": {},
   "outputs": [],
   "source": [
    "#with문과 같이 사용 =()안해도 자동으로 닫힘\n",
    "with open('foo.txt','w')as f:\n",
    "    f.write('파이썬을 배웁시다')\n"
   ]
  },
  {
   "cell_type": "code",
   "execution_count": 111,
   "id": "1c3797a1",
   "metadata": {},
   "outputs": [
    {
     "name": "stdout",
     "output_type": "stream",
     "text": [
      "파이썬을 배웁시다\n"
     ]
    }
   ],
   "source": [
    "with open('foo.txt','r')as f:\n",
    "    data=f.read()\n",
    "    print(data)"
   ]
  },
  {
   "cell_type": "code",
   "execution_count": 124,
   "id": "feb56348",
   "metadata": {},
   "outputs": [],
   "source": [
    "with open('test2.txt','w')as f:\n",
    "    for i in range(1,11):\n",
    "        data=f'{i}번째 줄입니다.\\n'\n",
    "        f.write(data)\n",
    "        "
   ]
  },
  {
   "cell_type": "code",
   "execution_count": 125,
   "id": "45d9a978",
   "metadata": {},
   "outputs": [],
   "source": [
    "with open('test2.txt','a')as f:\n",
    "    for i in range(11,16):\n",
    "        data=f'{i}번째 줄입니다.\\n'\n",
    "        f.write(data)"
   ]
  },
  {
   "cell_type": "code",
   "execution_count": 126,
   "id": "bbae95ff",
   "metadata": {},
   "outputs": [
    {
     "name": "stdout",
     "output_type": "stream",
     "text": [
      "1번째 줄입니다.\n",
      "2번째 줄입니다.\n",
      "3번째 줄입니다.\n",
      "4번째 줄입니다.\n",
      "5번째 줄입니다.\n",
      "6번째 줄입니다.\n",
      "7번째 줄입니다.\n",
      "8번째 줄입니다.\n",
      "9번째 줄입니다.\n",
      "10번째 줄입니다.\n",
      "11번째 줄입니다.\n",
      "12번째 줄입니다.\n",
      "13번째 줄입니다.\n",
      "14번째 줄입니다.\n",
      "15번째 줄입니다.\n",
      "\n"
     ]
    }
   ],
   "source": [
    "with open('test2.txt','r') as f:\n",
    "    data= f.read()\n",
    "    print(data)"
   ]
  },
  {
   "cell_type": "markdown",
   "id": "aeb07c1c",
   "metadata": {},
   "source": [
    "내장함수, 외장함수 http://codedrive.tistory.com/91"
   ]
  },
  {
   "cell_type": "code",
   "execution_count": 175,
   "id": "473deae2",
   "metadata": {},
   "outputs": [
    {
     "name": "stdout",
     "output_type": "stream",
     "text": [
      "3\n",
      "False\n",
      "True\n",
      "A\n"
     ]
    }
   ],
   "source": [
    "#내장함수\n",
    "print(abs(-3))\n",
    "print(all([1,2,3,0])) #x가 모두 참이면 True, 거짓이 하나라도 있으면 False\n",
    "print(any([1,2,3,0])) #x가 하나라도 참이면 True, '모두' 거짓이면 False\n",
    "print(chr(65))#chr 아스키코드 넘버 65번=A\n"
   ]
  },
  {
   "cell_type": "code",
   "execution_count": 128,
   "id": "8c5706bb",
   "metadata": {},
   "outputs": [
    {
     "data": {
      "text/plain": [
       "7"
      ]
     },
     "execution_count": 128,
     "metadata": {},
     "output_type": "execute_result"
    }
   ],
   "source": [
    "sum=lambda a,b:a+b\n",
    "sum(3,4)"
   ]
  },
  {
   "cell_type": "code",
   "execution_count": 129,
   "id": "e44651c0",
   "metadata": {},
   "outputs": [
    {
     "name": "stdout",
     "output_type": "stream",
     "text": [
      "7\n",
      "12\n"
     ]
    }
   ],
   "source": [
    "myList=[lambda a,b:a+b,lambda a,b:a*b]\n",
    "print(myList[0](3,4))\n",
    "print(myList[1](3,4))"
   ]
  },
  {
   "cell_type": "code",
   "execution_count": 136,
   "id": "bc165585",
   "metadata": {},
   "outputs": [
    {
     "name": "stdout",
     "output_type": "stream",
     "text": [
      "7\n",
      "12\n",
      "81\n",
      "3\n",
      "0.75\n"
     ]
    }
   ],
   "source": [
    "myList=[lambda a,b:a+b,lambda a,b:a*b,lambda a,b:a**b,lambda a,b:a%b,lambda a,b:a/b]\n",
    "print(myList[0](3,4))\n",
    "print(myList[1](3,4))\n",
    "print(myList[2](3,4))\n",
    "print(myList[3](3,4))\n",
    "print(myList[4](3,4))"
   ]
  },
  {
   "cell_type": "code",
   "execution_count": 132,
   "id": "b6e84ad0",
   "metadata": {},
   "outputs": [
    {
     "name": "stdout",
     "output_type": "stream",
     "text": [
      "6\n",
      "3\n",
      "3\n"
     ]
    }
   ],
   "source": [
    "print(len('python'))\n",
    "print(len([1,2,3]))\n",
    "print(len([1,2,'a']))\n"
   ]
  },
  {
   "cell_type": "code",
   "execution_count": 139,
   "id": "f467f7d3",
   "metadata": {},
   "outputs": [
    {
     "data": {
      "text/plain": [
       "[0, -1, -2, -3, -4, -5, -6, -7, -8, -9]"
      ]
     },
     "execution_count": 139,
     "metadata": {},
     "output_type": "execute_result"
    }
   ],
   "source": [
    "list(range(5))\n",
    "list(range(1,6))\n",
    "list(range(1,10,2))\n",
    "list(range(0,-10,-1))\n"
   ]
  },
  {
   "cell_type": "code",
   "execution_count": 172,
   "id": "28294660",
   "metadata": {},
   "outputs": [
    {
     "name": "stdout",
     "output_type": "stream",
     "text": [
      "(2, 1)\n"
     ]
    }
   ],
   "source": [
    "print(divmod(7,3)) #몫과 나머지 구하는 식"
   ]
  },
  {
   "cell_type": "code",
   "execution_count": 138,
   "id": "e4dbfdc9",
   "metadata": {},
   "outputs": [
    {
     "name": "stdout",
     "output_type": "stream",
     "text": [
      "0 james\n",
      "1 tom\n",
      "2 susan\n"
     ]
    }
   ],
   "source": [
    "#순서가 있는 자료형을 입력으로 받아 인덱스 값을 포함한 enumerate 객체를 리턴\n",
    "for i, name in enumerate(['james','tom','susan']):\n",
    "    print(i,name)\n",
    "    \n",
    "    #i:인덱스 ,name: 이름"
   ]
  },
  {
   "cell_type": "code",
   "execution_count": 140,
   "id": "21e5488b",
   "metadata": {},
   "outputs": [
    {
     "name": "stdout",
     "output_type": "stream",
     "text": [
      "3\n"
     ]
    }
   ],
   "source": [
    "#실행 가능한 문자열 입력으로 받아 문자열을 실핸한 결과값을 리턴\n",
    "#eval함수: 문자열이지만 연상처리해주는 함수 \n",
    "print(eval('1+2'))"
   ]
  },
  {
   "cell_type": "code",
   "execution_count": 161,
   "id": "b6d8be6e",
   "metadata": {},
   "outputs": [],
   "source": [
    "#외장함수: 전 세계 파이썬 사용자들이 만든 유용한 프로그램을 모아 놓은 파이썬 라이브러리.\n",
    "#wb:바이너리. 저장할때 경제적이며 상대적으로 빠르게 만들어줌.\n",
    "#저장할때는 dump\n",
    "#wb 불러낼때는 리드도 rd\n",
    "#pickle은 객체의 형태를 유지하면서 파일에 저장하고 불러올 수 있게 하는 모듈\n",
    "\n",
    "import pickle\n",
    "f=open('test.txt','wb')\n",
    "data={1:'python',2:'you need'}\n",
    "pickle.dump(data,f)\n",
    "f.close()\n"
   ]
  },
  {
   "cell_type": "code",
   "execution_count": 162,
   "id": "e8dcef23",
   "metadata": {},
   "outputs": [
    {
     "name": "stdout",
     "output_type": "stream",
     "text": [
      "{1: 'python', 2: 'you need'}\n"
     ]
    }
   ],
   "source": [
    "import pickle\n",
    "f=open('test.txt','rb')\n",
    "data=pickle.load(f)\n",
    "print(data)\n",
    "f.close()"
   ]
  },
  {
   "cell_type": "code",
   "execution_count": 163,
   "id": "d0e52c20",
   "metadata": {},
   "outputs": [
    {
     "data": {
      "text/plain": [
       "'C:\\\\Users\\\\h\\\\Anaconda3;C:\\\\Users\\\\h\\\\Anaconda3\\\\Library\\\\mingw-w64\\\\bin;C:\\\\Users\\\\h\\\\Anaconda3\\\\Library\\\\usr\\\\bin;C:\\\\Users\\\\h\\\\Anaconda3\\\\Library\\\\bin;C:\\\\Users\\\\h\\\\Anaconda3\\\\Scripts;C:\\\\WINDOWS\\\\system32;C:\\\\WINDOWS;C:\\\\WINDOWS\\\\System32\\\\Wbem;C:\\\\WINDOWS\\\\System32\\\\WindowsPowerShell\\\\v1.0\\\\;C:\\\\WINDOWS\\\\System32\\\\OpenSSH\\\\;C:\\\\Users\\\\h\\\\AppData\\\\Local\\\\Microsoft\\\\WindowsApps;'"
      ]
     },
     "execution_count": 163,
     "metadata": {},
     "output_type": "execute_result"
    }
   ],
   "source": [
    "import os\n",
    "os.environ['PATH']"
   ]
  },
  {
   "cell_type": "code",
   "execution_count": 164,
   "id": "9a5ea9fc",
   "metadata": {},
   "outputs": [
    {
     "data": {
      "text/plain": [
       "'C:\\\\hmkd1\\\\sw'"
      ]
     },
     "execution_count": 164,
     "metadata": {},
     "output_type": "execute_result"
    }
   ],
   "source": [
    "%pwd"
   ]
  },
  {
   "cell_type": "code",
   "execution_count": 165,
   "id": "1fd5b9cd",
   "metadata": {},
   "outputs": [],
   "source": [
    "#폴더변경\n",
    "os.chdir('C:\\\\hmkd1')"
   ]
  },
  {
   "cell_type": "code",
   "execution_count": 166,
   "id": "5c580759",
   "metadata": {},
   "outputs": [],
   "source": [
    "os.chdir('C:\\\\hmkd1\\\\sw')"
   ]
  },
  {
   "cell_type": "code",
   "execution_count": 167,
   "id": "784e1ea2",
   "metadata": {},
   "outputs": [
    {
     "data": {
      "text/plain": [
       "'C:\\\\hmkd1\\\\sw'"
      ]
     },
     "execution_count": 167,
     "metadata": {},
     "output_type": "execute_result"
    }
   ],
   "source": [
    "os.getcwd()"
   ]
  },
  {
   "cell_type": "code",
   "execution_count": 215,
   "id": "f1b87de2",
   "metadata": {},
   "outputs": [
    {
     "name": "stdout",
     "output_type": "stream",
     "text": [
      " C 드라이브의 볼륨에는 이름이 없습니다.\n",
      " 볼륨 일련 번호: 4E57-0E7E\n",
      "\n",
      " C:\\hmkd1\\sw 디렉터리\n",
      "\n",
      "2023-03-09  오후 05:43    <DIR>          .\n",
      "2023-03-09  오후 05:43    <DIR>          ..\n",
      "2023-03-09  오전 08:43    <DIR>          .ipynb_checkpoints\n",
      "2023-03-06  오전 10:38       651,399,256 Anaconda3-2022.10-Windows-x86_64.exe\n",
      "2023-03-09  오후 03:38                17 foo.txt\n",
      "2023-03-09  오후 05:40           175,802 p1_기초.ipynb\n",
      "2023-03-09  오후 03:13               171 test1.txt\n",
      "2023-03-09  오후 03:45               261 test2.txt\n",
      "2023-03-09  오후 04:42                40 test3.txt\n",
      "2023-03-09  오후 03:41                90 tset2.txt\n",
      "2023-03-09  오전 08:57             3,817 Untitled.ipynb\n",
      "2023-03-08  오후 04:23               849 복습.ipynb\n",
      "               9개 파일         651,580,303 바이트\n",
      "               3개 디렉터리  76,224,491,520 바이트 남음\n"
     ]
    }
   ],
   "source": [
    "!dir"
   ]
  },
  {
   "cell_type": "code",
   "execution_count": 214,
   "id": "671d6172",
   "metadata": {},
   "outputs": [],
   "source": [
    "#폴더명 변경 \n",
    "import os\n",
    "os.rename('test.txt','test3.txt')"
   ]
  },
  {
   "cell_type": "code",
   "execution_count": 221,
   "id": "49930a2e",
   "metadata": {},
   "outputs": [
    {
     "data": {
      "text/plain": [
       "['C:\\\\hmkd1\\\\sw\\\\foo.txt',\n",
       " 'C:\\\\hmkd1\\\\sw\\\\test1.txt',\n",
       " 'C:\\\\hmkd1\\\\sw\\\\test2.txt',\n",
       " 'C:\\\\hmkd1\\\\sw\\\\test3.txt',\n",
       " 'C:\\\\hmkd1\\\\sw\\\\tset2.txt']"
      ]
     },
     "execution_count": 221,
     "metadata": {},
     "output_type": "execute_result"
    }
   ],
   "source": [
    "#glob()함수는 인자로 받은 패턴과 이름이 일치하는 모든 파일과 디렉토리의 리스트를 반환\n",
    "import glob\n",
    "glob.glob('C:\\\\hmkd1\\\\sw\\\\*.txt') "
   ]
  },
  {
   "cell_type": "code",
   "execution_count": 5,
   "id": "b0b3c58e",
   "metadata": {},
   "outputs": [
    {
     "name": "stdout",
     "output_type": "stream",
     "text": [
      "[0, 1, 3, 4, 5, 6]\n"
     ]
    }
   ],
   "source": [
    "#[과제] 내장함수를 이용해서 list=[0,1,2,3,4,5,6]에서 2를 삭제 후 출력하세요.(3가지 방법)\n",
    "list=[0,1,2,3,4,5,6]\n",
    "del list[2]\n",
    "print(list)"
   ]
  },
  {
   "cell_type": "code",
   "execution_count": null,
   "id": "8beb901a",
   "metadata": {},
   "outputs": [],
   "source": [
    "#[정답]\n",
    "list=[0,1,2,3,4,5,6]\n",
    "#del list[2] =인덱스 삭제\n",
    "#list.remove(2) =값\n",
    "list.pop(2)\n",
    "print(list)"
   ]
  },
  {
   "cell_type": "code",
   "execution_count": 7,
   "id": "f7f6b454",
   "metadata": {},
   "outputs": [
    {
     "name": "stdout",
     "output_type": "stream",
     "text": [
      "[]\n"
     ]
    }
   ],
   "source": [
    "#[과제] 내장함수를 이용해서 list=[0,1,2,3,4,5,6]에서 모든 원소를 삭제 후 출력하세요.\n",
    "list=[0,1,2,3,4,5,6]\n",
    "del list[:] #:은 전체\n",
    "print(list)\n",
    "    "
   ]
  },
  {
   "cell_type": "code",
   "execution_count": 6,
   "id": "0e9bc44d",
   "metadata": {},
   "outputs": [
    {
     "name": "stdout",
     "output_type": "stream",
     "text": [
      "[]\n"
     ]
    }
   ],
   "source": [
    "#[정답]\n",
    "list = [0,1,2,3,4,5,6]\n",
    "del list[:]\n",
    "print(list)"
   ]
  },
  {
   "cell_type": "code",
   "execution_count": 209,
   "id": "3a52f992",
   "metadata": {},
   "outputs": [
    {
     "name": "stdout",
     "output_type": "stream",
     "text": [
      "[1, 4, 9, 16, 25]\n",
      "[1, 2]\n"
     ]
    }
   ],
   "source": [
    "#[과제] 람다함수와 적합한 내장함수를 사용하며 아래와 같이 출력하세요\n",
    "#[1,2,3,4,5]->[1,4,9,16,25] 제곱이네..\n",
    "#[1,2,3,4,5]->[1,2]\n",
    "\n",
    "#1문: \n",
    "numlist=[1,2,3,4,5]\n",
    "result=map(lambda x: x*x,numlist)\n",
    "print(list(result))\n",
    "\n",
    "#2문:\n",
    "def even(arr):\n",
    "    result=[]\n",
    "    for i in arr:\n",
    "        if i<3:\n",
    "            result.append(i)\n",
    "    return result\n",
    "print(even([1,2,3,4,5]))"
   ]
  },
  {
   "cell_type": "code",
   "execution_count": 9,
   "id": "8ab0128b",
   "metadata": {},
   "outputs": [
    {
     "name": "stdout",
     "output_type": "stream",
     "text": [
      "[1, 4, 9, 16, 25] [1, 2]\n"
     ]
    }
   ],
   "source": [
    "#[정답]\n",
    "list=[1,2,3,4,5]\n",
    "list_n=[]\n",
    "x=lambda a:a**2  \n",
    "\n",
    "for i in list:          # [1,2,3,4,5] -> [1,4,9,16,25]\n",
    "    list_n.append(x(i))\n",
    "    \n",
    "del(list[2:])           # [1,2,3,4,5] -> [1,2]\n",
    "\n",
    "print(list_n,list)         #함수호출"
   ]
  },
  {
   "cell_type": "code",
   "execution_count": 11,
   "id": "cac666d1",
   "metadata": {},
   "outputs": [
    {
     "name": "stdout",
     "output_type": "stream",
     "text": [
      "[1, 4, 9, 16, 25] \n",
      "\n"
     ]
    },
    {
     "ename": "TypeError",
     "evalue": "'list' object is not callable",
     "output_type": "error",
     "traceback": [
      "\u001b[1;31m---------------------------------------------------------------------------\u001b[0m",
      "\u001b[1;31mTypeError\u001b[0m                                 Traceback (most recent call last)",
      "\u001b[1;32m~\\AppData\\Local\\Temp\\ipykernel_10300\\4087004627.py\u001b[0m in \u001b[0;36m<module>\u001b[1;34m\u001b[0m\n\u001b[0;32m      8\u001b[0m \u001b[0mlst2\u001b[0m\u001b[1;33m=\u001b[0m\u001b[1;33m[\u001b[0m\u001b[1;36m1\u001b[0m\u001b[1;33m,\u001b[0m\u001b[1;36m2\u001b[0m\u001b[1;33m,\u001b[0m\u001b[1;36m3\u001b[0m\u001b[1;33m,\u001b[0m\u001b[1;36m4\u001b[0m\u001b[1;33m,\u001b[0m\u001b[1;36m5\u001b[0m\u001b[1;33m]\u001b[0m\u001b[1;33m\u001b[0m\u001b[1;33m\u001b[0m\u001b[0m\n\u001b[0;32m      9\u001b[0m \u001b[0mfiltered_list\u001b[0m\u001b[1;33m=\u001b[0m\u001b[0mfilter\u001b[0m\u001b[1;33m(\u001b[0m\u001b[1;32mlambda\u001b[0m \u001b[0ma\u001b[0m\u001b[1;33m:\u001b[0m \u001b[1;33m(\u001b[0m\u001b[0ma\u001b[0m\u001b[1;33m<\u001b[0m\u001b[1;36m3\u001b[0m\u001b[1;33m)\u001b[0m\u001b[1;33m,\u001b[0m \u001b[0mlst2\u001b[0m\u001b[1;33m)\u001b[0m\u001b[1;33m\u001b[0m\u001b[1;33m\u001b[0m\u001b[0m\n\u001b[1;32m---> 10\u001b[1;33m \u001b[0mprint\u001b[0m\u001b[1;33m(\u001b[0m\u001b[0mlist\u001b[0m\u001b[1;33m(\u001b[0m\u001b[0mfiltered_list\u001b[0m\u001b[1;33m)\u001b[0m\u001b[1;33m)\u001b[0m\u001b[1;33m\u001b[0m\u001b[1;33m\u001b[0m\u001b[0m\n\u001b[0m",
      "\u001b[1;31mTypeError\u001b[0m: 'list' object is not callable"
     ]
    }
   ],
   "source": [
    "#[정답2]위의 공식 간편한 for문 버전\n",
    "x=lambda a:a**2  \n",
    "lst=[x(i) for i in range(1,6)]\n",
    "print(lst,'\\n')\n",
    "\n",
    "#여기에 del을 넣을 수도, 조건넣고 filter를 넣을 수도 있음\n",
    "\n",
    "lst2=[1,2,3,4,5]\n",
    "filtered_list=filter(lambda a: (a<3), lst2)\n",
    "print(list(filtered_list))"
   ]
  },
  {
   "cell_type": "code",
   "execution_count": 12,
   "id": "d46214b5",
   "metadata": {},
   "outputs": [
    {
     "name": "stdout",
     "output_type": "stream",
     "text": [
      "[1, 2, 6]\n"
     ]
    }
   ],
   "source": [
    "#[과제] [1,-3,2,0,-5,6]에서 양수만 필터링해서 출력하세요 (내장함수, 사용자 함수 각각 이용)\n",
    "def even(arr):\n",
    "    result=[]\n",
    "    for i in arr:\n",
    "        if i>0:\n",
    "            result.append(i)\n",
    "    return result\n",
    "print(even([1,-3,2,0,-5,6]))"
   ]
  },
  {
   "cell_type": "code",
   "execution_count": null,
   "id": "96a34395",
   "metadata": {},
   "outputs": [],
   "source": [
    "#[정답]\n",
    "filter(lambda x:x>0, list)) ★마무리하기 "
   ]
  },
  {
   "cell_type": "code",
   "execution_count": null,
   "id": "22ffeb28",
   "metadata": {
    "scrolled": true
   },
   "outputs": [],
   "source": [
    "#[과제] 내장함수를 이용하여 동일한 개수로 이루어진 자료형을 화살표 좌측에서 우측으로 변환하세요.\n",
    "\n",
    "#1문[1,2,3],[4,5,6]->[(1,4,),(2,5),(3,6)]\n",
    "a=[1,2,3]\n",
    "b=[4,5,6]\n",
    "print(list(zip(a,b)))\n",
    "\n",
    "#2문: [1,2,3],[4,5,6][7,8,9]->[(1,4,7),(2,5,8),(3,6,9)]\n",
    "a=[1,2,3]\n",
    "b=[4,5,6]\n",
    "c=[7,8,9]\n",
    "print(list(zip(a,b,c)))\n",
    "\n",
    "#3문: ('abc','def') -> [('a','d'),('b','e'),('c','f')]\n",
    "a=['a','b','c']\n",
    "b=['d','e','f']\n",
    "\n",
    "print(list(zip(a,b)))"
   ]
  },
  {
   "cell_type": "code",
   "execution_count": 16,
   "id": "00f6d9e8",
   "metadata": {},
   "outputs": [
    {
     "name": "stderr",
     "output_type": "stream",
     "text": [
      "<>:6: SyntaxWarning: list indices must be integers or slices, not tuple; perhaps you missed a comma?\n",
      "<>:6: SyntaxWarning: list indices must be integers or slices, not tuple; perhaps you missed a comma?\n"
     ]
    },
    {
     "ename": "TypeError",
     "evalue": "'type' object is not subscriptable",
     "output_type": "error",
     "traceback": [
      "\u001b[1;31m---------------------------------------------------------------------------\u001b[0m",
      "\u001b[1;31mTypeError\u001b[0m                                 Traceback (most recent call last)",
      "\u001b[1;32m~\\AppData\\Local\\Temp\\ipykernel_10300\\1437132471.py\u001b[0m in \u001b[0;36m<module>\u001b[1;34m\u001b[0m\n\u001b[0;32m      1\u001b[0m \u001b[1;31m#[정답] 강사님 ★ 다시 정리하기\u001b[0m\u001b[1;33m\u001b[0m\u001b[1;33m\u001b[0m\u001b[0m\n\u001b[0;32m      2\u001b[0m \u001b[1;33m\u001b[0m\u001b[0m\n\u001b[1;32m----> 3\u001b[1;33m \u001b[0mab\u001b[0m\u001b[1;33m=\u001b[0m\u001b[0mlist\u001b[0m\u001b[1;33m(\u001b[0m\u001b[0mzip\u001b[0m\u001b[1;33m[\u001b[0m\u001b[1;36m1\u001b[0m\u001b[1;33m,\u001b[0m\u001b[1;36m2\u001b[0m\u001b[1;33m,\u001b[0m\u001b[1;36m3\u001b[0m\u001b[1;33m]\u001b[0m\u001b[1;33m,\u001b[0m\u001b[1;33m[\u001b[0m\u001b[1;36m4\u001b[0m\u001b[1;33m,\u001b[0m\u001b[1;36m5\u001b[0m\u001b[1;33m,\u001b[0m\u001b[1;36m6\u001b[0m\u001b[1;33m]\u001b[0m\u001b[1;33m)\u001b[0m\u001b[1;33m\u001b[0m\u001b[1;33m\u001b[0m\u001b[0m\n\u001b[0m\u001b[0;32m      4\u001b[0m \u001b[0mprint\u001b[0m\u001b[1;33m(\u001b[0m\u001b[0mab\u001b[0m\u001b[1;33m)\u001b[0m\u001b[1;33m\u001b[0m\u001b[1;33m\u001b[0m\u001b[0m\n\u001b[0;32m      5\u001b[0m \u001b[1;33m\u001b[0m\u001b[0m\n",
      "\u001b[1;31mTypeError\u001b[0m: 'type' object is not subscriptable"
     ]
    }
   ],
   "source": [
    "#[정답] 강사님 ★ 다시 정리하기\n",
    "\n",
    "ab=list(zip[1,2,3],[4,5,6])\n",
    "print(ab)\n",
    "\n",
    "abc=list(zip[1,2,3],[4,5,6][7,8,9])\n",
    "print(abc)\n",
    "\n",
    "alp_1=list(zip('abc','def'))\n",
    "print(ab)"
   ]
  },
  {
   "cell_type": "code",
   "execution_count": 14,
   "id": "2fec489d",
   "metadata": {},
   "outputs": [
    {
     "name": "stdout",
     "output_type": "stream",
     "text": [
      "[(1, 4, 7), (2, 5, 8), (3, 6, 9)]\n"
     ]
    }
   ],
   "source": [
    "#[정답] 나영\n",
    "lista=[[1,2,3],[4,5,6],[7,8,9]]\n",
    "listb=sum(lista,[])\n",
    "lista_n=[]\n",
    "\n",
    "for k in range(len(lista[0])):\n",
    "    tup1=tuple(listb[k::3])\n",
    "    lista_n.append(tup1)\n",
    "\n",
    "print(lista_n)"
   ]
  },
  {
   "cell_type": "code",
   "execution_count": 15,
   "id": "a864b610",
   "metadata": {},
   "outputs": [
    {
     "ename": "KeyboardInterrupt",
     "evalue": "Interrupted by user",
     "output_type": "error",
     "traceback": [
      "\u001b[1;31m---------------------------------------------------------------------------\u001b[0m",
      "\u001b[1;31mKeyboardInterrupt\u001b[0m                         Traceback (most recent call last)",
      "\u001b[1;32m~\\AppData\\Local\\Temp\\ipykernel_10300\\4095516425.py\u001b[0m in \u001b[0;36m<module>\u001b[1;34m\u001b[0m\n\u001b[0;32m      2\u001b[0m \u001b[1;32mwhile\u001b[0m \u001b[1;36m1\u001b[0m\u001b[1;33m:\u001b[0m\u001b[1;33m\u001b[0m\u001b[1;33m\u001b[0m\u001b[0m\n\u001b[0;32m      3\u001b[0m     \u001b[1;32mtry\u001b[0m\u001b[1;33m:\u001b[0m\u001b[1;33m\u001b[0m\u001b[1;33m\u001b[0m\u001b[0m\n\u001b[1;32m----> 4\u001b[1;33m         \u001b[0mnum\u001b[0m \u001b[1;33m=\u001b[0m \u001b[0mint\u001b[0m\u001b[1;33m(\u001b[0m\u001b[0minput\u001b[0m\u001b[1;33m(\u001b[0m\u001b[1;34m\"리스트에 몇개의 값을 넣을 것인가요?: \"\u001b[0m\u001b[1;33m)\u001b[0m\u001b[1;33m)\u001b[0m\u001b[1;33m\u001b[0m\u001b[1;33m\u001b[0m\u001b[0m\n\u001b[0m\u001b[0;32m      5\u001b[0m     \u001b[1;32mexcept\u001b[0m \u001b[0mValueError\u001b[0m\u001b[1;33m:\u001b[0m\u001b[1;33m\u001b[0m\u001b[1;33m\u001b[0m\u001b[0m\n\u001b[0;32m      6\u001b[0m         \u001b[0mprint\u001b[0m\u001b[1;33m(\u001b[0m\u001b[1;34m\"숫자가 아닙니다.\"\u001b[0m\u001b[1;33m)\u001b[0m\u001b[1;33m\u001b[0m\u001b[1;33m\u001b[0m\u001b[0m\n",
      "\u001b[1;32m~\\Anaconda3\\lib\\site-packages\\ipykernel\\kernelbase.py\u001b[0m in \u001b[0;36mraw_input\u001b[1;34m(self, prompt)\u001b[0m\n\u001b[0;32m   1175\u001b[0m                 \u001b[1;34m\"raw_input was called, but this frontend does not support input requests.\"\u001b[0m\u001b[1;33m\u001b[0m\u001b[1;33m\u001b[0m\u001b[0m\n\u001b[0;32m   1176\u001b[0m             )\n\u001b[1;32m-> 1177\u001b[1;33m         return self._input_request(\n\u001b[0m\u001b[0;32m   1178\u001b[0m             \u001b[0mstr\u001b[0m\u001b[1;33m(\u001b[0m\u001b[0mprompt\u001b[0m\u001b[1;33m)\u001b[0m\u001b[1;33m,\u001b[0m\u001b[1;33m\u001b[0m\u001b[1;33m\u001b[0m\u001b[0m\n\u001b[0;32m   1179\u001b[0m             \u001b[0mself\u001b[0m\u001b[1;33m.\u001b[0m\u001b[0m_parent_ident\u001b[0m\u001b[1;33m[\u001b[0m\u001b[1;34m\"shell\"\u001b[0m\u001b[1;33m]\u001b[0m\u001b[1;33m,\u001b[0m\u001b[1;33m\u001b[0m\u001b[1;33m\u001b[0m\u001b[0m\n",
      "\u001b[1;32m~\\Anaconda3\\lib\\site-packages\\ipykernel\\kernelbase.py\u001b[0m in \u001b[0;36m_input_request\u001b[1;34m(self, prompt, ident, parent, password)\u001b[0m\n\u001b[0;32m   1217\u001b[0m             \u001b[1;32mexcept\u001b[0m \u001b[0mKeyboardInterrupt\u001b[0m\u001b[1;33m:\u001b[0m\u001b[1;33m\u001b[0m\u001b[1;33m\u001b[0m\u001b[0m\n\u001b[0;32m   1218\u001b[0m                 \u001b[1;31m# re-raise KeyboardInterrupt, to truncate traceback\u001b[0m\u001b[1;33m\u001b[0m\u001b[1;33m\u001b[0m\u001b[0m\n\u001b[1;32m-> 1219\u001b[1;33m                 \u001b[1;32mraise\u001b[0m \u001b[0mKeyboardInterrupt\u001b[0m\u001b[1;33m(\u001b[0m\u001b[1;34m\"Interrupted by user\"\u001b[0m\u001b[1;33m)\u001b[0m \u001b[1;32mfrom\u001b[0m \u001b[1;32mNone\u001b[0m\u001b[1;33m\u001b[0m\u001b[1;33m\u001b[0m\u001b[0m\n\u001b[0m\u001b[0;32m   1220\u001b[0m             \u001b[1;32mexcept\u001b[0m \u001b[0mException\u001b[0m\u001b[1;33m:\u001b[0m\u001b[1;33m\u001b[0m\u001b[1;33m\u001b[0m\u001b[0m\n\u001b[0;32m   1221\u001b[0m                 \u001b[0mself\u001b[0m\u001b[1;33m.\u001b[0m\u001b[0mlog\u001b[0m\u001b[1;33m.\u001b[0m\u001b[0mwarning\u001b[0m\u001b[1;33m(\u001b[0m\u001b[1;34m\"Invalid Message:\"\u001b[0m\u001b[1;33m,\u001b[0m \u001b[0mexc_info\u001b[0m\u001b[1;33m=\u001b[0m\u001b[1;32mTrue\u001b[0m\u001b[1;33m)\u001b[0m\u001b[1;33m\u001b[0m\u001b[1;33m\u001b[0m\u001b[0m\n",
      "\u001b[1;31mKeyboardInterrupt\u001b[0m: Interrupted by user"
     ]
    }
   ],
   "source": [
    "#[정답2] :김동완\n",
    "while 1:\n",
    "    try:\n",
    "        num = int(input(\"리스트에 몇개의 값을 넣을 것인가요?: \"))\n",
    "    except ValueError:\n",
    "        print(\"숫자가 아닙니다.\")\n",
    "    else:\n",
    "        break\n",
    "\n",
    "i = 0\n",
    "list1 = []\n",
    "list2 = []\n",
    "while i < num:\n",
    "    plus1 = input(f\"{i+1} 번째로 넣고 싶은 문자를 입력해주세요(1번째 집합): \")\n",
    "    plus2 = input(f\"{i+1} 번째로 넣고 싶은 문자를 입력해주세요(2번째 집합): \")\n",
    "    list1.append(plus1)\n",
    "    list2.append(plus2)\n",
    "    i += 1\n",
    "i = 0\n",
    "lastlist = []\n",
    "while i < num:\n",
    "    lastlist.append((list1[i],list2[i]))\n",
    "    i += 1\n",
    "\n",
    "print(lastlist)"
   ]
  },
  {
   "cell_type": "code",
   "execution_count": 239,
   "id": "220e3eeb",
   "metadata": {
    "scrolled": false
   },
   "outputs": [
    {
     "name": "stdout",
     "output_type": "stream",
     "text": [
      "1,2,3을 순차적으로 입력하세요: 1\n",
      "2\n",
      "3\n",
      "입력하신 수의 평균은 2입니다.\n"
     ]
    }
   ],
   "source": [
    "#[과제] 입력으로 들어오는 모든 수의 평균값을 계산해 주는 함수를 작성한 후 1,2,3을 입력한 결과를 출력하세요.\n",
    "\n",
    "x=int(input(\"1,2,3을 순차적으로 입력하세요: \"))\n",
    "y=int(input())\n",
    "z=int(input())\n",
    "h=(x+y+z)//3\n",
    "print(f'입력하신 수의 평균은 {h}입니다.')\n"
   ]
  },
  {
   "cell_type": "code",
   "execution_count": 19,
   "id": "1448a779",
   "metadata": {},
   "outputs": [
    {
     "name": "stdout",
     "output_type": "stream",
     "text": [
      "평균값을 구할 숫자를 모두 입력해주세요(콤마로 구분): 1,2,3\n",
      "합: 6\n",
      "평균: 2.00\n"
     ]
    }
   ],
   "source": [
    "#[정답] 김나영\n",
    "def sum(mun):\n",
    "    print(f\"합: {eval(mun)}\")    #입력된 문자열이 연산이 가능한 형태면 연산해 줌\n",
    "    print(f\"평균: {(eval(mun)/len(mun.split('+'))):0.2f}\")\n",
    "\n",
    "###################################################\n",
    "\n",
    "mun=input(\"평균값을 구할 숫자를 모두 입력해주세요(콤마로 구분): \")\n",
    "mun_n=mun.replace(',','+')    #1,2,3 -> 1+2+3\n",
    "\n",
    "sum(mun_n)"
   ]
  },
  {
   "cell_type": "code",
   "execution_count": 21,
   "id": "60f61370",
   "metadata": {},
   "outputs": [
    {
     "name": "stdout",
     "output_type": "stream",
     "text": [
      "2.0\n"
     ]
    }
   ],
   "source": [
    "#[정답] 남동연 ★설명듣기\n",
    "def average(*args):   #여러개의 인자값을 튜플로 받음 \n",
    "    x=0\n",
    "    for i in args:\n",
    "        x=(x+i)\n",
    "    result=x/len(args) \n",
    "    return result  #리턴을 써서 입력값도 있고 결과값도 있음.\n",
    "\n",
    "r=average(1,2,3)    \n",
    "print(r)"
   ]
  },
  {
   "cell_type": "code",
   "execution_count": null,
   "id": "026d0a2b",
   "metadata": {},
   "outputs": [],
   "source": [
    "#args tuple for문"
   ]
  },
  {
   "cell_type": "code",
   "execution_count": 22,
   "id": "8587c3e6",
   "metadata": {},
   "outputs": [],
   "source": [
    "#[과제] strings를 다양한 문자가 포함된 순서로 정렬하세요.\n",
    "strings=['a','ca','bar','aaaa','ababa']"
   ]
  },
  {
   "cell_type": "code",
   "execution_count": 33,
   "id": "bb9826fa",
   "metadata": {},
   "outputs": [
    {
     "data": {
      "text/plain": [
       "['bar', 'ababa', 'ca', 'aaaa', 'a']"
      ]
     },
     "execution_count": 33,
     "metadata": {},
     "output_type": "execute_result"
    }
   ],
   "source": [
    "#[정답]\n",
    "\n",
    "strings=['a', 'ca', 'bar', 'aaaa', 'ababa']\n",
    "strings.sort(key=lambda x:len(set(x)))\n",
    "strings[::-1]"
   ]
  },
  {
   "cell_type": "code",
   "execution_count": 31,
   "id": "083763b6",
   "metadata": {},
   "outputs": [],
   "source": [
    "#[과제] 튜플 형태인 strings를 다양한 문자가 포함된 순서로 정렬하세요,\n",
    "strings = ('a', 'ca', 'bar', 'aaaa', 'ababa')"
   ]
  },
  {
   "cell_type": "code",
   "execution_count": 32,
   "id": "bd3c906c",
   "metadata": {},
   "outputs": [],
   "source": [
    "#[정답] 김나영\n",
    "#튜플은 수정이 되긴 하지만 sort가 안먹는다.(튜플에 sort속성이 없음.) - list로 바꿔준다. \n",
    "strings = ('a', 'ca', 'bar', 'aaaa', 'ababa')\n",
    "s_list=list(strings) #list로 변경해주는 방법\n",
    "s_list.sort(key=lambda x:len(set(x)))     #기본 정렬(오름차순)\n",
    "\n",
    "print(s_list[::-1])     #거꾸로 출력(내림차순으로 나오게)"
   ]
  },
  {
   "cell_type": "code",
   "execution_count": 24,
   "id": "a9bc5fca",
   "metadata": {},
   "outputs": [
    {
     "name": "stdout",
     "output_type": "stream",
     "text": [
      "news.naver.com\n"
     ]
    }
   ],
   "source": [
    "#[과제]  url에서 호스트 도메인을 추출하여 출력하세요.\n",
    "#url = news.naver.com/ 이게 호스트 \n",
    "url = 'http://news.naver.com/main/read.nhn?mode=LSD&mid=shm&sid1=105&oid=028&aid=0002334601'\n",
    "tmp = url.split('/')\n",
    "domain = tmp[2]\n",
    "print(domain)"
   ]
  },
  {
   "cell_type": "code",
   "execution_count": 34,
   "id": "a4e71c34",
   "metadata": {},
   "outputs": [
    {
     "data": {
      "text/plain": [
       "'news.naver.com'"
      ]
     },
     "execution_count": 34,
     "metadata": {},
     "output_type": "execute_result"
    }
   ],
   "source": [
    "#[정답] 강사님\n",
    "url = 'http://news.naver.com/main/read.nhn?mode=LSD&mid=shm&sid1=105&oid=028&aid=0002334601'\n",
    "x= url.split('/') #'/'기준으로 자른다\n",
    "x[2]"
   ]
  },
  {
   "cell_type": "code",
   "execution_count": 25,
   "id": "b90d4aeb",
   "metadata": {},
   "outputs": [
    {
     "name": "stdout",
     "output_type": "stream",
     "text": [
      "{'mode': ['LSD'], 'mid': ['shm'], 'sid1': ['105'], 'oid': ['028'], 'aid': ['0002334601']}\n"
     ]
    }
   ],
   "source": [
    "#[과제] url에서 쿼리문을 추출하여 출력하세요. \n",
    "#쿼리=질의\n",
    "# url에서 '?'뒤에 표시되는 문자열을 쿼리 문자열이라고 하며 변수=값 사이 '&'로 구분되어 나열된다.\n",
    "#url = 'http://news.naver.com/main/read.nhn?mode=LSD&mid=shm&sid1=105&oid=028&aid=0002334601'\n",
    "\n",
    "from urllib.parse import urlparse, parse_qs\n",
    "url = 'http://news.naver.com/main/read.nhn?mode=LSD&mid=shm&sid1=105&oid=028&aid=0002334601'\n",
    "\n",
    "parsed_url=urlparse(url)\n",
    "query_string=parsed_url.query\n",
    "query_dict=parse_qs(query_string)\n",
    "\n",
    "print(query_dict)"
   ]
  },
  {
   "cell_type": "code",
   "execution_count": 36,
   "id": "169b3111",
   "metadata": {},
   "outputs": [
    {
     "name": "stdout",
     "output_type": "stream",
     "text": [
      "mode=LSD&mid=shm&sid1=105&oid=028&aid=0002334601\n",
      "['mode=LSD', 'mid=shm', 'sid1=105', 'oid=028', 'aid=0002334601']\n"
     ]
    }
   ],
   "source": [
    "#[정답] 김나영\n",
    "url = 'http://news.naver.com/main/read.nhn?mode=LSD&mid=shm&sid1=105&oid=028&aid=0002334601'\n",
    "\n",
    "do=url.find('?') #find -찾기\n",
    "print(url[do+1:])   #쿼리문 전체\n",
    "\n",
    "qr=[]\n",
    "qr=url[do+1:].split('&')   #각 '변수=값' 분리\n",
    "print(qr)"
   ]
  },
  {
   "cell_type": "code",
   "execution_count": 37,
   "id": "cb221747",
   "metadata": {},
   "outputs": [
    {
     "name": "stdout",
     "output_type": "stream",
     "text": [
      "mode=LSD\n",
      "mid=shm\n",
      "sid1=105\n",
      "oid=028\n",
      "aid=0002334601\n"
     ]
    }
   ],
   "source": [
    "#[정답] 강사님\n",
    "url = 'http://news.naver.com/main/read.nhn?mode=LSD&mid=shm&sid1=105&oid=028&aid=0002334601'\n",
    "tmp=url.split('?')\n",
    "queries=tmp[1].split('&')\n",
    "for query in queries:\n",
    "    print(query)"
   ]
  },
  {
   "cell_type": "code",
   "execution_count": 39,
   "id": "b24f90a2",
   "metadata": {},
   "outputs": [
    {
     "name": "stdout",
     "output_type": "stream",
     "text": [
      "['mode=LSD', 'mid=shm', 'sid1=105', 'oid=028', 'aid=0002334601']\n"
     ]
    }
   ],
   "source": [
    "#[정답] 남동연\n",
    "url = 'http://news.naver.com/main/read.nhn?mode=LSD&mid=shm&sid1=105&oid=028&aid=0002334601'\n",
    "\n",
    "x=url.split('?')\n",
    "query=x[1]\n",
    "a=query.split('&')\n",
    "print(a)"
   ]
  },
  {
   "cell_type": "code",
   "execution_count": 242,
   "id": "31173a2c",
   "metadata": {},
   "outputs": [
    {
     "name": "stdout",
     "output_type": "stream",
     "text": [
      "{'mode': ['LSD'], 'mid': ['shm'], 'sid1': ['105'], 'oid': ['028'], 'aid': ['0002334601']}\n"
     ]
    }
   ],
   "source": [
    "\n",
    "#gpt값\n",
    "\n",
    "from urllib.parse import urlparse, parse_qs\n",
    "\n",
    "url = 'http://news.naver.com/main/read.nhn?mode=LSD&mid=shm&sid1=105&oid=028&aid=0002334601'\n",
    "\n",
    "# urlparse() 함수를 사용하여 URL을 구문 분석합니다.\n",
    "parsed_url = urlparse(url)\n",
    "\n",
    "# parse_qs() 함수를 사용하여 쿼리 문자열을 딕셔너리 형태로 파싱합니다.\n",
    "query_dict = parse_qs(parsed_url.query)\n",
    "\n",
    "# 파싱된 쿼리 딕셔너리를 출력합니다.\n",
    "print(query_dict)\n",
    "\n",
    "#딕셔너리의 각 키는 쿼리 문자열에서의 매개변수 이름을 나타내며,\n",
    "#값은 해당 매개변수의 값들을 리스트로 포함합니다."
   ]
  },
  {
   "cell_type": "code",
   "execution_count": 26,
   "id": "b186b374",
   "metadata": {},
   "outputs": [
    {
     "ename": "SyntaxError",
     "evalue": "invalid syntax (3340991934.py, line 1)",
     "output_type": "error",
     "traceback": [
      "\u001b[1;36m  File \u001b[1;32m\"C:\\Users\\h\\AppData\\Local\\Temp\\ipykernel_10300\\3340991934.py\"\u001b[1;36m, line \u001b[1;32m1\u001b[0m\n\u001b[1;33m    sort,sorted 모두 key,reverse 매개변수를 갖고 있다.\u001b[0m\n\u001b[1;37m                                           ^\u001b[0m\n\u001b[1;31mSyntaxError\u001b[0m\u001b[1;31m:\u001b[0m invalid syntax\n"
     ]
    }
   ],
   "source": [
    "#sort,sorted 모두 key,reverse 매개변수를 갖고 있다.\n",
    "- reverse:"
   ]
  },
  {
   "cell_type": "code",
   "execution_count": null,
   "id": "9f9d4396",
   "metadata": {},
   "outputs": [],
   "source": []
  },
  {
   "cell_type": "code",
   "execution_count": null,
   "id": "cafcd45b",
   "metadata": {},
   "outputs": [],
   "source": []
  }
 ],
 "metadata": {
  "kernelspec": {
   "display_name": "Python 3 (ipykernel)",
   "language": "python",
   "name": "python3"
  },
  "language_info": {
   "codemirror_mode": {
    "name": "ipython",
    "version": 3
   },
   "file_extension": ".py",
   "mimetype": "text/x-python",
   "name": "python",
   "nbconvert_exporter": "python",
   "pygments_lexer": "ipython3",
   "version": "3.9.13"
  }
 },
 "nbformat": 4,
 "nbformat_minor": 5
}
